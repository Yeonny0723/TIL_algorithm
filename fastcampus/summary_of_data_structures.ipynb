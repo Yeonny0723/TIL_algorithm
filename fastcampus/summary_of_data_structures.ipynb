{
 "cells": [
  {
   "cell_type": "markdown",
   "id": "70af3862",
   "metadata": {},
   "source": [
    "<br></br>\n",
    "<br></br>\n",
    "<h1><center>Summary of Data Structures</center></h1>\n",
    "<h4><center>Fast campus</center></h4>\n",
    "<br>\n",
    "<div style=\"text-align: right\"><h4>18/06/2022~##/##/2022</h4></div>\n",
    "<div style=\"text-align: right\"><h4>Juyeon Kim</h4></div>\n",
    "<br></br>\n",
    "<br></br>"
   ]
  },
  {
   "cell_type": "markdown",
   "id": "52d9072c",
   "metadata": {},
   "source": [
    "### 자료구조란?\n",
    "\n",
    "- 현실세계 -> 컴퓨터 세계로 옮기려면, 데이터를 잘 구조화해 저장해야해. 왜? 어떤 구조를 사용하냐에 따라 코드 효율(성능)이 달라져! <br>\n",
    "e.g. 5자리 우편번호: 앞 3자리 - 시,군,구. 뒤 2자리 - 일련번호. \n",
    "\n",
    "\n",
    "- 대표적인 자료구조? <br>\n",
    "배열, 스택, 큐, 링크드 리스트, 해쉬 테이블, 힙 등\n",
    "\n",
    "\n",
    "- 알고리즘이란? <br>\n",
    "어떤 문제에 대하여, 특정 입력을 넣으면 원하는 출력을 얻을 수 있도록 만드는 프로그래밍"
   ]
  },
  {
   "cell_type": "markdown",
   "id": "fed3ac22",
   "metadata": {},
   "source": [
    "### 배열 왜 필요?\n",
    "\n",
    "- 1. 같은 종류의 데이터를 효율적으로 관리\n",
    "- 2. 같은 종류의 데이터를 순차적으로 저장\n",
    "\n",
    "\n",
    "* 장점? <br>\n",
    "빠른 접근: 인덱스 번호로 상대적인 위치로 접근 가능 \n",
    "\n",
    "\n",
    "* 단점? (파이썬 자체는 이를 보완해주는 기능을 가지고 있어, 단점을 떠올리기 쉽지 않음) <br>\n",
    "데이터의 추가 및 삭제 어려움 <br>\n",
    "a. 미리 최대 길이 지정 필요 <br>\n",
    "b. 데이터 추가 시 같은 길이의 새 배열을 만들어야할 수 있음.<br>\n",
    "c. 데이터 삭제 시 뒤 연결 데이터를 앞으로 댕겨야함<br>"
   ]
  },
  {
   "cell_type": "markdown",
   "id": "55839281",
   "metadata": {},
   "source": [
    "### 큐?\n",
    "-first come, first serve (FIFO: first-in, first-out) | (LILO: last-in, last-out) <br>\n",
    "-꺼낸 놈 빠지고 , 나머지 당겨짐 <br>\n",
    "\n",
    "\n",
    "* 큐 언제쓰여? <br>\n",
    "운영체제, 네트워크에서 많이 쓰임 <br>\n",
    "운영체제에서 멀티 테스킹을 위한 프로세스 스케쥴링 방식을 구현할 떄 많이 사용 돼 <br>\n",
    "\n",
    "\n",
    "* 용어! <br>\n",
    "enqueue: 큐에 데이터를 넣는 거 <br>\n",
    "dequeue: 큐에 데이터를 꺼내는 거 <br>\n",
    "\n",
    "\n",
    "* 구현"
   ]
  },
  {
   "cell_type": "code",
   "execution_count": 1,
   "id": "653d5313",
   "metadata": {},
   "outputs": [
    {
     "data": {
      "text/plain": [
       "(5, 1)"
      ]
     },
     "execution_count": 1,
     "metadata": {},
     "output_type": "execute_result"
    }
   ],
   "source": [
    "## Method 1. FIFO\n",
    "import queue\n",
    "# (1) create\n",
    "data_queue = queue.Queue()\n",
    "# (2) insert\n",
    "data_queue.put(\"funcoding\")\n",
    "# (3) read & pop\n",
    "data_queue.get()\n",
    "# (4) length\n",
    "data_queue.qsize()\n",
    "\n",
    "## Method 2. LIFO (변형된 큐. 마지막 오면 첫놈 빠져)\n",
    "import queue\n",
    "data_queue = queue.LifoQueue()\n",
    "\n",
    "## Method 3. PriorityQueue (우선순위 큐)\n",
    "import queue\n",
    "data_queue = queue.PriorityQueue()\n",
    "data_queue.put((10, \"korea\")) # (_priority_rank_, value)\n",
    "data_queue.put((5, 1))\n",
    "data_queue.put((15, \"china\"))\n",
    "data_queue.get()"
   ]
  },
  {
   "cell_type": "markdown",
   "id": "5ba149b8",
   "metadata": {},
   "source": [
    "### 스택?\n",
    "쌓는 모양 (https://visualgo.net/en/list) <br>\n",
    "LIFO (last in first out) 책 쌓아. 책 읽는다고 하면 마지막에 쌓은 책 먼저 뽑겠지.<br>\n",
    "\n",
    "\n",
    "- 언제사용?<br>\n",
    "컴퓨터 내부 프로세스 함수 동작 시 사용...<br>\n",
    "프로세스가 어떻게 동작하냐?<br>\n",
    "18:06. 시작 후 다음 태스크를 호출하고, 그 다음 태스크를 호출하는 식으로 재귀 형태로 반복됨. 다음 태스크가 진행 중이라는 사실을 스택 형태로 저장해서, 가장 마지막 코어 태스크가 끝나면, 그 데이터가 삭제되고, 그 이전, 그 이전이전 태스크가 순서대로 삭제됨.<br>\n",
    "\n",
    "\n",
    "- 장점?<br>\n",
    "구조 단순. 구현 쉬워. 그래서 저장/읽기 빨라.\n",
    "\n",
    "\n",
    "- 단점?<br>\n",
    "최대 저장 갯수 미리 설정해야함. 그래서 파이썬 재귀함수는 천번까지만 호출 가능.\n",
    "\n",
    "\n",
    "- 구현"
   ]
  },
  {
   "cell_type": "code",
   "execution_count": 2,
   "id": "99fc5ae3",
   "metadata": {},
   "outputs": [
    {
     "data": {
      "text/plain": [
       "1"
      ]
     },
     "execution_count": 2,
     "metadata": {},
     "output_type": "execute_result"
    }
   ],
   "source": [
    "data_stack = list()\n",
    "data_stack.append(1)\n",
    "data_stack.pop()"
   ]
  },
  {
   "cell_type": "markdown",
   "id": "d63ddbd4",
   "metadata": {},
   "source": [
    "### 링크드리스트란 (==연결리스트)?\n",
    "\n",
    "- 등장배경? <br>\n",
    "연결된 데이터저장소를 미리 예약해야하는 단점을 보안하기 위해 만들어짐.\n",
    "\n",
    "\n",
    "- 형태? <br>\n",
    "노드(데이터값+이어질 다음 데이터를 가리킬 포인터가 저장된 공간)가 하나의 저장단위로서 저장됨.\n",
    "\n",
    "\n",
    "- 장단점? <br>\n",
    "장점: 미리 공간을 할당하지 않아도 됨<br>\n",
    "단점: 주소 저장을 위한 별도의 공간이 필요함. 저장효율이 높지 않음. 인덱스가 없으므로 특정 데이터를 찾을 때 접근 속도가 느림.<br>\n",
    "\n",
    "\n",
    "- 파이썬으로 구현?"
   ]
  },
  {
   "cell_type": "markdown",
   "id": "e0f7465e",
   "metadata": {},
   "source": [
    "* Node 구현"
   ]
  },
  {
   "cell_type": "code",
   "execution_count": 3,
   "id": "7da6b047",
   "metadata": {},
   "outputs": [],
   "source": [
    "class Node:\n",
    "    def __init__(self, data, next=None):\n",
    "        self.data = data\n",
    "        self.next = next\n",
    "        \n",
    "node1 = Node(1)\n",
    "node2 = Node(2)\n",
    "node1.next = node2 # node2 object를 프린트하면 저장된 주소가 저장돠어있음을 알 수 있음.\n",
    "head = node1 # 별도의 변수를 두어 가장 처음의 노드 주소를 저장"
   ]
  },
  {
   "cell_type": "markdown",
   "id": "b84610b4",
   "metadata": {},
   "source": [
    "* 링크드 리스트 데이터 추가: <br>\n",
    "를 위해서는 바로 이전 노드의 데이터에 새로운 노드 주소를 기입해야함. 그 주소는 맨 처음 head node부터 저장된 주소를 루프타고 들어가야 알 수 있음.  <br>\n",
    "node 주소에 저장된 값이 없으면 그게 마지막 원소. <br>"
   ]
  },
  {
   "cell_type": "code",
   "execution_count": 4,
   "id": "23af7428",
   "metadata": {},
   "outputs": [],
   "source": [
    "class Node:\n",
    "    def __init__(self, data, next=None):\n",
    "        self.data = data\n",
    "        self.next = next\n",
    "\n",
    "def add(data):\n",
    "    node = head # 시작 노드\n",
    "    while node.next:\n",
    "        node = node.next # 다음 노드로 옮겨가기\n",
    "        node.next = Node(data) # 마지막 노드에 도달했을 때, 새로운 노드 생성\n",
    "\n",
    "node1 = Node(1)\n",
    "head = node1\n",
    "for index in range(2, 10):\n",
    "    add(index)"
   ]
  },
  {
   "cell_type": "markdown",
   "id": "7c9a2483",
   "metadata": {},
   "source": [
    "* 링크드 리스트 복잡한 기능 <br>\n",
    "(1) 기존 노드 사이에 새로운 노드 추가"
   ]
  },
  {
   "cell_type": "code",
   "execution_count": 5,
   "id": "edeac1a8",
   "metadata": {},
   "outputs": [
    {
     "name": "stdout",
     "output_type": "stream",
     "text": [
      "1\n",
      "1.5\n"
     ]
    }
   ],
   "source": [
    "# node1 & 2 사이에 삽입할 노드\n",
    "node_1_5 = Node(1.5)\n",
    "\n",
    "node = head\n",
    "search = True\n",
    "while search:\n",
    "    if node.data == 1:\n",
    "        search = False\n",
    "    else:\n",
    "        node = node.next\n",
    "    \n",
    "node_1_adrs = node.next\n",
    "node.next = node_1_5\n",
    "node_1_5.next = node_1_adrs\n",
    "\n",
    "# 삽입여부 확인\n",
    "node = head\n",
    "while node.next:\n",
    "    print(node.data)\n",
    "    node = node.next\n",
    "print(node.data)"
   ]
  },
  {
   "cell_type": "markdown",
   "id": "3cd17e8b",
   "metadata": {},
   "source": [
    "(2) 링크드리스트 삭제 (3가지 케이스) <br>\n",
    "case 1. head 삭제 - 그냥 삭제 <br>\n",
    "case 2. 중간 노드 삭제 - 삭제 후 전후 노드 주소 변경 <br>\n",
    "case 3. 마지막 노드 삭제 - 삭제 후 앞 주소 null <br>"
   ]
  },
  {
   "cell_type": "code",
   "execution_count": 6,
   "id": "cd01fbc7",
   "metadata": {},
   "outputs": [],
   "source": [
    "def delete(data):\n",
    "    node = head\n",
    "    if node.data == data: # case 1\n",
    "        del node\n",
    "    else: # case 2 & 3\n",
    "        node = head\n",
    "        search = True\n",
    "        while search:\n",
    "            if node.next.data == data:\n",
    "                node.next = node.next.next\n",
    "                del node\n",
    "                search = False\n",
    "                return # stop looping\n",
    "        else:\n",
    "            node = node.next"
   ]
  },
  {
   "cell_type": "markdown",
   "id": "8693f19c",
   "metadata": {},
   "source": [
    "* 파이썬 OOP 활용 링크드 리스트 구현***"
   ]
  },
  {
   "cell_type": "code",
   "execution_count": 7,
   "id": "b210fab5",
   "metadata": {},
   "outputs": [],
   "source": [
    "class Node:\n",
    "    def __init__(self, data, next=None):\n",
    "        self.data = data\n",
    "        self.next = next\n",
    "    \n",
    "class NodeMgmt:\n",
    "    def __init__(self, data):\n",
    "        self.head = Node(data)\n",
    "        \n",
    "    def add(self, data):\n",
    "        if self.head == '':\n",
    "            self.head = Node(data)\n",
    "        else:\n",
    "            node = self.head\n",
    "            while node.next:\n",
    "                node = node.next\n",
    "            node.next = Node(data)\n",
    "        \n",
    "    def desc(self):\n",
    "        node = self.head\n",
    "        while node:\n",
    "            print (node.data)\n",
    "            node = node.next\n",
    "    \n",
    "    def delete(self, data):\n",
    "        if self.head == '':\n",
    "            print (\"해당 값을 가진 노드가 없습니다.\")\n",
    "            return\n",
    "        \n",
    "        if self.head.data == data:  # 경우의 수1: self.head를 삭제해야할 경우 - self.head를 바꿔줘야 함\n",
    "            temp = self.head # 삭제하려는 노드를 임시로 temp에 담아서 객체를 삭제했음\n",
    "            self.head = self.head.next\n",
    "            del temp\n",
    "            \n",
    "        else: # 경우의 수2: self.head가 아닌 노드를 삭제해야할 경우\n",
    "            node = self.head\n",
    "            while node.next:\n",
    "                if node.next.data == data:\n",
    "                    temp = node.next\n",
    "                    node.next = node.next.next\n",
    "                    del temp\n",
    "                    return\n",
    "                else:\n",
    "                    node = node.next"
   ]
  }
 ],
 "metadata": {
  "kernelspec": {
   "display_name": "Python 3",
   "language": "python",
   "name": "python3"
  },
  "language_info": {
   "codemirror_mode": {
    "name": "ipython",
    "version": 3
   },
   "file_extension": ".py",
   "mimetype": "text/x-python",
   "name": "python",
   "nbconvert_exporter": "python",
   "pygments_lexer": "ipython3",
   "version": "3.7.10"
  }
 },
 "nbformat": 4,
 "nbformat_minor": 5
}
