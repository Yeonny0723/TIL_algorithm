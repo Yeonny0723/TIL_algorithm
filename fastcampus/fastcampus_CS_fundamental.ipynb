{
 "cells": [
  {
   "cell_type": "markdown",
   "id": "97a02a34",
   "metadata": {},
   "source": [
    "---\n",
    "## 1. 프로그래밍 기초"
   ]
  },
  {
   "cell_type": "markdown",
   "id": "66423f2e",
   "metadata": {},
   "source": [
    "***변수란?***\n",
    "\n",
    "변수는 메모리에 저장된 값의 위치에 주어진 이름. <br>\n",
    "그래서 이름을 부르는 순간 위치를 불러 값을 보여줌. <br>\n",
    "\n",
    "\n",
    "***부동소수(floating point)이란?***\n",
    "\n",
    "다 표현할 수 없는 긴 실수를 컴퓨터 상에서 근사하게 표현하는 방식. \n",
    "최대 차이는 10*-15 이하.\n",
    "\n",
    "**예제)**\n",
    "\n",
    "0.1을 작성했지만, 컴터에서 인지할 수 있는 가장 근사한 값인 0.1xx를 불러낼 것 임\n",
    "```\n",
    "print(0.1+0.2) # 0.30000000000000004\n",
    "```\n",
    "\n"
   ]
  },
  {
   "cell_type": "markdown",
   "id": "53f8b6a1",
   "metadata": {},
   "source": [
    "***추가***\n",
    "\n",
    "```\n",
    "10e2 # e == 10의 x승\n",
    "```\n",
    "\n",
    "* 파이썬 기본 문법\n",
    "```\n",
    "SET.union # 합집합\n",
    "SET.intersection # 교집합\n",
    "SET.difference # 차집합\n",
    "```\n",
    "\n",
    "* 글로벌 vs 비지역 변수\n",
    "```\n",
    "# outer(), inner() 함수 입장에서 전역(global) 범위\n",
    "def outer():\n",
    "    # outer() 함수 입장에서 지역(local) 범위\n",
    "    # inner() 함수 입장에서 비지역(nonlocal) 범위\n",
    "    def inner():\n",
    "        # inner 함수 입장에서 지역(local) 범위\n",
    "```\n",
    "\n",
    "```\n",
    "a = 5\n",
    "\n",
    "def func1(a):\n",
    "    def func2():\n",
    "        nonlocal a # 한단계 밖에 있는 변수\n",
    "        global a # 완전히 밖에 있는 변수\n",
    "        a += 1\n",
    "        return a\n",
    "    return func2()\n",
    "\n",
    "func1(2)\n",
    "```"
   ]
  },
  {
   "cell_type": "markdown",
   "id": "a129d9f1",
   "metadata": {},
   "source": [
    "***모듈이란?***\n",
    "\n",
    "쓸 수 있도록 미리 만들어진 것. eg. 함수, 변수, 클래스..."
   ]
  },
  {
   "cell_type": "markdown",
   "id": "b575b4ab",
   "metadata": {},
   "source": [
    "***__name__ 변수란?***\n",
    "\n",
    "현재 실행 중인 파일 이름 or 불러온 모듈인 경우 모듈이름(파일)이 __name__변수에 저장됨"
   ]
  },
  {
   "cell_type": "markdown",
   "id": "fe1beeb4",
   "metadata": {},
   "source": [
    "***객체지향과(Object) 절차지향(Procedureal)***\n",
    "\n",
    "절차지향 \n",
    "- 데이터 구조 및 그 데이터를 변화시키는 알고리즘\n",
    "\n",
    "객체지향: \n",
    "- 객체들이 통신하여 원하는 결과를 얻음. eg. 인스턴스 생성 객체 & 인스턴스 관리 객체\n",
    "- 각 객체는 고유의 데이터 + 데이터를 처리할 수 있는 메소드로 구성 \n"
   ]
  },
  {
   "cell_type": "markdown",
   "id": "3010c579",
   "metadata": {},
   "source": [
    "***특수 메소드***\n",
    "\n",
    "- 생성자 __init__()\n",
    "\n",
    "- 소멸자 __del__()"
   ]
  },
  {
   "cell_type": "markdown",
   "id": "0202c120",
   "metadata": {},
   "source": [
    "***정적 메소드 & 클래스 메소드***\n",
    "\n",
    "\n",
    "```\n",
    "class human:\n",
    "    count = 0 \n",
    "    \n",
    "    def __init__(self):\n",
    "        self.height = 3\n",
    "        self.age = 22\n",
    "    \n",
    "    @staticmethod\n",
    "    def smethod(): # 이렇게 인스턴스 생성 X -> self 매개변수도 사용하지 않음\n",
    "        print(\"정적 메소드\")\n",
    "    \n",
    "    @classmethod\n",
    "    def cmethod(cls): # 객체를 만들지 않고 클래스 자체에 접근\n",
    "        print(\"클래스 메소드\")\n",
    "        print(cls.count)\n",
    "        \n",
    "human.smethod()\n",
    "human.cmethod()\n",
    "```"
   ]
  },
  {
   "cell_type": "markdown",
   "id": "1eacdfd8",
   "metadata": {},
   "source": [
    "***Private & Public variable***\n",
    "\n",
    "\n",
    "```\n",
    "class human:\n",
    "    def __init__(self):\n",
    "        self.name = 'Juyeon'\n",
    "        self.__age = 22\n",
    "        \n",
    "juyeon = human()\n",
    "print(juyeon.name) # public variable\n",
    "print(juyeon.__age) # private variable\n",
    "```"
   ]
  },
  {
   "cell_type": "markdown",
   "id": "b68a2369",
   "metadata": {},
   "source": [
    "***Getter & Setter***\n"
   ]
  },
  {
   "cell_type": "code",
   "execution_count": 39,
   "id": "378f88b3",
   "metadata": {},
   "outputs": [],
   "source": [
    "class human:\n",
    "    def __init__(self):\n",
    "        self.name = 'Juyeon'\n",
    "        self.__age = 22\n",
    "        \n",
    "    @property # 해당 코드를 쓰지 않아도 getter & setter을 선언 가능하지만, 원활한 디버깅을 위해 사용을 권고\n",
    "    def age_getter(self): # getter\n",
    "        return self.__age\n",
    "    \n",
    "    @age_getter.setter\n",
    "    def age_setter(self, value): # setter\n",
    "        self.__age = value"
   ]
  },
  {
   "cell_type": "code",
   "execution_count": 48,
   "id": "d5a027c6",
   "metadata": {},
   "outputs": [
    {
     "data": {
      "text/plain": [
       "23"
      ]
     },
     "execution_count": 48,
     "metadata": {},
     "output_type": "execute_result"
    }
   ],
   "source": [
    "juyeon = human()\n",
    "juyeon.age_getter()\n",
    "juyeon.age_setter(23)\n",
    "juyeon.age_getter()"
   ]
  }
 ],
 "metadata": {
  "kernelspec": {
   "display_name": "Python 3",
   "language": "python",
   "name": "python3"
  },
  "language_info": {
   "codemirror_mode": {
    "name": "ipython",
    "version": 3
   },
   "file_extension": ".py",
   "mimetype": "text/x-python",
   "name": "python",
   "nbconvert_exporter": "python",
   "pygments_lexer": "ipython3",
   "version": "3.7.10"
  }
 },
 "nbformat": 4,
 "nbformat_minor": 5
}
