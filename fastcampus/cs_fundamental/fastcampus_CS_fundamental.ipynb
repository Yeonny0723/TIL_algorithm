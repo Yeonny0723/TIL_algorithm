{
 "cells": [
  {
   "cell_type": "markdown",
   "id": "97a02a34",
   "metadata": {},
   "source": [
    "---\n",
    "## 1. 프로그래밍 기초"
   ]
  },
  {
   "cell_type": "markdown",
   "id": "66423f2e",
   "metadata": {},
   "source": [
    "***변수란?***\n",
    "\n",
    "변수는 메모리에 저장된 값의 위치에 주어진 이름. <br>\n",
    "그래서 이름을 부르는 순간 위치를 불러 값을 보여줌. <br>\n",
    "\n",
    "\n",
    "***부동소수(floating point)이란?***\n",
    "\n",
    "다 표현할 수 없는 긴 실수를 컴퓨터 상에서 근사하게 표현하는 방식. \n",
    "최대 차이는 10*-15 이하.\n",
    "\n",
    "**예제)**\n",
    "\n",
    "0.1을 작성했지만, 컴터에서 인지할 수 있는 가장 근사한 값인 0.1xx를 불러낼 것 임\n",
    "```\n",
    "print(0.1+0.2) # 0.30000000000000004\n",
    "```\n",
    "\n"
   ]
  },
  {
   "cell_type": "markdown",
   "id": "53f8b6a1",
   "metadata": {},
   "source": [
    "***추가***\n",
    "\n",
    "```\n",
    "10e2 # e == 10의 x승\n",
    "```\n",
    "\n",
    "* 파이썬 기본 문법\n",
    "```\n",
    "SET.union # 합집합\n",
    "SET.intersection # 교집합\n",
    "SET.difference # 차집합\n",
    "```\n",
    "\n",
    "* 글로벌 vs 비지역 변수\n",
    "```\n",
    "# outer(), inner() 함수 입장에서 전역(global) 범위\n",
    "def outer():\n",
    "    # outer() 함수 입장에서 지역(local) 범위\n",
    "    # inner() 함수 입장에서 비지역(nonlocal) 범위\n",
    "    def inner():\n",
    "        # inner 함수 입장에서 지역(local) 범위\n",
    "```\n",
    "\n",
    "```\n",
    "a = 5\n",
    "\n",
    "def func1(a):\n",
    "    def func2():\n",
    "        nonlocal a # 한단계 밖에 있는 변수\n",
    "        global a # 완전히 밖에 있는 변수\n",
    "        a += 1\n",
    "        return a\n",
    "    return func2()\n",
    "\n",
    "func1(2)\n",
    "```"
   ]
  },
  {
   "cell_type": "markdown",
   "id": "a129d9f1",
   "metadata": {},
   "source": [
    "***모듈이란?***\n",
    "\n",
    "쓸 수 있도록 미리 만들어진 것. eg. 함수, 변수, 클래스..."
   ]
  },
  {
   "cell_type": "markdown",
   "id": "b575b4ab",
   "metadata": {},
   "source": [
    "***__name__ 변수란?***\n",
    "\n",
    "현재 실행 중인 파일 이름 or 불러온 모듈인 경우 모듈이름(파일)이 __name__변수에 저장됨"
   ]
  },
  {
   "cell_type": "markdown",
   "id": "fe1beeb4",
   "metadata": {},
   "source": [
    "***객체지향과(Object) 절차지향(Procedureal)***\n",
    "\n",
    "절차지향 \n",
    "- 데이터 구조 및 그 데이터를 변화시키는 알고리즘\n",
    "\n",
    "객체지향: \n",
    "- 객체들이 통신하여 원하는 결과를 얻음. eg. 인스턴스 생성 객체 & 인스턴스 관리 객체\n",
    "- 각 객체는 고유의 데이터 + 데이터를 처리할 수 있는 메소드로 구성 \n"
   ]
  },
  {
   "cell_type": "markdown",
   "id": "3010c579",
   "metadata": {},
   "source": [
    "***특수 메소드***\n",
    "\n",
    "- 생성자 __init__()\n",
    "\n",
    "- 소멸자 __del__()"
   ]
  },
  {
   "cell_type": "markdown",
   "id": "a753df74",
   "metadata": {},
   "source": [
    "***정적 메소드 & 클래스 메소드***\n",
    "\n",
    "\n",
    "```\n",
    "class human:\n",
    "    count = 0 \n",
    "    \n",
    "    def __init__(self):\n",
    "        self.height = 3\n",
    "        self.age = 22\n",
    "        \n",
    "    def __call__(self,*a): # 객체를 매소드처럼 호출할 때 eg. juyeon = human(); juyeon(); 시 호출\n",
    "        print(\"안뇽\")\n",
    "    \n",
    "    @staticmethod\n",
    "    def smethod(): # 이렇게 인스턴스 생성 X -> self 매개변수도 사용하지 않음\n",
    "        print(\"정적 메소드\")\n",
    "    \n",
    "    @classmethod\n",
    "    def cmethod(cls): # 객체를 만들지 않고 클래스 자체에 접근\n",
    "        print(\"클래스 메소드\")\n",
    "        print(cls.count)\n",
    "        \n",
    "human.smethod()\n",
    "human.cmethod()\n",
    "```"
   ]
  },
  {
   "cell_type": "markdown",
   "id": "804cfe4a",
   "metadata": {},
   "source": [
    "***Private & Public variable***\n",
    "\n",
    "\n",
    "```\n",
    "class human:\n",
    "    def __init__(self):\n",
    "        self.name = 'Juyeon'\n",
    "        self.__age = 22\n",
    "        \n",
    "juyeon = human()\n",
    "print(juyeon.name) # public variable\n",
    "print(juyeon.__age) # private variable\n",
    "```"
   ]
  },
  {
   "cell_type": "markdown",
   "id": "144e3792",
   "metadata": {},
   "source": [
    "***Getter & Setter***\n"
   ]
  },
  {
   "cell_type": "code",
   "execution_count": 39,
   "id": "b7f2bc77",
   "metadata": {},
   "outputs": [],
   "source": [
    "class human:\n",
    "    def __init__(self):\n",
    "        self.name = 'Juyeon'\n",
    "        self.__age = 22\n",
    "        \n",
    "    @property # 해당 데코레이터를 쓰지 않아도 getter & setter을 선언 가능하지만, 원활한 디버깅을 위해 사용을 권고\n",
    "    def age_getter(self): # getter\n",
    "        return self.__age\n",
    "    \n",
    "    @age_getter.setter\n",
    "    def age_setter(self, value): # setter\n",
    "        self.__age = value\n",
    "        \n",
    "    def __del__(self):\n",
    "        print('오브젝트가 삭제되었습니다')"
   ]
  },
  {
   "cell_type": "code",
   "execution_count": 48,
   "id": "55ba7ff1",
   "metadata": {},
   "outputs": [
    {
     "data": {
      "text/plain": [
       "23"
      ]
     },
     "execution_count": 48,
     "metadata": {},
     "output_type": "execute_result"
    }
   ],
   "source": [
    "juyeon = human()\n",
    "juyeon.age_getter()\n",
    "juyeon.age_setter(23)\n",
    "juyeon.age_getter()\n",
    "\n",
    "del juyeon"
   ]
  },
  {
   "cell_type": "markdown",
   "id": "929447b9",
   "metadata": {},
   "source": [
    "***상속***\n",
    "\n",
    "- 상속하는 클래스 == base | super class\n",
    "- 상속받는 클래스 == derived | sub class\n",
    "\n",
    "- 파라미터로 부모 클래스 전달 후, 추가하려는 메소드를 따로 정의하여 사용할 수 있다. \n",
    "- 부모의 메소드는 super()를 사용하여 불러올 수 있다.\n",
    "```\n",
    "class parent:\n",
    "    def __init__(self):\n",
    "        print('this is parent')\n",
    "       \n",
    "    def addition(self,x,y):\n",
    "        return x+y\n",
    "```\n",
    "```\n",
    "class kid(parent):\n",
    "    def addition2(self,x,y):\n",
    "        super().addition(x,y)\n",
    "        print('더하기 완료')\n",
    "```"
   ]
  },
  {
   "cell_type": "markdown",
   "id": "cf093dcd",
   "metadata": {},
   "source": [
    "***Overriding***\n",
    "\n",
    "- 부모의 메소드와 같은 이름의 메소드를 자식에게 정의 -> 새롭게 정의된 메소드를 사용함. "
   ]
  },
  {
   "cell_type": "markdown",
   "id": "b77f8021",
   "metadata": {},
   "source": [
    "***다중 상속***\n",
    "\n",
    "아래와 같은 상황에서 C는 먼저 입력된 A의 함수를 상속받음.\n",
    "\n",
    "```\n",
    "class A:\n",
    "    def 함수(self):\n",
    "        결과\n",
    "\n",
    "class B:\n",
    "    def 함수(self):\n",
    "        결과\n",
    "        \n",
    "class C(A,B):\n",
    "    pass\n",
    "```"
   ]
  },
  {
   "cell_type": "markdown",
   "id": "2cc6f5a4",
   "metadata": {},
   "source": [
    "***추상클래스***\n",
    "\n",
    "- 추상클래스 언제 사용? <br>\n",
    ": 이름에 집중. 추상클래스 자체는 객체 생성을 위한게 아님. <br>\n",
    ": 상속받는 객체가 특정 메소드를 꼭 가지게 하고 싶은 경우. 실수로 메소드를 빼먹고 클래스를 정의하는 경우를 방지하기위해 사용.\n",
    "\n"
   ]
  },
  {
   "cell_type": "code",
   "execution_count": 62,
   "id": "ea55b274",
   "metadata": {},
   "outputs": [],
   "source": [
    "from abc import ABCMeta, abstractmethod\n",
    "\n",
    "class Abstract(metaclass=ABCMeta): # abcmeta를 상속받아 추상클래스 생성\n",
    "    # 해당 데코레이터를 이용하여 \n",
    "    # Abstract 클래스를 상속받는 하위객체는 \n",
    "    # 아래 method 메소드를 갖도록 강제할 수 있음 \n",
    "    @abstractmethod \n",
    "    def method(self): # 상속받는 클래스가 해당 메소드가 없으면 객체가 생성되지 않아\n",
    "        pass\n",
    "\n",
    "class test(Abstract):\n",
    "    def method(self):\n",
    "        pass\n",
    "    \n",
    "test1 = test() # 추상클래스는 자신의 객체를 생성할 수 없음"
   ]
  },
  {
   "cell_type": "markdown",
   "id": "c7f6fd13",
   "metadata": {},
   "source": [
    "***isinstance(인스턴스, 클래스이름)***\n",
    "\n",
    "해당 객체가 어떠한 클래스의 인스턴스인지 확인해주는 함수\n",
    "\n",
    "```\n",
    "a = 3\n",
    "isinstance(a, int) # True\n",
    "```"
   ]
  },
  {
   "cell_type": "markdown",
   "id": "b892f724",
   "metadata": {},
   "source": [
    "***예외처리***\n",
    "\n",
    "```\n",
    "try:\n",
    "    에러 문장\n",
    "except TypeError: # 에러 이름 특정 가능 \n",
    "    print(\"type error\")\n",
    "except Exception as e: # 에러구문이 e에 저장\n",
    "    print(e)\n",
    "    에러가 났을 때 실행할 문장\n",
    "else:\n",
    "    에러가 안나면 실행할 문장\n",
    "finally:\n",
    "    에러 발생 여부와 상관없이 실행될 문장\n",
    "```"
   ]
  },
  {
   "cell_type": "markdown",
   "id": "3d402d39",
   "metadata": {},
   "source": [
    "***에러발생***"
   ]
  },
  {
   "cell_type": "code",
   "execution_count": 59,
   "id": "1b8f400b",
   "metadata": {},
   "outputs": [
    {
     "ename": "Exception",
     "evalue": "강제로 에러를 발생시킴",
     "output_type": "error",
     "traceback": [
      "\u001b[0;31m---------------------------------------------------------------------------\u001b[0m",
      "\u001b[0;31mException\u001b[0m                                 Traceback (most recent call last)",
      "\u001b[0;32m<ipython-input-59-2fa4ccef22fc>\u001b[0m in \u001b[0;36m<module>\u001b[0;34m\u001b[0m\n\u001b[0;32m----> 1\u001b[0;31m \u001b[0;32mraise\u001b[0m \u001b[0mException\u001b[0m\u001b[0;34m(\u001b[0m\u001b[0;34m\"강제로 에러를 발생시킴\"\u001b[0m\u001b[0;34m)\u001b[0m\u001b[0;34m\u001b[0m\u001b[0;34m\u001b[0m\u001b[0m\n\u001b[0m",
      "\u001b[0;31mException\u001b[0m: 강제로 에러를 발생시킴"
     ]
    }
   ],
   "source": [
    "raise Exception(\"강제로 에러를 발생시킴\")"
   ]
  },
  {
   "cell_type": "code",
   "execution_count": 61,
   "id": "8638454c",
   "metadata": {},
   "outputs": [
    {
     "ename": "AssertionError",
     "evalue": "A가 3보다 작습니다",
     "output_type": "error",
     "traceback": [
      "\u001b[0;31m---------------------------------------------------------------------------\u001b[0m",
      "\u001b[0;31mAssertionError\u001b[0m                            Traceback (most recent call last)",
      "\u001b[0;32m<ipython-input-61-b6455cf4e5d0>\u001b[0m in \u001b[0;36m<module>\u001b[0;34m\u001b[0m\n\u001b[1;32m      1\u001b[0m \u001b[0mA\u001b[0m \u001b[0;34m=\u001b[0m \u001b[0;36m3\u001b[0m\u001b[0;34m\u001b[0m\u001b[0;34m\u001b[0m\u001b[0m\n\u001b[0;32m----> 2\u001b[0;31m \u001b[0;32massert\u001b[0m \u001b[0mA\u001b[0m \u001b[0;34m>\u001b[0m \u001b[0;36m3\u001b[0m\u001b[0;34m,\u001b[0m \u001b[0;34m'A가 3보다 작습니다'\u001b[0m \u001b[0;31m# assert __조건__, 에러구문!!\u001b[0m\u001b[0;34m\u001b[0m\u001b[0;34m\u001b[0m\u001b[0m\n\u001b[0m",
      "\u001b[0;31mAssertionError\u001b[0m: A가 3보다 작습니다"
     ]
    }
   ],
   "source": [
    "A = 3\n",
    "assert A > 3, 'A가 3보다 작습니다' # assert __조건__, 에러구문!!"
   ]
  },
  {
   "cell_type": "markdown",
   "id": "f94a8784",
   "metadata": {},
   "source": [
    "***파일의 입출력***\n",
    "\n",
    "1. 읽기쓰기\n",
    "\n",
    "```\n",
    "file = open(파일위치, 열기방식, 인코딩방식)\n",
    "file.read()\n",
    "file.readlines() # 파일의 모든 줄을 읽고, 각 줄을 원소로 갖는 리스트 반환\n",
    "file.readline() # 맨 처음엔 첫줄, 부를 때마다 그 다음 줄을 불러오는 함수\n",
    "file.write()\n",
    "file.writelines([리스트])\n",
    "file.close() # 닫아줘야 메모리에서 파일이 제거돼\n",
    "\n",
    "with open(파일명,방법):\n",
    "    file.read() # close 생략해도 무방\n",
    "```\n",
    "\n",
    "*절대경로(c드라이브부터끝까지) vs 상대경로(현재위치부터끝까지)\n",
    "```\n",
    "import os\n",
    "os.getcwd() # 현재위치\n",
    "os.listdir() # 숨겨진 파일까지 다 보여주기\n",
    "```\n",
    "\n",
    "2. 인코딩?\n",
    "\n",
    "컴터는 0,1로만 데이터를 저장하잖아. <br>\n",
    "인코딩이란 컴터가 이해할수 있는 문자로 표현하는 걸 말함. <br>\n",
    "그걸 표기하는 옛날 표기법이 바로 ASCII.<br>\n",
    "한글, 중국어 인코딩할 수 없어서 다른 표기법 생겨났어. <br>\n",
    "유니코드가 대표적. 모든 문자를 표현할 수 있게 하는 것이 목적. 2바이트(16비트.2^16) 안에서 나눠 표현. <br>\n",
    "그런데 누락된 기호들을 추가하다보니 2바이트 초과. <br>\n",
    "이후 새로 변형된 형식의 표기법인 UTF(Unicode Transformation Format) 출현.  <br>"
   ]
  },
  {
   "attachments": {
    "Screen%20Shot%202022-08-08%20at%205.25.58%20PM.png": {
     "image/png": "[encoded data removed]"
    }
   },
   "cell_type": "markdown",
   "id": "87fcb546",
   "metadata": {},
   "source": [
    "![Screen%20Shot%202022-08-08%20at%205.25.58%20PM.png](attachment:Screen%20Shot%202022-08-08%20at%205.25.58%20PM.png)"
   ]
  },
  {
   "cell_type": "markdown",
   "id": "808022bd",
   "metadata": {},
   "source": [
    "2. 직렬화 (Serialization)\n",
    "\n",
    "\n",
    "**저장**\n",
    "\n",
    "객체를 컴퓨터에 저장하기 위해 연속적인 데이터(0과 1의 조합)로 변환하는 것. \n",
    "\n",
    "```\n",
    "import pickle\n",
    "\n",
    "pickle.dump(출력할객체, 파일객체)\n",
    "\n",
    "with open(파일명, 'wb') as f: # wb(write in byte)\n",
    "    pickle.dump(저장할객체, f) # 파일객체에 저장할객체를 저장\n",
    "    \n",
    "pickle.dumps(저장할객체) # 저장할객체를 바이트로 변환\n",
    "```\n"
   ]
  },
  {
   "cell_type": "code",
   "execution_count": 64,
   "id": "6b5fbfd4",
   "metadata": {},
   "outputs": [
    {
     "data": {
      "text/plain": [
       "b'\\x80\\x03]q\\x00(K\\x01K\\x02K\\x03e.'"
      ]
     },
     "execution_count": 64,
     "metadata": {},
     "output_type": "execute_result"
    }
   ],
   "source": [
    "import pickle\n",
    "\n",
    "pickle.dumps([1,2,3])"
   ]
  },
  {
   "cell_type": "markdown",
   "id": "bd47c5f6",
   "metadata": {},
   "source": [
    "**불러올 때**\n",
    "\n",
    "```\n",
    "pickle.load(파일객체)\n",
    "pickle.loads(바이트객체)\n",
    "```\n"
   ]
  },
  {
   "cell_type": "code",
   "execution_count": 66,
   "id": "ee8f9a3c",
   "metadata": {},
   "outputs": [
    {
     "data": {
      "text/plain": [
       "[1, 2, 3]"
      ]
     },
     "execution_count": 66,
     "metadata": {},
     "output_type": "execute_result"
    }
   ],
   "source": [
    "import pickle\n",
    "\n",
    "pickle.loads(pickle.dumps([1,2,3]))"
   ]
  },
  {
   "cell_type": "markdown",
   "id": "78eb7fe0",
   "metadata": {},
   "source": [
    "**Json**\n",
    "\n",
    "피클 친구. 또다른 직렬화 방식. \n",
    "\n",
    "인간이 편한 방식으로 저장이 가능하기 때문에, 모든 객체를 직렬화하여 저장할 수는 없다는 한계.\n",
    "\n",
    "```\n",
    "import json\n",
    "\n",
    "with open(파일명, 'w') as f: # json은 객체를 바이트로 저장하지 않기 때문에 pickle과 달리 wb 대신 w 사용\n",
    "    json.dump([1,2,3])\n",
    "```"
   ]
  },
  {
   "cell_type": "code",
   "execution_count": 69,
   "id": "28b8ad4c",
   "metadata": {},
   "outputs": [
    {
     "data": {
      "text/plain": [
       "'[1, 2, 3, 4]'"
      ]
     },
     "execution_count": 69,
     "metadata": {},
     "output_type": "execute_result"
    }
   ],
   "source": [
    "import json\n",
    "\n",
    "json.dumps([1,2,3,4]) # 바이트로 변환 안하고 저장"
   ]
  },
  {
   "cell_type": "code",
   "execution_count": 70,
   "id": "bfbaa450",
   "metadata": {},
   "outputs": [
    {
     "data": {
      "text/plain": [
       "[1, 2, 3, 4]"
      ]
     },
     "execution_count": 70,
     "metadata": {},
     "output_type": "execute_result"
    }
   ],
   "source": [
    "import json\n",
    "\n",
    "json.loads(json.dumps([1,2,3,4]))"
   ]
  },
  {
   "cell_type": "markdown",
   "id": "0db6289c",
   "metadata": {},
   "source": [
    "***병렬처리 (Parellel processing)*** \n",
    "\n",
    "직렬: 앞에있는 프로세스 먼저 -> 후에 다음 프로세스 실행\n",
    "\n",
    "병렬: 여러개의 프로세스 처리 동시에\n",
    "\n",
    "\n",
    "하드디스크: 다운받은 파일/프로그램을 저장하는 장소\n",
    "\n",
    "프로세스(메모리): == 작업장. 실행 중인 프로그램. 자원(eg. CPU 몇프로) & 쓰레드로 구성\n",
    "\n",
    "쓰레드: == 일꾼. 프로세스 내에서 실제로 작업을 하는 것. \n",
    "\n",
    "파이썬은 싱글 쓰레드로 순차적으로 동작. 병렬처리를 위해서는 아래와 같이 별도의 모듈 필요. "
   ]
  },
  {
   "cell_type": "code",
   "execution_count": null,
   "id": "125c1a64",
   "metadata": {},
   "outputs": [],
   "source": [
    "# 단 쥬피터, 콜랩에서 멀티프로세싱이 잘 작동하지 않아 일반 에디터|프롬프트에서 작동시킬 것 \n",
    "\n",
    "from threading import Thread\n",
    "import time\n",
    "\n",
    "def work(work_id, start, end, result):\n",
    "    total = 0\n",
    "    for i in range(start, end):\n",
    "        total += i\n",
    "    result.append(total)\n",
    "    \n",
    "if __name__ == \"__main__\":\n",
    "    start = time.time() # current time\n",
    "    result = []\n",
    "    th1 = Thread(target=work, args=(1,0,100000,result))\n",
    "    th2 = Thread(target=work, args=(2,100001,200000,result))\n",
    "    \n",
    "    th1.start()\n",
    "    th2.start()\n",
    "    th1.join()\n",
    "    th2.join()\n",
    "    \n",
    "    print(sum(result))\n",
    "    print(time.time()-start) # 소요시간확인\n"
   ]
  },
  {
   "cell_type": "markdown",
   "id": "8009606f",
   "metadata": {},
   "source": [
    "**그런데** 사실 파이썬에서는 CPU 작업에서는 멀티쓰레드를 쓴 것과 싱글 쓰레드로 실행시킨 것의 큰 차이가 없어. 다만 I/O 처럼 파일을 읽고 쓰는 작업이 많은 경우에는 멀티 쓰레드가 효과적일 수 있지~\n",
    "\n",
    "그래서 파이썬에서 CPU 작업에는 멀티쓰레드 대신 \n",
    "\n",
    "**1) Pool 멀티프로세서**\n",
    "\n",
    "작업(프로세스)를 여러개 만들어서 프로세서가 풀어야할 값을 알아서 가져가서 풀게끔해. 그리고 CPU가 자원을 배정해줌.\n"
   ]
  },
  {
   "cell_type": "code",
   "execution_count": null,
   "id": "eb14155f",
   "metadata": {},
   "outputs": [],
   "source": [
    "from multiprocessing import Pool\n",
    "import os\n",
    "import time\n",
    "\n",
    "def f(x):\n",
    "    print(x, os.getpid()) # 프로세서 아이디 출력. 프로세스별 할당된 자원을 볼 수 있음\n",
    "    return x*x\n",
    "\n",
    "# 자식프로세스도 전체 파일을 다 실행하는데, \n",
    "# 아래 if문이 없으면, 네임이 메인이 아닐 때에도 프로세스가 만들어지니까 무한정 반복되게 돼\n",
    "if __name__ == '__main__':\n",
    "    start = time.time()\n",
    "    p = Pool(4) # 단, 프로세서를 너무 많이 띄울 경우 띄우는 데 시간이 소요될 수 있음\n",
    "    result = p.map(f, range(100))\n",
    "    p.close()\n",
    "    print(result)\n",
    "    print(time.time()-start) # 소요시간 확인\n"
   ]
  },
  {
   "cell_type": "markdown",
   "id": "1664a830",
   "metadata": {},
   "source": [
    "*추가예제: 여러 변수를 넣고 싶을 때"
   ]
  },
  {
   "cell_type": "code",
   "execution_count": null,
   "id": "f9d1fbd9",
   "metadata": {},
   "outputs": [],
   "source": [
    "from multiprocessing import Pool\n",
    "import os\n",
    "\n",
    "def f(x):\n",
    "    return x[0]*x[1]\n",
    "\n",
    "if __name__ == '__main__':\n",
    "    p = Pool(4) \n",
    "    result = p.map(f, zip(range(100), range(100)))\n",
    "    p.close()\n",
    "    print(result)"
   ]
  },
  {
   "cell_type": "markdown",
   "id": "102e356e",
   "metadata": {},
   "source": [
    "**2) Process 멀티프로세서**\n",
    "\n",
    "pool과 달리 풀어야할 값들을 프로세서에게 지정해서 줘. "
   ]
  },
  {
   "cell_type": "code",
   "execution_count": null,
   "id": "d067c0c2",
   "metadata": {},
   "outputs": [],
   "source": [
    "from multiprocessing import Process\n",
    "import os\n",
    "\n",
    "def f(x):\n",
    "    print(x*x)\n",
    "    \n",
    "print(__name__)\n",
    "\n",
    "if __name__ == '__main__':\n",
    "    numbers = [1,2,3,4]\n",
    "    proc1 = Process(target=f, args=(numbers[0],))\n",
    "    proc1.start()\n",
    "    proc2 = Process(target=f, args=(numbers[1],))\n",
    "    proc2.start()\n",
    "    proc3 = Process(target=f, args=(numbers[2],))\n",
    "    proc3.start()\n",
    "    proc4 = Process(target=f, args=(numbers[3],))\n",
    "    proc4.start()\n",
    "    proc1.join()\n",
    "    proc2.join()\n",
    "    proc3.join()\n",
    "    proc4.join()"
   ]
  },
  {
   "cell_type": "code",
   "execution_count": null,
   "id": "8bfd4b21",
   "metadata": {},
   "outputs": [],
   "source": []
  }
 ],
 "metadata": {
  "kernelspec": {
   "display_name": "Python 3",
   "language": "python",
   "name": "python3"
  },
  "language_info": {
   "codemirror_mode": {
    "name": "ipython",
    "version": 3
   },
   "file_extension": ".py",
   "mimetype": "text/x-python",
   "name": "python",
   "nbconvert_exporter": "python",
   "pygments_lexer": "ipython3",
   "version": "3.7.10"
  }
 },
 "nbformat": 4,
 "nbformat_minor": 5
}
