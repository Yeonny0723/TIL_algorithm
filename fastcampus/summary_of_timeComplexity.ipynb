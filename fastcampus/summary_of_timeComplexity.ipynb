{
 "cells": [
  {
   "cell_type": "markdown",
   "id": "c1b2a425",
   "metadata": {},
   "source": [
    "<br></br>\n",
    "<br></br>\n",
    "<h1><center>Summary of Time complexity</center></h1>\n",
    "<h4><center>Fast campus</center></h4>\n",
    "<br>\n",
    "<div style=\"text-align: right\"><h4>18/06/2022~##/##/2022</h4></div>\n",
    "<div style=\"text-align: right\"><h4>Juyeon Kim</h4></div>\n",
    "<br></br>\n",
    "<br></br>"
   ]
  },
  {
   "cell_type": "markdown",
   "id": "55cec924",
   "metadata": {},
   "source": [
    "***시간복잡도?***\n",
    "\n",
    "알고리즘의 효율성을 측정하기 위한 척도 중 하나로, 다른 방법으로는 (1) 시간 복잡도, (2) 공간 복잡도 (메모리) 등이 있다. \n",
    "\n",
    "\n",
    "***시간복잡도의 중요 요소?***\n",
    "\n",
    "<font color='blue'>반복문이</font> 지배한다 == 반복문을 어떻게 구성하느냐에 따라 소요 시간이 달라질 수 있다. \n",
    "\n",
    "**<font color=\"red\">n이 몇이냐에 따라 몇번 반복되냐?</font>**"
   ]
  },
  {
   "cell_type": "markdown",
   "id": "83c485c0",
   "metadata": {},
   "source": [
    "***알고리즘 성능 표기법? Big O (빅-오) 표기법: O(N)***\n",
    "\n",
    "* 단순하게 입력 n에 따라, 몇번 실행이 되는지를 계산하면 됩니다.\n",
    "  - **표현식에 가장 큰 영향을 미치는 n 의 단위로 표기합니다.**\n",
    "  - n이 1이든 100이든, 1000이든, 10000이든 실행을\n",
    "    - 무조건 2회(상수회) 실행한다: O(1) \n",
    "       ```python\n",
    "            if n > 10:\n",
    "                 print(n)\n",
    "       ```\n",
    "    - n에 따라, n번, n + 10 번, 또는 3n + 10 번등 실행한다: O(n)\n",
    "       ```python\n",
    "            variable = 1\n",
    "            for num in range(3):\n",
    "                for index in range(n):\n",
    "                     print(index)\n",
    "       ```\n",
    "    - n에 따라, $n^2$번, $n^2$ + 1000 번, 100$n^2$ - 100, 또는 300$n^2$ + 1번등 실행한다: O($n^2$)\n",
    "       ```python\n",
    "            variable = 1\n",
    "            for i in range(300):\n",
    "                for num in range(n):\n",
    "                    for index in range(n):\n",
    "                         print(index)\n",
    "       ```    "
   ]
  },
  {
   "cell_type": "markdown",
   "id": "775acdb5",
   "metadata": {},
   "source": [
    "**예제)** \n",
    "\n",
    "```\n",
    "def sum_all(n):\n",
    "    return int(n * (n + 1) / 2) # n이 1이던 2이던 한번만 수행. O(1)\n",
    "```\n",
    "\n",
    "\n",
    "```\n",
    "def sum_all(n):\n",
    "    total = 0\n",
    "    for num in range(1, n + 1): # n이 1이던 2이던 n만큼 반복. O(n)\n",
    "        total += num\n",
    "    return total\n",
    "```"
   ]
  },
  {
   "cell_type": "code",
   "execution_count": null,
   "id": "9a50f5f5",
   "metadata": {},
   "outputs": [],
   "source": []
  }
 ],
 "metadata": {
  "kernelspec": {
   "display_name": "Python 3",
   "language": "python",
   "name": "python3"
  },
  "language_info": {
   "codemirror_mode": {
    "name": "ipython",
    "version": 3
   },
   "file_extension": ".py",
   "mimetype": "text/x-python",
   "name": "python",
   "nbconvert_exporter": "python",
   "pygments_lexer": "ipython3",
   "version": "3.7.10"
  }
 },
 "nbformat": 4,
 "nbformat_minor": 5
}
