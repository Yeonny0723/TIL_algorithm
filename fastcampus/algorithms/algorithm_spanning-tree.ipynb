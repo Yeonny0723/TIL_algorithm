{
 "cells": [
  {
   "cell_type": "markdown",
   "id": "1d44b725",
   "metadata": {},
   "source": [
    "<br></br>\n",
    "<br></br>\n",
    "<h1><center>Summary of Algorithm 1</center></h1>\n",
    "<h2><center>최소 신장 트리</center></h2>\n",
    "<h4><center>Fast campus</center></h4>\n",
    "<br>\n",
    "<div style=\"text-align: right\"><h4>15/08/2022~##/##/2022</h4></div>\n",
    "<div style=\"text-align: right\"><h4>Juyeon Kim</h4></div>\n",
    "<br></br>\n",
    "<br></br>"
   ]
  },
  {
   "cell_type": "markdown",
   "id": "f59e88d1",
   "metadata": {},
   "source": [
    "---\n",
    "## 1. Minimum Spanning Tree (최소 신장 트리)\n",
    "\n",
    "- 최소 신장 트리를 찾을 수 있는 2가지 대표 알고리즘. 크루스칼 & 프림 알고리즘"
   ]
  },
  {
   "cell_type": "markdown",
   "id": "a77bf689",
   "metadata": {},
   "source": [
    "a. 신장 트리 (Spanning tree)란?\n",
    "\n",
    "- 모든 노드에 간선이 연결되어있음\n",
    "- 모든 노드를 한번에 연결하는 사이클이 존재하지 않음 \n",
    "- 위 조건을 만족하는 신장 트리 중, 간선의 가중치의 합이 최소인 신장 트리를 \"최소 신장 트리\"라고 부름\n",
    "- 알고리즘 실생활 적용 예시로: 네비게이션!"
   ]
  },
  {
   "cell_type": "markdown",
   "id": "ab8c7eee",
   "metadata": {},
   "source": [
    "## 2. Kruskal's algorithm (크루스칼 알고리즘)\n",
    "\n",
    "- Greed 알고리즘과 같이, 그때그때 가중치가 작은 길을 선택\n",
    "- 가중치가 가장 낮은 간선끼리 rank와 함께 하나씩 먼저 연결\n",
    "- 사이클이 생기지 않고 모든 노드가 연결될 때까지 반복\n",
    "\n",
    "\n",
    "<img src=\"https://www.fun-coding.org/00_Images/kruscal_internal1.png\" width=250>\n",
    "<img src=\"https://www.fun-coding.org/00_Images/kruscal_internal2.png\" width=250>\n",
    "\n",
    "**여기서 문제!**\n",
    "노드를 여러 케이스로 모두 연결한 후에, \n",
    "사이클의 생성 여부를 어떻게 판단할까?"
   ]
  },
  {
   "cell_type": "markdown",
   "id": "528eb46b",
   "metadata": {},
   "source": [
    "### 2.1 Union-Find 알고리즘\n",
    "\n",
    "- Union & Find 함수들로 구성\n",
    "- 최소 신장 알고리즘에서는 두 노드의 연결 가능 여부를 따질 때, 최상단 루트 노드가 같다면 사이클이 생겨 불가능하다 판단"
   ]
  },
  {
   "cell_type": "markdown",
   "id": "a5a643b7",
   "metadata": {},
   "source": [
    "높이를 낮추어 루트 노드를 최대한 빨리 찾을 수 있게끔 도와주는 기법"
   ]
  },
  {
   "cell_type": "code",
   "execution_count": 4,
   "id": "62208282",
   "metadata": {},
   "outputs": [],
   "source": [
    "mygraph = {\n",
    "    'vertices': ['A', 'B', 'C', 'D', 'E', 'F', 'G'],\n",
    "    'edges': [\n",
    "        (7, 'A', 'B'),\n",
    "        (5, 'A', 'D'),\n",
    "        (7, 'B', 'A'),\n",
    "        (8, 'B', 'C'),\n",
    "        (9, 'B', 'D'),\n",
    "        (7, 'B', 'E'),\n",
    "        (8, 'C', 'B'),\n",
    "        (5, 'C', 'E'),\n",
    "        (5, 'D', 'A'),\n",
    "        (9, 'D', 'B'),\n",
    "        (7, 'D', 'E'),\n",
    "        (6, 'D', 'F'),\n",
    "        (7, 'E', 'B'),\n",
    "        (5, 'E', 'C'),\n",
    "        (7, 'E', 'D'),\n",
    "        (8, 'E', 'F'),\n",
    "        (9, 'E', 'G'),\n",
    "        (6, 'F', 'D'),\n",
    "        (8, 'F', 'E'),\n",
    "        (11, 'F', 'G'),\n",
    "        (9, 'G', 'E'),\n",
    "        (11, 'G', 'F')\n",
    "    ]\n",
    "}"
   ]
  },
  {
   "cell_type": "code",
   "execution_count": 5,
   "id": "012de810",
   "metadata": {},
   "outputs": [],
   "source": [
    "parent = {} # 부모 노드가 누군지 연결하므로써 최소 신장 트리 생성 가능!\n",
    "rank = {} # 최소 신장 트리의 노드의 높이 \n",
    "\n",
    "def find_parent(node):\n",
    "    # path compression 기법: 최상단 노드를 리턴\n",
    "    if parent[node] != node:\n",
    "        parent[node] = find_parent(parent[node])\n",
    "    return parent[node]\n",
    "\n",
    "\n",
    "def union(node_f, node_t):\n",
    "    root_f = find_parent(node_f)\n",
    "    root_t = find_parent(node_t)\n",
    "    \n",
    "    # union by rank 기법\n",
    "    if rank[root_f] == rank[root_t]: # 높이가 같다면\n",
    "        rank[root_f] += 1 # 임의로 한 노드의 높이를 높여\n",
    "        parent[node_t] = root_f\n",
    "    else:\n",
    "        if rank[root_f] > rank[root_t]: # 높이가 큰 노드를 부모 노드로\n",
    "            parent[node_t] = root_f\n",
    "        else:\n",
    "            parent[node_f] = root_t    \n",
    "\n",
    "            \n",
    "def kruskal(mygraph):\n",
    "    route = [] # 최적 루트 간선 저장\n",
    "    \n",
    "    # 초기화\n",
    "    for node in mygraph['vertices']:\n",
    "        parent[node] = node\n",
    "        rank[node] = 0\n",
    "    \n",
    "    # 정렬\n",
    "    edges = mygraph['edges']\n",
    "    edges.sort() # 가중치 기준 정렬\n",
    "    \n",
    "    # 간선 선택\n",
    "    for edge in edges:\n",
    "        weight, node_f, node_t = edge[0], edge[1], edge[2]\n",
    "        if find_parent(node_f) != find_parent(node_t): # 사이클이 없는\n",
    "            union(node_f, node_t) # 노드를 합치자\n",
    "            route.append(edge)\n",
    "    return route"
   ]
  },
  {
   "cell_type": "code",
   "execution_count": 6,
   "id": "84e4a085",
   "metadata": {},
   "outputs": [
    {
     "data": {
      "text/plain": [
       "[(5, 'A', 'D'),\n",
       " (5, 'C', 'E'),\n",
       " (6, 'D', 'F'),\n",
       " (7, 'A', 'B'),\n",
       " (7, 'B', 'E'),\n",
       " (8, 'B', 'C'),\n",
       " (9, 'E', 'G')]"
      ]
     },
     "execution_count": 6,
     "metadata": {},
     "output_type": "execute_result"
    }
   ],
   "source": [
    "kruskal(mygraph)"
   ]
  },
  {
   "cell_type": "markdown",
   "id": "e5684d72",
   "metadata": {},
   "source": [
    "***시간 복잡도***\n",
    "\n",
    "- V: 노드 개수, E: 간선 개수\n",
    "\n",
    "- 시간 복잡도 = (1) 초기화 + (2) 정렬 + (3) 간선 선택\n",
    "- (1) 노드의 개수만큼: O(V)\n",
    "- (2) 간선의 개수의 퀵정렬만큼: O(ElogE)\n",
    "- (3) 간선의 개수[E] * 노드 찾기 [노드가 처음 1개일 때부터 더 붙는다고 생각하면 다 한번씩만 동작하므로 1]: O(E)\n",
    "\n",
    "=> O(ElogE)"
   ]
  },
  {
   "cell_type": "markdown",
   "id": "123206d2",
   "metadata": {},
   "source": [
    "## 3. Prim's algorithm (프림 알고리즘)\n",
    "\n",
    "- Kruskal처럼 가중치가 낮은 간선을 선택하는 것이 아닌, 노드를 선택하고 연결된 간선 중 가중치가 낮은 기로를 선택\n",
    "- 노드를 선택할 때마다 해당 노드를 선택된 노드 리스트에 저장 & 연결된 간선을 간선 리스트에 저장. 그 중 가중치가 가장 작은 간선 선택\n",
    "- 연결하려는 노드가 이미 선택된 노드 리스트에 존재한다면 사이클이 존재한다는 뜻"
   ]
  },
  {
   "cell_type": "markdown",
   "id": "0df5ce80",
   "metadata": {},
   "source": [
    "---\n",
    "++ 추가 유용한 라이브러리"
   ]
  },
  {
   "cell_type": "code",
   "execution_count": 11,
   "id": "c3dbf80f",
   "metadata": {},
   "outputs": [
    {
     "data": {
      "text/plain": [
       "[2, 'A']"
      ]
     },
     "execution_count": 11,
     "metadata": {},
     "output_type": "execute_result"
    }
   ],
   "source": [
    "import heapq\n",
    "\n",
    "graph_data = [[2,'A'], [5,'B'], [3,'C']]\n",
    "heapq.heapify(graph_data) # heapify: 리스트를 힙으로 한번에 변환\n",
    "\n",
    "heapq.heappop(graph_data)"
   ]
  },
  {
   "cell_type": "code",
   "execution_count": 15,
   "id": "875a394e",
   "metadata": {},
   "outputs": [
    {
     "data": {
      "text/plain": [
       "[]"
      ]
     },
     "execution_count": 15,
     "metadata": {},
     "output_type": "execute_result"
    }
   ],
   "source": [
    "from collections import defaultdict\n",
    "\n",
    "lst = defaultdict(list)\n",
    "lst['A'] # 존재하지 않는 키를 호출해도 에러가 발생하지 않는다"
   ]
  },
  {
   "cell_type": "markdown",
   "id": "30c763f7",
   "metadata": {},
   "source": [
    "---"
   ]
  },
  {
   "cell_type": "markdown",
   "id": "4938a098",
   "metadata": {},
   "source": [
    "**구현**"
   ]
  },
  {
   "cell_type": "markdown",
   "id": "7812f114",
   "metadata": {},
   "source": [
    "<img src=\"https://www.fun-coding.org/00_Images/prim1.png\" width=400>"
   ]
  },
  {
   "cell_type": "code",
   "execution_count": 40,
   "id": "c739b64a",
   "metadata": {},
   "outputs": [],
   "source": [
    "myedges = [ # (weight,from,to)\n",
    "    (7, 'A', 'B'), (5, 'A', 'D'),\n",
    "    (8, 'B', 'C'), (9, 'B', 'D'), (7, 'B', 'E'),\n",
    "    (5, 'C', 'E'),\n",
    "    (7, 'D', 'E'), (6, 'D', 'F'),\n",
    "    (8, 'E', 'F'), (9, 'E', 'G'),\n",
    "    (11, 'F', 'G')\n",
    "]"
   ]
  },
  {
   "cell_type": "code",
   "execution_count": 49,
   "id": "dabc5098",
   "metadata": {},
   "outputs": [],
   "source": [
    "from collections import defaultdict\n",
    "from heapq import *\n",
    "\n",
    "def prim(start_node, edges):\n",
    "    route = []\n",
    "    \n",
    "    # {node:연결된 모든 edges} 딕트 초기화\n",
    "    node_edges_dict = defaultdict(list) \n",
    "    for weight, node_f, node_t in edges:\n",
    "        node_edges_dict[node_f].append((weight, node_f, node_t))\n",
    "        node_edges_dict[node_t].append((weight, node_t, node_f))\n",
    "        \n",
    "    \n",
    "    visited_nodes = set(start_node)\n",
    "    edges_to_examine = node_edges_dict[start_node]\n",
    "    heapify(edges_to_examine) # list -> heap. 자동 정렬 + heappop(), heappush() 사용 O\n",
    "    \n",
    "    while edges_to_examine:\n",
    "        weight, node_f, node_t = heappop(edges_to_examine)\n",
    "        if node_t not in visited_nodes: # to node에 방문한 적이 없다면\n",
    "            visited_nodes.add(node_t)\n",
    "            route.append((weight, node_f, node_t)) # 루트 추가\n",
    "            \n",
    "            for edge in node_edges_dict[node_t]: # 가려는 노드에서 접근할 수 있는 루트 추가 \n",
    "                if edge[2] not in visited_nodes:\n",
    "                    heappush(edges_to_examine, edge)\n",
    "                    \n",
    "    return route"
   ]
  },
  {
   "cell_type": "code",
   "execution_count": 50,
   "id": "b7473d08",
   "metadata": {
    "scrolled": true
   },
   "outputs": [
    {
     "data": {
      "text/plain": [
       "[(5, 'A', 'D'),\n",
       " (6, 'D', 'F'),\n",
       " (7, 'A', 'B'),\n",
       " (7, 'B', 'E'),\n",
       " (5, 'E', 'C'),\n",
       " (9, 'E', 'G')]"
      ]
     },
     "execution_count": 50,
     "metadata": {},
     "output_type": "execute_result"
    }
   ],
   "source": [
    "prim('A', myedges)"
   ]
  },
  {
   "cell_type": "markdown",
   "id": "470b4733",
   "metadata": {},
   "source": [
    "***시간 복잡도***\n",
    "\n",
    "=> O(ElogE)"
   ]
  },
  {
   "cell_type": "markdown",
   "id": "43b69edb",
   "metadata": {},
   "source": [
    "\n",
    "\n",
    "## 3-1. 개선된 프림 알고리즘\n",
    "- 위에서는 노드를 중심으로 연결된 엣지들을 while문을 돌려가며 처리했음\n",
    "- 개선된 알고리즘은\n",
    "    - 노드의 value를 무한대로, 맨 첫 노드의 value를 0으로 초기화\n",
    "    - 한 노드에서 다른 노드로 이동하며 노드값 vs 간선의 가중치값을 비교하여, 노드를 더 작은 값으로 업데이트\n",
    "    - 업데이트 되게 만드는 간선을 루트 리스트에 담아 리턴하면 최소 신장 트리가 만들어짐"
   ]
  },
  {
   "cell_type": "code",
   "execution_count": 52,
   "id": "10f6add3",
   "metadata": {},
   "outputs": [],
   "source": [
    "mygraph = {\n",
    "    'A': {'B': 7, 'D': 5},\n",
    "    'B': {'A': 7, 'D': 9, 'C': 8, 'E': 7},\n",
    "    'C': {'B': 8, 'E': 5},\n",
    "    'D': {'A': 5, 'B': 9, 'E': 7, 'F': 6},\n",
    "    'E': {'B': 7, 'C': 5, 'D': 7, 'F': 8, 'G': 9},\n",
    "    'F': {'D': 6, 'E': 8, 'G': 11},\n",
    "    'G': {'E': 9, 'F': 11}    \n",
    "}"
   ]
  },
  {
   "cell_type": "code",
   "execution_count": 53,
   "id": "21610ca7",
   "metadata": {},
   "outputs": [],
   "source": [
    "from heapdict import heapdict # heapdict에서 popitem을 하면, 항상 key가 가장 작은 딕트가 pop된다 \n",
    "\n",
    "def prim(graph, start):\n",
    "    # total_weight: 최소 신장 트리를 구현할 때 최소 가중치의 합\n",
    "    # pi: 값을 업데이트 시킨 간선\n",
    "    # 초기화 과정: O(V)\n",
    "    mst, keys, pi, total_weight = list(), heapdict(), dict(), 0\n",
    "    for node in graph.keys():\n",
    "        keys[node] = float('inf')\n",
    "        pi[node] = None\n",
    "    keys[start], pi[start] = 0, start\n",
    "\n",
    "    # 순회 과정: O(VlogV)\n",
    "    while keys: # 모든 노드를 다 순회했을 때\n",
    "        current_node, current_key = keys.popitem() # 키 값이 가장 작은 노드\n",
    "        mst.append([pi[current_node], current_node, current_key])\n",
    "        total_weight += current_key\n",
    "        # for문: O(ElogV)\n",
    "        for adjacent, weight in graph[current_node].items():\n",
    "            if adjacent in keys and weight < keys[adjacent]:\n",
    "                keys[adjacent] = weight # 키 값 업데이트\n",
    "                pi[adjacent] = current_node\n",
    "    return mst, total_weight "
   ]
  },
  {
   "cell_type": "code",
   "execution_count": 54,
   "id": "3e324e96",
   "metadata": {},
   "outputs": [
    {
     "name": "stdout",
     "output_type": "stream",
     "text": [
      "MST: [['A', 'A', 0], ['A', 'D', 5], ['D', 'F', 6], ['A', 'B', 7], ['D', 'E', 7], ['E', 'C', 5], ['E', 'G', 9]]\n",
      "Total Weight: 39\n"
     ]
    }
   ],
   "source": [
    "mst, total_weight = prim(mygraph, 'A')\n",
    "print ('MST:', mst)\n",
    "print ('Total Weight:', total_weight)"
   ]
  },
  {
   "cell_type": "markdown",
   "id": "e855adf6",
   "metadata": {},
   "source": [
    "**시간 복잡도**\n",
    "\n",
    "- E>V이므로: O(V+VlogV+ElogV) = O(ElogV)"
   ]
  },
  {
   "cell_type": "code",
   "execution_count": null,
   "id": "8cc07167",
   "metadata": {},
   "outputs": [],
   "source": []
  }
 ],
 "metadata": {
  "kernelspec": {
   "display_name": "Python 3",
   "language": "python",
   "name": "python3"
  },
  "language_info": {
   "codemirror_mode": {
    "name": "ipython",
    "version": 3
   },
   "file_extension": ".py",
   "mimetype": "text/x-python",
   "name": "python",
   "nbconvert_exporter": "python",
   "pygments_lexer": "ipython3",
   "version": "3.7.10"
  }
 },
 "nbformat": 4,
 "nbformat_minor": 5
}
