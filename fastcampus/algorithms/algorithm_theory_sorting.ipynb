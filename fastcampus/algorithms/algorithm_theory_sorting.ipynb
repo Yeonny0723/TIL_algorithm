{
 "cells": [
  {
   "cell_type": "markdown",
   "id": "1d44b725",
   "metadata": {},
   "source": [
    "<br></br>\n",
    "<br></br>\n",
    "<h1><center>Summary of Algorithm 1</center></h1>\n",
    "<h2><center>Sorting</center></h2>\n",
    "<h4><center>Fast campus</center></h4>\n",
    "<br>\n",
    "<div style=\"text-align: right\"><h4>11/08/2022~##/##/2022</h4></div>\n",
    "<div style=\"text-align: right\"><h4>Juyeon Kim</h4></div>\n",
    "<br></br>\n",
    "<br></br>"
   ]
  },
  {
   "cell_type": "markdown",
   "id": "0e470e5e",
   "metadata": {},
   "source": [
    "<div class=\"alert alert-block alert-info\">\n",
    "<center><strong><font size=4em>알고리즘 연습 방법</font></strong></center>\n",
    "\n",
    "<font size=3em>1. 테스트용으로 매우 간단한 경우(데이터가 2,3,4개일 때)부터 복잡한 경우(랜덤 50개 선택) 순서대로 생각 -> 시뮬레이션 돌리기</font><br><br>\n",
    "<font size=3em>2. 가능한 알고리즘이 보인다면, 최적화할 패턴을 찾고, 구현할 기능을 문장별로 나누어 함수화</font><br><br>\n",
    "</div>"
   ]
  },
  {
   "cell_type": "markdown",
   "id": "dd814e30",
   "metadata": {},
   "source": [
    "---\n",
    "### 1. Bubble sorting (버블정렬)\n",
    "\n",
    "- 앞 두 원소씩 계속 비교하여 swap\n",
    "- https://visualgo.net/en/sorting"
   ]
  },
  {
   "cell_type": "code",
   "execution_count": 30,
   "id": "05319ae8",
   "metadata": {},
   "outputs": [
    {
     "name": "stdout",
     "output_type": "stream",
     "text": [
      "[2, 4, 5, 6, 9, 10, 11, 12, 13, 16, 18, 20, 21, 22, 24, 29, 30, 32, 35, 36, 39, 40, 42, 45, 51, 56, 57, 59, 60, 61, 63, 64, 65, 67, 69, 70, 74, 76, 79, 81, 82, 83, 84, 87, 88, 89, 92, 93, 94, 97]\n"
     ]
    }
   ],
   "source": [
    "import random\n",
    "\n",
    "def bubblesort(data):\n",
    "    for index in range(len(data)-1):\n",
    "        swap = False\n",
    "        for index2 in range(len(data)-index-1): # 한바퀴씩 돌 때마다 가장 큰 숫자는 마지막에 정렬되므로, 불필요한 비교를 제거하기 위해 루프를 한번 더 돌려\n",
    "            if data[index2] > data[index2 +1]:\n",
    "                data[index2], data[index2+1] = data[index2+1], data[index2]\n",
    "            swap = True\n",
    "        if swap == False:\n",
    "            break\n",
    "    return data\n",
    "\n",
    "data_lst = random.sample(range(100),50)\n",
    "print(bubblesort(data_lst))"
   ]
  },
  {
   "cell_type": "markdown",
   "id": "d5f9b62a",
   "metadata": {},
   "source": [
    "- **Time complexity**\n",
    "\n",
    "반복문이 n만큼 2번있으므로, O(n^2)"
   ]
  },
  {
   "cell_type": "markdown",
   "id": "04c232ed",
   "metadata": {},
   "source": [
    "---\n",
    "### 2. Insertion sorting (삽입정렬)\n",
    "\n",
    "- 모든 인덱스를 돌면서 그 인덱스보다 앞에 있는 모든 원소와 비교 후 삽입\n",
    "- https://visualgo.net/en/sorting"
   ]
  },
  {
   "cell_type": "markdown",
   "id": "8a160f06",
   "metadata": {},
   "source": [
    "\n",
    "**Divide and Conquer 예시**\n",
    "\n",
    "**(1) 리스트 길이 2, [5,3]**\n",
    "- 기준점 idx 1\n",
    "\n",
    "[3,5] | [1,0]\n",
    "\n",
    "**(2) 리스트 길이 3, [5,3,2]**\n",
    "- 기준점 idx 1 \n",
    "\n",
    "[3,5,2] | [1,0]\n",
    "- 기준점 idx 2\n",
    "\n",
    "[3,2,5] | [2,1]\n",
    "\n",
    "[2,3,5] | [1,0]\n",
    "\n",
    "\n",
    "**(3) 리스트 길이 4, [5,3,2,4]**\n",
    "\n",
    "- idx 1\n",
    "\n",
    "[3,5,2,4] | [1,0]\n",
    "\n",
    "- idx 2\n",
    "\n",
    "[3,2,5,4] | [2,1]\n",
    "\n",
    "[2,3,5,4] | [1,0]\n",
    "\n",
    "- idx 3\n",
    "\n",
    "[2,3,4,5] | [3,2]\n",
    "그 다음 [2,1],[2,0]은 비교 스킵, 왜? 이미 idx2 원소가 비교 대상보다 더 크니까\n"
   ]
  },
  {
   "cell_type": "code",
   "execution_count": 63,
   "id": "60a04a39",
   "metadata": {},
   "outputs": [],
   "source": [
    "def insertion_sort(data):\n",
    "    for idx in range(1, len(data)):\n",
    "        for idx2 in range(idx,0,-1):\n",
    "            if data[idx2-1] > data[idx2]:\n",
    "                data[idx2-1], data[idx2] = data[idx2], data[idx2-1]\n",
    "            else:\n",
    "                break\n",
    "    return data"
   ]
  },
  {
   "cell_type": "code",
   "execution_count": 64,
   "id": "2df47c81",
   "metadata": {},
   "outputs": [
    {
     "name": "stdout",
     "output_type": "stream",
     "text": [
      "[1, 3, 4, 5, 7, 9, 11, 12, 13, 16, 21, 24, 26, 27, 31, 34, 35, 37, 40, 44, 47, 48, 49, 51, 52, 53, 54, 55, 58, 59, 61, 62, 63, 64, 66, 69, 71, 72, 73, 76, 77, 78, 81, 82, 84, 90, 91, 93, 97, 98]\n"
     ]
    }
   ],
   "source": [
    "import random\n",
    "\n",
    "data = random.sample(range(100), 50)\n",
    "print(insertion_sort(data))"
   ]
  },
  {
   "cell_type": "markdown",
   "id": "e2a97d7a",
   "metadata": {},
   "source": [
    "- **Time complexity**\n",
    "\n",
    "반복문이 n만큼 2번있으므로, O(n^2)"
   ]
  },
  {
   "cell_type": "markdown",
   "id": "bda80dc5",
   "metadata": {},
   "source": [
    "---\n",
    "### 3. Selection sorting (선택정렬)\n",
    "\n",
    "- 첫 인덱스부터 순회하며 그 뒤로 그보다 가장 작은 값을 찾아 swap"
   ]
  },
  {
   "cell_type": "code",
   "execution_count": 126,
   "id": "29deb344",
   "metadata": {},
   "outputs": [],
   "source": [
    "def selection_sort(data):\n",
    "    for stand in range(len(data)-1): # no need to check last idx / stand:= 기준점\n",
    "        lowest_idx = stand\n",
    "        for idx2 in range(stand+1, len(data)):\n",
    "            if data[idx2] < data[lowest_idx]:\n",
    "                lowest_idx = idx2\n",
    "        data[stand], data[lowest_idx] = data[lowest_idx], data[stand] # swap\n",
    "    return data"
   ]
  },
  {
   "cell_type": "code",
   "execution_count": 128,
   "id": "fdea7dc7",
   "metadata": {},
   "outputs": [
    {
     "name": "stdout",
     "output_type": "stream",
     "text": [
      "[0, 1, 3, 4, 9, 11, 13, 16, 17, 21, 22, 23, 25, 30, 32, 33, 35, 36, 37, 39, 45, 46, 48, 49, 52, 53, 57, 64, 65, 66, 68, 69, 70, 71, 72, 75, 76, 77, 78, 79, 80, 82, 83, 84, 87, 89, 91, 93, 96, 98]\n"
     ]
    }
   ],
   "source": [
    "import random\n",
    "\n",
    "data = random.sample(range(100), 50)\n",
    "print(selection_sort(data))"
   ]
  },
  {
   "cell_type": "markdown",
   "id": "dfc68743",
   "metadata": {},
   "source": [
    "---\n",
    "### 4. Space complexity (공간복잡도)\n",
    "\n",
    "- ***공간 복잡도 계산은 실제 알고리즘 실행시 사용되는 저장공간을 계산하면 됨***\n",
    "- $ S(P) = c + S_p(n) $ : 총 필요한 저장 공간 = 고정 공간 (알고리즘과 무관한 공간): 코드 저장 공간, 단순 변수 및 상수 + 가변 공간 (알고리즘 실행과 관련있는 공간): 실행 중 동적으로 필요한 공간\n",
    "- 빅 오 표기법에서 고정 공간은 상수이므로, 무시되고 가변 공간에 의해 좌우"
   ]
  },
  {
   "cell_type": "code",
   "execution_count": 129,
   "id": "8cdf05d5",
   "metadata": {},
   "outputs": [
    {
     "data": {
      "text/plain": [
       "6"
      ]
     },
     "execution_count": 129,
     "metadata": {},
     "output_type": "execute_result"
    }
   ],
   "source": [
    "# 예제1> n의 값에 상관없이 변수 n, 변수 fac, 변수 index 만 필요함\n",
    "# 공간 복잡도는 O(1)\n",
    "def factorial(n):\n",
    "    fac = 1\n",
    "    for index in range(2, n + 1):\n",
    "        fac = fac * index\n",
    "    return fac\n",
    "\n",
    "factorial(3)"
   ]
  },
  {
   "cell_type": "code",
   "execution_count": 130,
   "id": "4cf77fd5",
   "metadata": {},
   "outputs": [],
   "source": [
    "# 예제2> 재귀함수를 사용하였으므로 n개의 변수가 n번 만들어짐\n",
    "# 공간 복잡도는 O(n)\n",
    "def factorial(n):\n",
    "    if n > 1:\n",
    "        return n * factorial(n - 1)\n",
    "    else:\n",
    "        return 1"
   ]
  }
 ],
 "metadata": {
  "kernelspec": {
   "display_name": "Python 3",
   "language": "python",
   "name": "python3"
  },
  "language_info": {
   "codemirror_mode": {
    "name": "ipython",
    "version": 3
   },
   "file_extension": ".py",
   "mimetype": "text/x-python",
   "name": "python",
   "nbconvert_exporter": "python",
   "pygments_lexer": "ipython3",
   "version": "3.7.10"
  }
 },
 "nbformat": 4,
 "nbformat_minor": 5
}
