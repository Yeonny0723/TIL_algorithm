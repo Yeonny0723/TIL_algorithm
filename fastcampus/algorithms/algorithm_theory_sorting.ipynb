{
 "cells": [
  {
   "cell_type": "markdown",
   "id": "1d44b725",
   "metadata": {},
   "source": [
    "<br></br>\n",
    "<br></br>\n",
    "<h1><center>Summary of Algorithm 1</center></h1>\n",
    "<h2><center>Sorting</center></h2>\n",
    "<h4><center>Fast campus</center></h4>\n",
    "<br>\n",
    "<div style=\"text-align: right\"><h4>11/08/2022~##/##/2022</h4></div>\n",
    "<div style=\"text-align: right\"><h4>Juyeon Kim</h4></div>\n",
    "<br></br>\n",
    "<br></br>"
   ]
  },
  {
   "cell_type": "markdown",
   "id": "0e470e5e",
   "metadata": {},
   "source": [
    "<div class=\"alert alert-block alert-info\">\n",
    "<center><strong><font size=4em>알고리즘 연습 방법</font></strong></center>\n",
    "\n",
    "<font size=3em>1. 테스트용으로 매우 간단한 경우(데이터가 2,3,4개일 때)부터 복잡한 경우(랜덤 50개 선택) 순서대로 생각 -> 시뮬레이션 돌리기</font><br><br>\n",
    "<font size=3em>2. 가능한 알고리즘이 보인다면, 최적화할 패턴을 찾고, 구현할 기능을 문장별로 나누어 함수화</font><br><br>\n",
    "</div>"
   ]
  },
  {
   "cell_type": "markdown",
   "id": "dd814e30",
   "metadata": {},
   "source": [
    "---\n",
    "### 1. Bubble sorting (버블정렬)\n",
    "\n",
    "- 앞 두 원소씩 계속 비교하여 swap\n",
    "- https://visualgo.net/en/sorting"
   ]
  },
  {
   "cell_type": "code",
   "execution_count": 30,
   "id": "05319ae8",
   "metadata": {},
   "outputs": [
    {
     "name": "stdout",
     "output_type": "stream",
     "text": [
      "[2, 4, 5, 6, 9, 10, 11, 12, 13, 16, 18, 20, 21, 22, 24, 29, 30, 32, 35, 36, 39, 40, 42, 45, 51, 56, 57, 59, 60, 61, 63, 64, 65, 67, 69, 70, 74, 76, 79, 81, 82, 83, 84, 87, 88, 89, 92, 93, 94, 97]\n"
     ]
    }
   ],
   "source": [
    "import random\n",
    "\n",
    "def bubblesort(data):\n",
    "    for index in range(len(data)-1):\n",
    "        swap = False\n",
    "        for index2 in range(len(data)-index-1): # 한바퀴씩 돌 때마다 가장 큰 숫자는 마지막에 정렬되므로, 불필요한 비교를 제거하기 위해 루프를 한번 더 돌려\n",
    "            if data[index2] > data[index2 +1]:\n",
    "                data[index2], data[index2+1] = data[index2+1], data[index2]\n",
    "            swap = True\n",
    "        if swap == False:\n",
    "            break\n",
    "    return data\n",
    "\n",
    "data_lst = random.sample(range(100),50)\n",
    "print(bubblesort(data_lst))"
   ]
  },
  {
   "cell_type": "markdown",
   "id": "d5f9b62a",
   "metadata": {},
   "source": [
    "- **Time complexity**\n",
    "\n",
    "반복문이 n만큼 2번있으므로, O(n^2)"
   ]
  },
  {
   "cell_type": "markdown",
   "id": "04c232ed",
   "metadata": {},
   "source": [
    "---\n",
    "### 2. Insertion sorting (삽입정렬)\n",
    "\n",
    "- 모든 인덱스를 돌면서 그 인덱스보다 앞에 있는 모든 원소와 비교 후 삽입\n",
    "- https://visualgo.net/en/sorting"
   ]
  },
  {
   "cell_type": "markdown",
   "id": "8a160f06",
   "metadata": {},
   "source": [
    "\n",
    "**Divide and Conquer 예시**\n",
    "\n",
    "**(1) 리스트 길이 2, [5,3]**\n",
    "- 기준점 idx 1\n",
    "\n",
    "[3,5] | [1,0]\n",
    "\n",
    "**(2) 리스트 길이 3, [5,3,2]**\n",
    "- 기준점 idx 1 \n",
    "\n",
    "[3,5,2] | [1,0]\n",
    "- 기준점 idx 2\n",
    "\n",
    "[3,2,5] | [2,1]\n",
    "\n",
    "[2,3,5] | [1,0]\n",
    "\n",
    "\n",
    "**(3) 리스트 길이 4, [5,3,2,4]**\n",
    "\n",
    "- idx 1\n",
    "\n",
    "[3,5,2,4] | [1,0]\n",
    "\n",
    "- idx 2\n",
    "\n",
    "[3,2,5,4] | [2,1]\n",
    "\n",
    "[2,3,5,4] | [1,0]\n",
    "\n",
    "- idx 3\n",
    "\n",
    "[2,3,4,5] | [3,2]\n",
    "그 다음 [2,1],[2,0]은 비교 스킵, 왜? 이미 idx2 원소가 비교 대상보다 더 크니까\n"
   ]
  },
  {
   "cell_type": "code",
   "execution_count": 63,
   "id": "60a04a39",
   "metadata": {},
   "outputs": [],
   "source": [
    "def insertion_sort(data):\n",
    "    for idx in range(1, len(data)):\n",
    "        for idx2 in range(idx,0,-1):\n",
    "            if data[idx2-1] > data[idx2]:\n",
    "                data[idx2-1], data[idx2] = data[idx2], data[idx2-1]\n",
    "            else:\n",
    "                break\n",
    "    return data"
   ]
  },
  {
   "cell_type": "code",
   "execution_count": 64,
   "id": "2df47c81",
   "metadata": {},
   "outputs": [
    {
     "name": "stdout",
     "output_type": "stream",
     "text": [
      "[1, 3, 4, 5, 7, 9, 11, 12, 13, 16, 21, 24, 26, 27, 31, 34, 35, 37, 40, 44, 47, 48, 49, 51, 52, 53, 54, 55, 58, 59, 61, 62, 63, 64, 66, 69, 71, 72, 73, 76, 77, 78, 81, 82, 84, 90, 91, 93, 97, 98]\n"
     ]
    }
   ],
   "source": [
    "import random\n",
    "\n",
    "data = random.sample(range(100), 50)\n",
    "print(insertion_sort(data))"
   ]
  },
  {
   "cell_type": "markdown",
   "id": "e2a97d7a",
   "metadata": {},
   "source": [
    "- **Time complexity**\n",
    "\n",
    "반복문이 n만큼 2번있으므로, O(n^2)"
   ]
  },
  {
   "cell_type": "markdown",
   "id": "bda80dc5",
   "metadata": {},
   "source": [
    "---\n",
    "### 3. Selection sorting (선택정렬)\n",
    "\n",
    "- 첫 인덱스부터 순회하며 그 뒤로 그보다 가장 작은 값을 찾아 swap"
   ]
  },
  {
   "cell_type": "code",
   "execution_count": 126,
   "id": "29deb344",
   "metadata": {},
   "outputs": [],
   "source": [
    "def selection_sort(data):\n",
    "    for stand in range(len(data)-1): # no need to check last idx / stand:= 기준점\n",
    "        lowest_idx = stand\n",
    "        for idx2 in range(stand+1, len(data)):\n",
    "            if data[idx2] < data[lowest_idx]:\n",
    "                lowest_idx = idx2\n",
    "        data[stand], data[lowest_idx] = data[lowest_idx], data[stand] # swap\n",
    "    return data"
   ]
  },
  {
   "cell_type": "code",
   "execution_count": 128,
   "id": "fdea7dc7",
   "metadata": {},
   "outputs": [
    {
     "name": "stdout",
     "output_type": "stream",
     "text": [
      "[0, 1, 3, 4, 9, 11, 13, 16, 17, 21, 22, 23, 25, 30, 32, 33, 35, 36, 37, 39, 45, 46, 48, 49, 52, 53, 57, 64, 65, 66, 68, 69, 70, 71, 72, 75, 76, 77, 78, 79, 80, 82, 83, 84, 87, 89, 91, 93, 96, 98]\n"
     ]
    }
   ],
   "source": [
    "import random\n",
    "\n",
    "data = random.sample(range(100), 50)\n",
    "print(selection_sort(data))"
   ]
  },
  {
   "cell_type": "markdown",
   "id": "dfc68743",
   "metadata": {},
   "source": [
    "---\n",
    "### 4. Space complexity (공간복잡도)\n",
    "\n",
    "- ***공간 복잡도 계산은 실제 알고리즘 실행시 사용되는 저장공간을 계산하면 됨***\n",
    "- $ S(P) = c + S_p(n) $ : 총 필요한 저장 공간 = 고정 공간 (알고리즘과 무관한 공간): 코드 저장 공간, 단순 변수 및 상수 + 가변 공간 (알고리즘 실행과 관련있는 공간): 실행 중 동적으로 필요한 공간\n",
    "- 빅 오 표기법에서 고정 공간은 상수이므로, 무시되고 가변 공간에 의해 좌우"
   ]
  },
  {
   "cell_type": "code",
   "execution_count": 129,
   "id": "8cdf05d5",
   "metadata": {},
   "outputs": [
    {
     "data": {
      "text/plain": [
       "6"
      ]
     },
     "execution_count": 129,
     "metadata": {},
     "output_type": "execute_result"
    }
   ],
   "source": [
    "# 예제1> n의 값에 상관없이 변수 n, 변수 fac, 변수 index 만 필요함\n",
    "# 공간 복잡도는 O(1)\n",
    "def factorial(n):\n",
    "    fac = 1\n",
    "    for index in range(2, n + 1):\n",
    "        fac = fac * index\n",
    "    return fac\n",
    "\n",
    "factorial(3)"
   ]
  },
  {
   "cell_type": "code",
   "execution_count": 130,
   "id": "4cf77fd5",
   "metadata": {},
   "outputs": [],
   "source": [
    "# 예제2> 재귀함수를 사용하였으므로 n개의 변수가 n번 만들어짐\n",
    "# 공간 복잡도는 O(n)\n",
    "def factorial(n):\n",
    "    if n > 1:\n",
    "        return n * factorial(n - 1)\n",
    "    else:\n",
    "        return 1"
   ]
  },
  {
   "cell_type": "markdown",
   "id": "836ada16",
   "metadata": {},
   "source": [
    "---\n",
    "### 5. Quick sorting (퀵정렬)\n",
    "\n",
    "- 기준점(pivot)을 앞에서 뒤로 이동하며, 작은 데이터는 왼쪽 + 큰 데이터는 오른쪽에 위치\n",
    "\n",
    "- 완전히 새로운 장소에 가장 첫원소를 피봇을 놓고, 큰 데이터는 오른쪽 작은 데이터는 왼쪽에 재위치시켜.\n",
    "- 왼쪽에 있는 것끼리 다시 첫원소를 피봇으로 놓고, 다시 반복\n",
    "- 추후에 흩어져있는 데이터 한군데로 모아"
   ]
  },
  {
   "cell_type": "code",
   "execution_count": null,
   "id": "5aa9f667",
   "metadata": {},
   "outputs": [],
   "source": [
    "# Method 1. \n",
    "def qsort(data):\n",
    "    if len(data) <= 1:\n",
    "        return data\n",
    "    \n",
    "    left, right = list(), list()\n",
    "    pivot = data[0]\n",
    "    for idx in range(1, len(data)):\n",
    "        if pivot > data[idx]:\n",
    "            left.append(data[idx])\n",
    "        else:\n",
    "            right.append(data[idx])\n",
    "    \n",
    "    return qsort(left) + [pivot] + qsort(right)"
   ]
  },
  {
   "cell_type": "code",
   "execution_count": null,
   "id": "2d3376ae",
   "metadata": {},
   "outputs": [],
   "source": [
    "# Method 2. List comprehension\n",
    "def qsort(data):\n",
    "    if len(data) <= 1:\n",
    "        return data\n",
    "    left, right = list(), list()\n",
    "    pivot = data[0]\n",
    "    \n",
    "    left = [ el for el in data[1:] if el < pivot]\n",
    "    right = [ el for el in data[1:] if el >= pivot]\n",
    "    \n",
    "    return qsort(left) + [pivot] + qsort(right)"
   ]
  },
  {
   "cell_type": "code",
   "execution_count": null,
   "id": "9db63074",
   "metadata": {},
   "outputs": [],
   "source": [
    "import random\n",
    "\n",
    "data = random.sample(range(100),20)\n",
    "print(qsort(data))"
   ]
  },
  {
   "cell_type": "markdown",
   "id": "dab13265",
   "metadata": {},
   "source": [
    "***시간 복잡도***\n",
    "\n",
    "- 왼쪽 오른쪽 나뉘므로 가장 일반적인 시나리오는 n에서 반반 나뉘는 것\n",
    "- 이분트리 생각해봐. n -> n/2 & n/2 -> n/4 & n/4 -> n/8 & n/8 ...\n",
    "- 높이는 2분의 1만큼 줄어들어 logn + 한 줄 정렬하는데 거의 n번만큼 걸려\n",
    "==> **n * logn**"
   ]
  },
  {
   "cell_type": "markdown",
   "id": "4e94b3cd",
   "metadata": {},
   "source": [
    "---\n",
    "### 6. Merge sorting (병합정렬)\n",
    "\n",
    "- Divide and conquer을 사용\n",
    "- 리스트를 분리할 수 없을 때까지 (길이가 1) 분할\n",
    "- 그 다음 두개를 크기 비교해서 아래와 같은 패턴으로 병합\n",
    "\n",
    "**e.g**\n",
    "\n",
    "49 97 | 5 53 || 33 65 | 51 62\n",
    "\n",
    "49 5 비교\n",
    "\n",
    "[5] # 새 리스트에 들어간 번호는 비교대상에서 제외\n",
    "\n",
    "49 53 비교\n",
    "\n",
    "[5,49]\n",
    "\n",
    "97 53 비교\n",
    "\n",
    "[5,49,53]\n",
    "\n",
    "마지막 남은 숫자 추가\n",
    "\n",
    "[5,49,53,97]"
   ]
  },
  {
   "cell_type": "code",
   "execution_count": null,
   "id": "150957d7",
   "metadata": {},
   "outputs": [],
   "source": [
    "def split(data):\n",
    "    if len(data) <= 1:\n",
    "        return data\n",
    "    else: \n",
    "        medium = len(data) // 2\n",
    "        left = split(data[:medium])\n",
    "        right = split(data[medium:])\n",
    "        return merge(left, right)"
   ]
  },
  {
   "cell_type": "markdown",
   "id": "29e5beb7",
   "metadata": {},
   "source": [
    "### TAKEAWAY\n",
    "\n",
    "- 리스트에서 비교를 완료한 원소를 pop하는것이 아닌, pivot 인덱스에 1씩 추가해주며 비교하는 방법"
   ]
  },
  {
   "cell_type": "code",
   "execution_count": null,
   "id": "a6193276",
   "metadata": {},
   "outputs": [],
   "source": [
    "def merge(left, right):\n",
    "    merged = []\n",
    "    left_point, right_point = 0, 0 # point:= pivot 인덱스. +1씩 해주며 비교\n",
    "\n",
    "    # left, right가 둘 다 남아있을 때까지\n",
    "    while len(left) > left_point and len(right) > right_point:\n",
    "        if left[left_point] > right[right_point]:\n",
    "            merged.append(right[right_point])\n",
    "            right_point += 1\n",
    "        else:\n",
    "            merged.append(left[left_point])\n",
    "            left_point +=1\n",
    "            \n",
    "   # left만 남아있는 경우         \n",
    "    while len(left) > left_point:\n",
    "        merged.append(left[left_point])\n",
    "        left_point += 1\n",
    "        \n",
    "    # right만 남아있는 경우\n",
    "    while len(right) > right_point:\n",
    "        merged.append(right[right_point])\n",
    "        right_point += 1\n",
    "        \n",
    "    return merged"
   ]
  },
  {
   "cell_type": "code",
   "execution_count": null,
   "id": "fe00cb9e",
   "metadata": {},
   "outputs": [],
   "source": [
    "split([3,10,4,2,5,1])"
   ]
  },
  {
   "cell_type": "markdown",
   "id": "f2802e13",
   "metadata": {},
   "source": [
    "***시간 복잡도***\n",
    "- 병합정렬의 시간복잡도 계산, 상당히 까다로움\n",
    "\n",
    "<img src=\"https://lh3.google.com/u/0/d/1tuHduFdZuzbDvt90dQpAkXmgSkximaHV=w2000-h2934-iv1\" width=\"400\"/>"
   ]
  },
  {
   "cell_type": "code",
   "execution_count": null,
   "id": "fc62aa5c",
   "metadata": {},
   "outputs": [],
   "source": []
  }
 ],
 "metadata": {
  "kernelspec": {
   "display_name": "Python 3",
   "language": "python",
   "name": "python3"
  },
  "language_info": {
   "codemirror_mode": {
    "name": "ipython",
    "version": 3
   },
   "file_extension": ".py",
   "mimetype": "text/x-python",
   "name": "python",
   "nbconvert_exporter": "python",
   "pygments_lexer": "ipython3",
   "version": "3.7.10"
  }
 },
 "nbformat": 4,
 "nbformat_minor": 5
}
