{
 "cells": [
  {
   "cell_type": "markdown",
   "id": "1d44b725",
   "metadata": {},
   "source": [
    "<br></br>\n",
    "<br></br>\n",
    "<h1><center>Summary of Algorithm 1</center></h1>\n",
    "<h2><center>Back tracking</center></h2>\n",
    "<h4><center>Fast campus</center></h4>\n",
    "<br>\n",
    "<div style=\"text-align: right\"><h4>16/08/2022~##/##/2022</h4></div>\n",
    "<div style=\"text-align: right\"><h4>Juyeon Kim</h4></div>\n",
    "<br></br>\n",
    "<br></br>"
   ]
  },
  {
   "cell_type": "markdown",
   "id": "f59e88d1",
   "metadata": {},
   "source": [
    "---\n",
    "### 1. Back Tracking\n",
    "\n",
    "- 제약 조건을 **DFS** 방식으로 체크하며 해 접근 -> 만족할 수 X면 -> 다시 back track -> 다시 접근...\n",
    "- 고려할 수 있는 경우의 수를 상태공간트리(State Space Tree)를 통해 표현 / \n",
    "    - Promising: 해당 루트가 조건에 맞는지를 검사하는 기법\n",
    "    - Pruning (가지치기): 조건에 맞지 않으면 포기하고 다른 루트로 바로 돌아서서, 탐색의 시간을 절약하는 기법\n"
   ]
  },
  {
   "cell_type": "markdown",
   "id": "442aaa95",
   "metadata": {},
   "source": [
    "e.g.N Queen 문제 이해\n",
    "- 대표적인 백트래킹 문제\n",
    "- NxN 크기의 체스판에 N개의 퀸을 서로 공격할 수 없도록 배치하는 문제\n",
    "- **제약 조건>** 퀸은 다음과 같이 이동할 수 있으므로, 배치된 퀸 간에 공격할 수 없는 위치로 배치해야 함\n",
    "<img src=\"https://www.fun-coding.org/00_Images/queen_move.png\" width=300>"
   ]
  },
  {
   "cell_type": "markdown",
   "id": "c0064aec",
   "metadata": {},
   "source": [
    "### Pruning (가지치기) for N Queen 문제\n",
    "\n",
    "<img src=\"https://www.fun-coding.org/00_Images/backtracking.png\" width=300>\n",
    "\n",
    "- 한 행에는 하나의 퀸만 위치할 수 있음\n",
    "- 위아래 걸리는지 + 대각선에 걸리는지 체크해야함 \n",
    "- 수직체크: 위아래 y좌표의 차이가 있는지\n",
    "- 대각선체크: x좌표의 갭과 y좌표의 갭이 같다면 대각선에 위치\n",
    "\n",
    "- 제약 조건에서 걸리면, DFS방식으로 위 노드로 복귀 후 그 옆 노드로 다시 접근"
   ]
  },
  {
   "cell_type": "code",
   "execution_count": 19,
   "id": "dd44dc91",
   "metadata": {},
   "outputs": [],
   "source": [
    "def is_available(potentials, row):\n",
    "    '''\n",
    "    potentials: 이미 연결된 퀸이 담긴 리스트. \n",
    "    해당 함수는 새로 담겨질 row와 수직충돌 & 대각선충돌이 없는지 확인하는 함수임.\n",
    "    수직충돌: value(y좌표), 즉 potentials의 값과 일치하지 않는지 점검\n",
    "    대각선충돌: idx(x좌표)의 차이 == value의 차이인지 점검\n",
    "    '''\n",
    "    row_idx = len(potentials) # 추가할 값의 위치\n",
    "    for idx, queen in enumerate(potentials):\n",
    "        if queen == row:\n",
    "            return False\n",
    "        if abs(row_idx-idx) == abs(row-queen):\n",
    "            return False\n",
    "    return True\n",
    "\n",
    "\n",
    "def DFS(row, potentials, ans):\n",
    "    '''\n",
    "    row: 현재 행\n",
    "    potentials: 리턴할 정답을 담은 리스트. 인덱스는 행, value는 열. 계속 업데이트됨.\n",
    "    anw: 최종 답안\n",
    "    '''\n",
    "    if row == N:\n",
    "        ans.append(potentials[:])\n",
    "        return ans\n",
    "    \n",
    "    for idx in range(N): # idx == row\n",
    "        if is_available(potentials, idx):\n",
    "            potentials.append(idx)\n",
    "            DFS(row+1, potentials, ans)\n",
    "            potentials.pop() # 위 DFS에서 리턴되는게 없다면 실행될 백트레킹 코드. 가지치기: Pruning\n",
    "    \n",
    "def solve_n_queens(N):\n",
    "    ans = []\n",
    "    DFS(0, [], ans)\n",
    "    return ans"
   ]
  },
  {
   "cell_type": "code",
   "execution_count": 20,
   "id": "c979e35e",
   "metadata": {},
   "outputs": [
    {
     "data": {
      "text/plain": [
       "[[1, 3, 0, 2], [2, 0, 3, 1]]"
      ]
     },
     "execution_count": 20,
     "metadata": {},
     "output_type": "execute_result"
    }
   ],
   "source": [
    "solve_n_queens(4)"
   ]
  },
  {
   "cell_type": "code",
   "execution_count": null,
   "id": "7236a89a",
   "metadata": {},
   "outputs": [],
   "source": []
  }
 ],
 "metadata": {
  "kernelspec": {
   "display_name": "Python 3",
   "language": "python",
   "name": "python3"
  },
  "language_info": {
   "codemirror_mode": {
    "name": "ipython",
    "version": 3
   },
   "file_extension": ".py",
   "mimetype": "text/x-python",
   "name": "python",
   "nbconvert_exporter": "python",
   "pygments_lexer": "ipython3",
   "version": "3.7.10"
  }
 },
 "nbformat": 4,
 "nbformat_minor": 5
}
