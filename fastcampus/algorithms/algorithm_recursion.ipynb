{
 "cells": [
  {
   "cell_type": "markdown",
   "id": "1d44b725",
   "metadata": {},
   "source": [
    "<br></br>\n",
    "<br></br>\n",
    "<h1><center>Summary of Algorithm 1</center></h1>\n",
    "<h2><center>Recursion</center></h2>\n",
    "<h4><center>Fast campus</center></h4>\n",
    "<br>\n",
    "<div style=\"text-align: right\"><h4>12/08/2022~##/##/2022</h4></div>\n",
    "<div style=\"text-align: right\"><h4>Juyeon Kim</h4></div>\n",
    "<br></br>\n",
    "<br></br>"
   ]
  },
  {
   "cell_type": "markdown",
   "id": "9dee6df4",
   "metadata": {},
   "source": [
    "---\n",
    "### 1. Recursive call (재귀용법)\n",
    "\n",
    "- 일반적인 재귀함수 형태\n",
    "- https://pythontutor.com/visualize.html#mode=display\n",
    "```\n",
    "def 함수(입력):\n",
    "    if 입력 > 일정값:\n",
    "        return 함수(입력-1) # 입력보다 작은 값\n",
    "    else:\n",
    "        return 결과값\n",
    "```"
   ]
  },
  {
   "cell_type": "code",
   "execution_count": 1,
   "id": "ce4a80f6",
   "metadata": {},
   "outputs": [],
   "source": [
    "def is_palindrome(str):\n",
    "    if len(str) <= 1:\n",
    "        return True\n",
    "    else:\n",
    "        if str[0] == str[-1]:\n",
    "            return is_palindrome(str[1:-1])\n",
    "        else:\n",
    "            return False"
   ]
  },
  {
   "cell_type": "code",
   "execution_count": 6,
   "id": "e80a8f12",
   "metadata": {},
   "outputs": [
    {
     "name": "stdout",
     "output_type": "stream",
     "text": [
      "True\n",
      "True\n",
      "False\n"
     ]
    }
   ],
   "source": [
    "print(is_palindrome('DEED'))\n",
    "print(is_palindrome('level'))\n",
    "print(is_palindrome('Hello'))"
   ]
  },
  {
   "cell_type": "markdown",
   "id": "7224cb86",
   "metadata": {
    "solution2": "hidden",
    "solution2_first": true
   },
   "source": [
    "<div class=\"alert alert-block alert-warning\">\n",
    "<strong><font color=\"blue\" size=\"4em\">프로그래밍 연습</font></strong><br>\n",
    "<pre>\n",
    "문제: 정수 4를 1, 2, 3의 조합으로 나타내는 방법은 다음과 같이 총 7가지가 있음\n",
    "1+1+1+1\n",
    "1+1+2\n",
    "1+2+1\n",
    "2+1+1\n",
    "2+2\n",
    "1+3\n",
    "3+1\n",
    "정수 n이 입력으로 주어졌을 때, n을 1, 2, 3의 합으로 나타낼 수 있는 방법의 수를 구하시오\n",
    "</pre>    \n",
    "\n",
    "출처: ACM-ICPC > Regionals > Asia > Korea > Asia Regional - Taejon 2001 \n",
    "</div>"
   ]
  },
  {
   "cell_type": "markdown",
   "id": "d8b9d65d",
   "metadata": {},
   "source": [
    "<img src=\"https://lh3.googleusercontent.com/drive-viewer/AJc5JmT-SwJzF0a0pttA5HHdtlE2OpCo-fF8Em_2pYXx2u_Z9DR4foeZdZ7Y9Wb0eJWoUdZ1PTjKQPY=w1960-h2876\" width=\"400\">"
   ]
  },
  {
   "cell_type": "code",
   "execution_count": 10,
   "id": "f2f8665e",
   "metadata": {},
   "outputs": [
    {
     "data": {
      "text/plain": [
       "13"
      ]
     },
     "execution_count": 10,
     "metadata": {},
     "output_type": "execute_result"
    }
   ],
   "source": [
    "def func(n):\n",
    "    if n == 1 :\n",
    "        return 1\n",
    "    elif n == 2:\n",
    "        return 2\n",
    "    elif n == 3:\n",
    "        return 4\n",
    "    else:\n",
    "        return func(n-1) + func(n-2) + func(n-3)\n",
    "\n",
    "func(5)"
   ]
  },
  {
   "cell_type": "code",
   "execution_count": null,
   "id": "a266428a",
   "metadata": {},
   "outputs": [],
   "source": []
  }
 ],
 "metadata": {
  "kernelspec": {
   "display_name": "Python 3",
   "language": "python",
   "name": "python3"
  },
  "language_info": {
   "codemirror_mode": {
    "name": "ipython",
    "version": 3
   },
   "file_extension": ".py",
   "mimetype": "text/x-python",
   "name": "python",
   "nbconvert_exporter": "python",
   "pygments_lexer": "ipython3",
   "version": "3.7.10"
  }
 },
 "nbformat": 4,
 "nbformat_minor": 5
}
