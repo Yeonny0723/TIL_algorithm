{
 "cells": [
  {
   "cell_type": "markdown",
   "id": "1d44b725",
   "metadata": {},
   "source": [
    "<br></br>\n",
    "<br></br>\n",
    "<h1><center>Summary of Algorithm 1</center></h1>\n",
    "<h2><center>Greedy search</center></h2>\n",
    "<h4><center>Fast campus</center></h4>\n",
    "<br>\n",
    "<div style=\"text-align: right\"><h4>14/08/2022~##/##/2022</h4></div>\n",
    "<div style=\"text-align: right\"><h4>Juyeon Kim</h4></div>\n",
    "<br></br>\n",
    "<br></br>"
   ]
  },
  {
   "cell_type": "markdown",
   "id": "f59e88d1",
   "metadata": {},
   "source": [
    "---\n",
    "### 1. Greedy search\n",
    "\n",
    "- 매순간 최적이라고 생각되는 경우를 선택"
   ]
  },
  {
   "cell_type": "markdown",
   "id": "9d5a8581",
   "metadata": {},
   "source": [
    "#### 문제1: 동전 문제\n",
    "  - 지불해야 하는 값이 4720원 일 때 1원 50원 100원, 500원 동전으로 동전의 수가 가장 적게 지불하시오.\n",
    "    - 가장 큰 동전부터 최대한 지불해야 하는 값을 채우는 방식으로 구현 가능\n",
    "    - 탐욕 알고리즘으로 매순간 최적이라고 생각되는 경우를 선택하면 됨"
   ]
  },
  {
   "cell_type": "code",
   "execution_count": 14,
   "id": "fc88cb64",
   "metadata": {},
   "outputs": [],
   "source": [
    "def count_coins(price, coin_lst):\n",
    "    count = 0\n",
    "    coin_lst.sort(reverse=True)\n",
    "    \n",
    "    for coin in coin_lst:\n",
    "        quotient = price // coin\n",
    "        count += quotient\n",
    "        price = price % coin\n",
    "    \n",
    "    print(count)"
   ]
  },
  {
   "cell_type": "code",
   "execution_count": 15,
   "id": "0ff935ff",
   "metadata": {},
   "outputs": [
    {
     "name": "stdout",
     "output_type": "stream",
     "text": [
      "31\n"
     ]
    }
   ],
   "source": [
    "coin_lst = [500,50,100,1]\n",
    "count_coins(4720, coin_lst)"
   ]
  },
  {
   "cell_type": "markdown",
   "id": "0ede9287",
   "metadata": {},
   "source": [
    "**문제2: 부분 배낭 문제 (Fractional Knapsack Problem)**\n",
    "  - 무게 제한이 k인 배낭에 최대 가치를 가지도록 물건을 넣는 문제\n",
    "  - 무게가 작으면서 가치가 큰 물건으로 배낭을 채우는게 이득\n",
    "    <img src=\"https://www.fun-coding.org/00_Images/knapsack.png\" width=300>"
   ]
  },
  {
   "cell_type": "code",
   "execution_count": 36,
   "id": "0003c1ce",
   "metadata": {},
   "outputs": [],
   "source": [
    "def get_max_value(data_list, capacity):\n",
    "    data_list = sorted(data_list, key=lambda x:x[1]/x[0], reverse=True) # 무게 당 가치 순 정렬\n",
    "    total_value = 0\n",
    "    \n",
    "    for data in data_list:\n",
    "        if capacity >= data[0]:\n",
    "            capacity -= data[0]\n",
    "            total_value += data[1]\n",
    "        else:\n",
    "            fraction = capacity / data[0] # 존재하는 단위들로 채워지지 않는 데이터는 무게 대비 가치로 추가 가능\n",
    "            capacity -= data[0] * fraction\n",
    "            total_value += data[1] * fraction\n",
    "            break\n",
    "    return total_value"
   ]
  },
  {
   "cell_type": "code",
   "execution_count": 37,
   "id": "8c2aa8ba",
   "metadata": {},
   "outputs": [
    {
     "data": {
      "text/plain": [
       "24.5"
      ]
     },
     "execution_count": 37,
     "metadata": {},
     "output_type": "execute_result"
    }
   ],
   "source": [
    "data_list = [(10,10),(15,12),(20,10),(25,8),(30,5)]\n",
    "get_max_value(data_list, 30)"
   ]
  },
  {
   "cell_type": "markdown",
   "id": "2164e7a3",
   "metadata": {},
   "source": [
    "***탐욕 알고리즘의 한계***\n",
    "\n",
    "- 탐욕 알고리즘은 근사치 추정에 활용. 왜? 반드시 최적의 답을 구할 수 있는게 아니기 때문."
   ]
  },
  {
   "cell_type": "code",
   "execution_count": null,
   "id": "8b5da7d7",
   "metadata": {},
   "outputs": [],
   "source": []
  }
 ],
 "metadata": {
  "kernelspec": {
   "display_name": "Python 3",
   "language": "python",
   "name": "python3"
  },
  "language_info": {
   "codemirror_mode": {
    "name": "ipython",
    "version": 3
   },
   "file_extension": ".py",
   "mimetype": "text/x-python",
   "name": "python",
   "nbconvert_exporter": "python",
   "pygments_lexer": "ipython3",
   "version": "3.7.10"
  }
 },
 "nbformat": 4,
 "nbformat_minor": 5
}
