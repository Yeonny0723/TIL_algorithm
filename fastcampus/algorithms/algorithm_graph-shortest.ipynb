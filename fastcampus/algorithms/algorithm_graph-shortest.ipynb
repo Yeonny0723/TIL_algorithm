{
 "cells": [
  {
   "cell_type": "markdown",
   "id": "1d44b725",
   "metadata": {},
   "source": [
    "<br></br>\n",
    "<br></br>\n",
    "<h1><center>Summary of Algorithm 1</center></h1>\n",
    "<h2><center>최단 경로 알고리즘</center></h2>\n",
    "<h4><center>Fast campus</center></h4>\n",
    "<br>\n",
    "<div style=\"text-align: right\"><h4>15/08/2022~##/##/2022</h4></div>\n",
    "<div style=\"text-align: right\"><h4>Juyeon Kim</h4></div>\n",
    "<br></br>\n",
    "<br></br>"
   ]
  },
  {
   "cell_type": "markdown",
   "id": "f59e88d1",
   "metadata": {},
   "source": [
    "---\n",
    "### 1. 최단 경로 문제\n",
    "\n",
    "- 두 노드를 잇는 가장 짧은 경로를 찾는 것\n",
    "- 가중치 그래프에서 가중치를 최소로 만드는 경로를 찾는 것\n",
    "\n",
    "\n",
    "### 2. 다익스트라 알고리즘 (Dijkstra's algorithm)\n",
    "- 하나의 노드에서 다른 모든 노드까지 각각의 최단거리를 구하는 문제\n",
    "\n",
    "<img src=\"https://www.fun-coding.org/00_Images/dijkstra.png\" width=200>\n",
    "\n",
    "- 우선순위 큐에는 A에서 갈 수 있는 가장 짧은 경로를 입력한다\n",
    "\n",
    "\n",
    "<img src=\"https://www.fun-coding.org/00_Images/dijkstra_1st.png\" width=500>\n",
    "<img src=\"https://www.fun-coding.org/00_Images/dijkstra_2nd.png\" width=500>\n",
    "<img src=\"https://www.fun-coding.org/00_Images/dijkstra_3rd.png\" width=500>"
   ]
  },
  {
   "cell_type": "markdown",
   "id": "c881ced0",
   "metadata": {},
   "source": [
    "**Logic**\n",
    "- 먼저 시작 노드 A에서 다른 노드로 가는 최단 거리를 담은 리스트를 생성. 모두 inf(무한대) 값으로 우선 초기화.\n",
    "- A노드에서 갈 수 있는 노드들과 그 거리를 리스트에 업데이트.\n",
    "- 해당 노드의 거리가 업데이트된 경우 우선순위 큐에 짧은 순서대로 저장. \n",
    "- 그 다음 우선순위 큐의 맨 첫 노드인 C,1와 비교 시작. C와 연결된 B,D까지 거리는 각각 5,2이므로 A에서 B,D까지 거리는 각각 5+1=6,2+1=3으로 볼 수 있음. 더 A-B로 가는 더 짧은 거리를 발견했으므로 리스트 업데이트 후 우선순위 큐에 B값 추가. \n",
    "\n",
    "- 이후 우선순위 큐에서 꺼낼 데이터가 없을 때까지...\n",
    "- 특정 노드로 가는 엣지가 없다면 패스\n",
    "- 우선순위 큐 거리가 리스트 내 거리보다 크다면 업데이트 필요성이 없으니 비교도 스킵"
   ]
  },
  {
   "cell_type": "markdown",
   "id": "f2473bb4",
   "metadata": {},
   "source": [
    "**구현**"
   ]
  },
  {
   "cell_type": "markdown",
   "id": "a3fcd628",
   "metadata": {},
   "source": [
    "<img src=\"https://www.fun-coding.org/00_Images/dijkstra.png\" width=200>"
   ]
  },
  {
   "cell_type": "code",
   "execution_count": 34,
   "id": "54338582",
   "metadata": {},
   "outputs": [],
   "source": [
    "mygraph = {\n",
    "    'A': {'B':8, 'C':1, 'D':2},\n",
    "    'B': {},\n",
    "    'C': {'B':5, 'D':2},\n",
    "    'D': {'E':3, 'F':5},\n",
    "    'E': {'F':1},\n",
    "    'F': {'A':5},\n",
    "}"
   ]
  },
  {
   "cell_type": "code",
   "execution_count": 60,
   "id": "fac6cd0e",
   "metadata": {},
   "outputs": [],
   "source": [
    "import heapq\n",
    "\n",
    "def dijkstra(graph, start):\n",
    "    distances = {node: float('inf') for node in graph} # 무한값으로 초기화\n",
    "    queue = []\n",
    "    # 초기화\n",
    "    distances[start] = 0\n",
    "    heapq.heappush(queue, [start,distances[start]])\n",
    "    \n",
    "    while queue: # 반복문\n",
    "        current_node, current_distance = heapq.heappop(queue)\n",
    "        \n",
    "        if distances[current_node] < current_distance:\n",
    "            continue # 이런 경우 반복문 스킵\n",
    "            \n",
    "        for adjacent, weight in graph[current_node].items():\n",
    "            distance = current_distance + weight\n",
    "            \n",
    "            if distance < distances[adjacent]:\n",
    "                distances[adjacent] = distance\n",
    "                heapq.heappush(queue,[adjacent, distance])\n",
    "\n",
    "    return distances"
   ]
  },
  {
   "cell_type": "code",
   "execution_count": 61,
   "id": "4fbe314e",
   "metadata": {},
   "outputs": [
    {
     "data": {
      "text/plain": [
       "{'A': 0, 'B': 6, 'C': 1, 'D': 2, 'E': 5, 'F': 6}"
      ]
     },
     "execution_count": 61,
     "metadata": {},
     "output_type": "execute_result"
    }
   ],
   "source": [
    "dijkstra(mygraph, 'A')"
   ]
  },
  {
   "cell_type": "markdown",
   "id": "b45df65b",
   "metadata": {},
   "source": [
    "**시간 복잡도**\n",
    "\n",
    "다익스트라 알고리즘은 다음 두 과정을 수반함. \n",
    "- (1) 각 노드마다 이어진 간선을 검사하는 과정\n",
    "- (2) 우선순위 큐에 노드/거리 정보를 넣고 pop하는 과정\n",
    "\n",
    "- 간선의 수를 E라고 할 때, (1)의 경우, 최대한 걸릴 수 있는 시간은, 모든 간선을 검사하는 시간이므로 O(E). \n",
    "- (2)의 경우, 최대한 걸릴 수 있는 시간은, 간선을 비교할 때마다 더 짧은 거리로 업데이트되면서 우선순위 큐에 저장되는 경우. 가장 작은 값을 우선순위 큐 맨 위 루트 노드로 위치시킬 때는 항상 두개의 값만 비교해 swap하므로, O(logE). \n",
    "\n",
    "=> O(ElogE)"
   ]
  },
  {
   "cell_type": "code",
   "execution_count": null,
   "id": "1399a3ad",
   "metadata": {},
   "outputs": [],
   "source": []
  }
 ],
 "metadata": {
  "kernelspec": {
   "display_name": "Python 3",
   "language": "python",
   "name": "python3"
  },
  "language_info": {
   "codemirror_mode": {
    "name": "ipython",
    "version": 3
   },
   "file_extension": ".py",
   "mimetype": "text/x-python",
   "name": "python",
   "nbconvert_exporter": "python",
   "pygments_lexer": "ipython3",
   "version": "3.7.10"
  }
 },
 "nbformat": 4,
 "nbformat_minor": 5
}
