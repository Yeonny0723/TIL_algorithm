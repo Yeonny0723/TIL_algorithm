{
 "cells": [
  {
   "cell_type": "markdown",
   "id": "2a74dfd5-ba0d-4894-8d8f-2786f4b89414",
   "metadata": {},
   "source": [
    "## ***2022 Kick start Practice***"
   ]
  },
  {
   "cell_type": "markdown",
   "id": "7c63fcaf-a157-4ca1-8038-3ab4ba402528",
   "metadata": {},
   "source": [
    "### Question 1."
   ]
  },
  {
   "cell_type": "code",
   "execution_count": null,
   "id": "1147ac2b-441b-4c4b-9818-c9e5d3e042ba",
   "metadata": {},
   "outputs": [],
   "source": [
    "T = int(input())\n",
    "for i in range(T):\n",
    "    N, M = map(int, input().split()) # N - 사탕가방 수, M- 인간수\n",
    "    C = list(map(int, input().split()))\n",
    "    res = sum(C) % M\n",
    "    print(f\"Case #{i+1}: {res}\")"
   ]
  },
  {
   "cell_type": "markdown",
   "id": "f49c381a-ad97-452a-8d97-1867e354e91e",
   "metadata": {},
   "source": [
    "<br>\n",
    "\n",
    "### Question 2. "
   ]
  },
  {
   "cell_type": "code",
   "execution_count": null,
   "id": "323d477a-24e7-4f13-802e-04acc4ee5dc4",
   "metadata": {},
   "outputs": [],
   "source": [
    "T = int(input())\n",
    "\n",
    "for i in range(T):\n",
    "    ruler = input()\n",
    "    ruler_lst = list(ruler)\n",
    "    alice =  ['A', 'E', 'I', 'O', 'U', 'a', 'e', 'i', 'o', 'u']\n",
    "    res = None\n",
    "    if ruler_lst[-1] in alice:\n",
    "        res = 'Alice'\n",
    "    elif ruler_lst[-1] in ['y','Y']:\n",
    "        res = 'nobody'\n",
    "    else:\n",
    "        res = 'Bob'\n",
    "    print(f\"Case #{i+1}: {ruler} is ruled by {res}.\")"
   ]
  },
  {
   "cell_type": "markdown",
   "id": "969d847c-f977-4448-be3c-0f73933378f5",
   "metadata": {},
   "source": [
    "<br>\n",
    "\n",
    "### Question 3. "
   ]
  },
  {
   "cell_type": "code",
   "execution_count": null,
   "id": "5ccc9ddc-40d8-4f68-94cc-a1e791d84db1",
   "metadata": {
    "tags": []
   },
   "outputs": [],
   "source": [
    "T = int(input())\n",
    "for t in range(T):\n",
    "    N = int(input())\n",
    "    Cs = map(int, input().split())\n",
    "    res = []\n",
    "    count, prev = 0, 0\n",
    "    for i, el in enumerate(Cs):\n",
    "        if i < 2:\n",
    "            prev = el\n",
    "            count = 1\n",
    "            res.append(count)\n",
    "        else:\n",
    "            if prev <= el:\n",
    "                count += 1\n",
    "                res.append(count)\n",
    "            else:\n",
    "                res.append(count)\n",
    "    print(f\"Case #{t+1}: \", end=\"\")\n",
    "    print(*res)"
   ]
  },
  {
   "cell_type": "markdown",
   "id": "67d73a73-77e1-48a5-b455-219cafe310bc",
   "metadata": {},
   "source": [
    "<br>\n",
    "\n",
    "### Question 3. Hex"
   ]
  },
  {
   "cell_type": "markdown",
   "id": "c1b172c9-cd80-47d5-bfdd-20df9b101e25",
   "metadata": {},
   "source": [
    "When does the impossible state happen? <br>\n",
    "- if the difference of the number of stones of each color is greater than 2\n",
    "- if the game has to be already decided\n",
    "\n",
    "When does the win state happen? <br>\n",
    "- when B occupies one horizontal line\n",
    "- when A occupies one vertical line"
   ]
  },
  {
   "cell_type": "code",
   "execution_count": null,
   "id": "0208788e-6b33-4b13-a21c-a5af42aca7fa",
   "metadata": {
    "jupyter": {
     "outputs_hidden": true
    },
    "tags": []
   },
   "outputs": [],
   "source": [
    "def is_winner(res):\n",
    "    for r in m:\n",
    "        if r == \"B\" * N:\n",
    "            if res == None:\n",
    "                res = \"Blue wins\"\n",
    "            elif res != \"Nobody wins\":\n",
    "                res = \"Impossible\"\n",
    "    for r in m_sw:\n",
    "        if r == \"R\" * N:\n",
    "            if res == None:\n",
    "                res = \"Red wins\"\n",
    "            elif res != \"Nobody wins\":\n",
    "                res = \"Impossible\"\n",
    "    return res\n",
    "\n",
    "def letter_count_is_valid(res):\n",
    "    if res != \"Impossible\":\n",
    "        count_r = 0\n",
    "        count_b = 0\n",
    "        for l in \" \".join(m):\n",
    "            if l == 'R':\n",
    "                count_r += 1\n",
    "            elif l == 'B':\n",
    "                count_b += 1\n",
    "        if abs(count_r-count_b) > 1:\n",
    "            res = \"Impossible\"\n",
    "    return res\n",
    "\n",
    "def nobody_wins(res):\n",
    "    if res == None:\n",
    "        res = \"Nobody wins\"\n",
    "    return res\n",
    "    \n",
    "T = int(input())\n",
    "for t in range(T):\n",
    "    N = int(input())\n",
    "    \n",
    "    m = []\n",
    "    m += [input() for _ in range(N)]\n",
    "    m_sw = []\n",
    "    for i in range(N):\n",
    "        row = \"\"\n",
    "        for el in m:\n",
    "            row += el[i]\n",
    "        m_sw.append(row)\n",
    "\n",
    "    res = None # state\n",
    "    res = is_winner(res)\n",
    "    res = letter_count_is_valid(res)\n",
    "    res = nobody_wins(res)\n",
    "    print(f\"Case #{t+1}: {res}\")"
   ]
  },
  {
   "cell_type": "markdown",
   "id": "064a1a67-2e38-4596-84c4-1e1c49df3ee4",
   "metadata": {},
   "source": [
    "<br>\n",
    "\n",
    "### Question 3. Hex"
   ]
  },
  {
   "cell_type": "code",
   "execution_count": null,
   "id": "02c47489-8a44-4806-851d-059cedf68332",
   "metadata": {},
   "outputs": [],
   "source": [
    "# T = int(input()) # test cases\n",
    "N,M,P = map(int, input().split()) # N- friends count, M- forbidden type, P - options count"
   ]
  },
  {
   "cell_type": "code",
   "execution_count": null,
   "id": "78fadd37-f84e-449f-866c-d35fc6929300",
   "metadata": {},
   "outputs": [],
   "source": [
    "friends = [input() for _ in range(N)]\n",
    "unavailable = [input() for _ in range(M)]"
   ]
  },
  {
   "cell_type": "code",
   "execution_count": null,
   "id": "c6940f46-1f31-4e7b-968b-fd1c016ac367",
   "metadata": {},
   "outputs": [],
   "source": [
    "# the smallest number of complaints"
   ]
  }
 ],
 "metadata": {
  "kernelspec": {
   "display_name": "Python 3 (ipykernel)",
   "language": "python",
   "name": "python3"
  },
  "language_info": {
   "codemirror_mode": {
    "name": "ipython",
    "version": 3
   },
   "file_extension": ".py",
   "mimetype": "text/x-python",
   "name": "python",
   "nbconvert_exporter": "python",
   "pygments_lexer": "ipython3",
   "version": "3.9.7"
  }
 },
 "nbformat": 4,
 "nbformat_minor": 5
}
