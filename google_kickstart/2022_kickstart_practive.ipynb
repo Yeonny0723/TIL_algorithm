{
 "cells": [
  {
   "cell_type": "markdown",
   "id": "2a74dfd5-ba0d-4894-8d8f-2786f4b89414",
   "metadata": {},
   "source": [
    "## ***2022 Kick start Practice***"
   ]
  },
  {
   "cell_type": "markdown",
   "id": "7c63fcaf-a157-4ca1-8038-3ab4ba402528",
   "metadata": {},
   "source": [
    "### Question 1."
   ]
  },
  {
   "cell_type": "code",
   "execution_count": 9,
   "id": "1147ac2b-441b-4c4b-9818-c9e5d3e042ba",
   "metadata": {},
   "outputs": [
    {
     "name": "stdin",
     "output_type": "stream",
     "text": [
      " 2\n",
      " 7 3\n",
      " 1 2 3 4 5 6 7\n"
     ]
    },
    {
     "name": "stdout",
     "output_type": "stream",
     "text": [
      "Case #1: 1\n"
     ]
    },
    {
     "name": "stdin",
     "output_type": "stream",
     "text": [
      " 5 10\n",
      " 7 7 7 7 7\n"
     ]
    },
    {
     "name": "stdout",
     "output_type": "stream",
     "text": [
      "Case #2: 5\n"
     ]
    }
   ],
   "source": [
    "T = int(input())\n",
    "for i in range(T):\n",
    "    N, M = map(int, input().split()) # N - 사탕가방 수, M- 인간수\n",
    "    C = list(map(int, input().split()))\n",
    "    res = sum(C) % M\n",
    "    print(f\"Case #{i+1}: {res}\")"
   ]
  },
  {
   "cell_type": "markdown",
   "id": "f49c381a-ad97-452a-8d97-1867e354e91e",
   "metadata": {},
   "source": [
    "<br>\n",
    "\n",
    "### Question 2. "
   ]
  },
  {
   "cell_type": "code",
   "execution_count": 22,
   "id": "323d477a-24e7-4f13-802e-04acc4ee5dc4",
   "metadata": {},
   "outputs": [
    {
     "name": "stdin",
     "output_type": "stream",
     "text": [
      " 3\n",
      " Mollaristan\n"
     ]
    },
    {
     "name": "stdout",
     "output_type": "stream",
     "text": [
      "Case #1: Mollaristan is ruled by Bob.\n"
     ]
    },
    {
     "name": "stdin",
     "output_type": "stream",
     "text": [
      " Auritania\n"
     ]
    },
    {
     "name": "stdout",
     "output_type": "stream",
     "text": [
      "Case #2: Auritania is ruled by Alice.\n"
     ]
    },
    {
     "name": "stdin",
     "output_type": "stream",
     "text": [
      " Zizily\n"
     ]
    },
    {
     "name": "stdout",
     "output_type": "stream",
     "text": [
      "Case #3: Zizily is ruled by nobody.\n"
     ]
    }
   ],
   "source": [
    "T = int(input())\n",
    "\n",
    "for i in range(T):\n",
    "    ruler = input()\n",
    "    ruler_lst = list(ruler)\n",
    "    alice =  ['A', 'E', 'I', 'O', 'U', 'a', 'e', 'i', 'o', 'u']\n",
    "    res = None\n",
    "    if ruler_lst[-1] in alice:\n",
    "        res = 'Alice'\n",
    "    elif ruler_lst[-1] in ['y','Y']:\n",
    "        res = 'nobody'\n",
    "    else:\n",
    "        res = 'Bob'\n",
    "    print(f\"Case #{i+1}: {ruler} is ruled by {res}.\")"
   ]
  },
  {
   "cell_type": "markdown",
   "id": "969d847c-f977-4448-be3c-0f73933378f5",
   "metadata": {},
   "source": [
    "<br>\n",
    "\n",
    "### Question 3. "
   ]
  },
  {
   "cell_type": "code",
   "execution_count": 77,
   "id": "5ccc9ddc-40d8-4f68-94cc-a1e791d84db1",
   "metadata": {
    "tags": []
   },
   "outputs": [
    {
     "name": "stdin",
     "output_type": "stream",
     "text": [
      " 2\n",
      " 3\n",
      " 5 1 2\n"
     ]
    },
    {
     "name": "stdout",
     "output_type": "stream",
     "text": [
      "Case #1: 1 1 2\n"
     ]
    },
    {
     "name": "stdin",
     "output_type": "stream",
     "text": [
      " 6\n",
      " 1 3 3 2 2 15\n"
     ]
    },
    {
     "name": "stdout",
     "output_type": "stream",
     "text": [
      "Case #2: 1 1 2 2 2 3\n"
     ]
    }
   ],
   "source": [
    "T = int(input())\n",
    "for t in range(T):\n",
    "    N = int(input())\n",
    "    Cs = map(int, input().split())\n",
    "    res = []\n",
    "    count, prev = 0, 0\n",
    "    for i, el in enumerate(Cs):\n",
    "        if i < 2:\n",
    "            prev = el\n",
    "            count = 1\n",
    "            res.append(count)\n",
    "        else:\n",
    "            if prev <= el:\n",
    "                count += 1\n",
    "                res.append(count)\n",
    "            else:\n",
    "                res.append(count)\n",
    "    print(f\"Case #{t+1}: \", end=\"\")\n",
    "    print(*res)"
   ]
  },
  {
   "cell_type": "markdown",
   "id": "67d73a73-77e1-48a5-b455-219cafe310bc",
   "metadata": {},
   "source": [
    "<br>\n",
    "\n",
    "### Question 3. Hex"
   ]
  },
  {
   "cell_type": "markdown",
   "id": "c1b172c9-cd80-47d5-bfdd-20df9b101e25",
   "metadata": {},
   "source": [
    "When does the impossible state happen? <br>\n",
    "- if the difference of the number of stones of each color is greater than 2\n",
    "- if the game has to be already decided\n",
    "\n",
    "When does the win state happen? <br>\n",
    "- when B occupies one horizontal line\n",
    "- when A occupies one vertical line"
   ]
  },
  {
   "cell_type": "code",
   "execution_count": 248,
   "id": "0208788e-6b33-4b13-a21c-a5af42aca7fa",
   "metadata": {
    "collapsed": true,
    "jupyter": {
     "outputs_hidden": true
    },
    "tags": []
   },
   "outputs": [
    {
     "name": "stdin",
     "output_type": "stream",
     "text": [
      " 7\n",
      " 1\n",
      " .\n"
     ]
    },
    {
     "name": "stdout",
     "output_type": "stream",
     "text": [
      "['.'] ['.']\n",
      "Case #1: Nobody wins\n"
     ]
    },
    {
     "name": "stdin",
     "output_type": "stream",
     "text": [
      " 1\n",
      " B\n"
     ]
    },
    {
     "name": "stdout",
     "output_type": "stream",
     "text": [
      "['B'] ['B']\n",
      "Case #2: Blue wins\n"
     ]
    },
    {
     "name": "stdin",
     "output_type": "stream",
     "text": [
      " 1\n",
      " R\n"
     ]
    },
    {
     "name": "stdout",
     "output_type": "stream",
     "text": [
      "['R'] ['R']\n",
      "Case #3: Red wins\n"
     ]
    },
    {
     "name": "stdin",
     "output_type": "stream",
     "text": [
      " 2\n",
      " BR\n",
      " BB\n"
     ]
    },
    {
     "name": "stdout",
     "output_type": "stream",
     "text": [
      "['BR', 'BB'] ['BB', 'RB']\n",
      "Case #4: Impossible\n"
     ]
    },
    {
     "ename": "KeyboardInterrupt",
     "evalue": "Interrupted by user",
     "output_type": "error",
     "traceback": [
      "\u001b[0;31m---------------------------------------------------------------------------\u001b[0m",
      "\u001b[0;31mKeyboardInterrupt\u001b[0m                         Traceback (most recent call last)",
      "\u001b[0;32m<ipython-input-248-862827a5fbc7>\u001b[0m in \u001b[0;36m<module>\u001b[0;34m\u001b[0m\n\u001b[1;32m     35\u001b[0m \u001b[0mT\u001b[0m \u001b[0;34m=\u001b[0m \u001b[0mint\u001b[0m\u001b[0;34m(\u001b[0m\u001b[0minput\u001b[0m\u001b[0;34m(\u001b[0m\u001b[0;34m)\u001b[0m\u001b[0;34m)\u001b[0m\u001b[0;34m\u001b[0m\u001b[0;34m\u001b[0m\u001b[0m\n\u001b[1;32m     36\u001b[0m \u001b[0;32mfor\u001b[0m \u001b[0mt\u001b[0m \u001b[0;32min\u001b[0m \u001b[0mrange\u001b[0m\u001b[0;34m(\u001b[0m\u001b[0mT\u001b[0m\u001b[0;34m)\u001b[0m\u001b[0;34m:\u001b[0m\u001b[0;34m\u001b[0m\u001b[0;34m\u001b[0m\u001b[0m\n\u001b[0;32m---> 37\u001b[0;31m     \u001b[0mN\u001b[0m \u001b[0;34m=\u001b[0m \u001b[0mint\u001b[0m\u001b[0;34m(\u001b[0m\u001b[0minput\u001b[0m\u001b[0;34m(\u001b[0m\u001b[0;34m)\u001b[0m\u001b[0;34m)\u001b[0m\u001b[0;34m\u001b[0m\u001b[0;34m\u001b[0m\u001b[0m\n\u001b[0m\u001b[1;32m     38\u001b[0m \u001b[0;34m\u001b[0m\u001b[0m\n\u001b[1;32m     39\u001b[0m     \u001b[0mm\u001b[0m \u001b[0;34m=\u001b[0m \u001b[0;34m[\u001b[0m\u001b[0;34m]\u001b[0m\u001b[0;34m\u001b[0m\u001b[0;34m\u001b[0m\u001b[0m\n",
      "\u001b[0;32m~/opt/anaconda3/lib/python3.7/site-packages/ipykernel/kernelbase.py\u001b[0m in \u001b[0;36mraw_input\u001b[0;34m(self, prompt)\u001b[0m\n\u001b[1;32m    861\u001b[0m             \u001b[0mself\u001b[0m\u001b[0;34m.\u001b[0m\u001b[0m_parent_ident\u001b[0m\u001b[0;34m,\u001b[0m\u001b[0;34m\u001b[0m\u001b[0;34m\u001b[0m\u001b[0m\n\u001b[1;32m    862\u001b[0m             \u001b[0mself\u001b[0m\u001b[0;34m.\u001b[0m\u001b[0m_parent_header\u001b[0m\u001b[0;34m,\u001b[0m\u001b[0;34m\u001b[0m\u001b[0;34m\u001b[0m\u001b[0m\n\u001b[0;32m--> 863\u001b[0;31m             \u001b[0mpassword\u001b[0m\u001b[0;34m=\u001b[0m\u001b[0;32mFalse\u001b[0m\u001b[0;34m,\u001b[0m\u001b[0;34m\u001b[0m\u001b[0;34m\u001b[0m\u001b[0m\n\u001b[0m\u001b[1;32m    864\u001b[0m         )\n\u001b[1;32m    865\u001b[0m \u001b[0;34m\u001b[0m\u001b[0m\n",
      "\u001b[0;32m~/opt/anaconda3/lib/python3.7/site-packages/ipykernel/kernelbase.py\u001b[0m in \u001b[0;36m_input_request\u001b[0;34m(self, prompt, ident, parent, password)\u001b[0m\n\u001b[1;32m    902\u001b[0m             \u001b[0;32mexcept\u001b[0m \u001b[0mKeyboardInterrupt\u001b[0m\u001b[0;34m:\u001b[0m\u001b[0;34m\u001b[0m\u001b[0;34m\u001b[0m\u001b[0m\n\u001b[1;32m    903\u001b[0m                 \u001b[0;31m# re-raise KeyboardInterrupt, to truncate traceback\u001b[0m\u001b[0;34m\u001b[0m\u001b[0;34m\u001b[0m\u001b[0;34m\u001b[0m\u001b[0m\n\u001b[0;32m--> 904\u001b[0;31m                 \u001b[0;32mraise\u001b[0m \u001b[0mKeyboardInterrupt\u001b[0m\u001b[0;34m(\u001b[0m\u001b[0;34m\"Interrupted by user\"\u001b[0m\u001b[0;34m)\u001b[0m \u001b[0;32mfrom\u001b[0m \u001b[0;32mNone\u001b[0m\u001b[0;34m\u001b[0m\u001b[0;34m\u001b[0m\u001b[0m\n\u001b[0m\u001b[1;32m    905\u001b[0m             \u001b[0;32mexcept\u001b[0m \u001b[0mException\u001b[0m \u001b[0;32mas\u001b[0m \u001b[0me\u001b[0m\u001b[0;34m:\u001b[0m\u001b[0;34m\u001b[0m\u001b[0;34m\u001b[0m\u001b[0m\n\u001b[1;32m    906\u001b[0m                 \u001b[0mself\u001b[0m\u001b[0;34m.\u001b[0m\u001b[0mlog\u001b[0m\u001b[0;34m.\u001b[0m\u001b[0mwarning\u001b[0m\u001b[0;34m(\u001b[0m\u001b[0;34m\"Invalid Message:\"\u001b[0m\u001b[0;34m,\u001b[0m \u001b[0mexc_info\u001b[0m\u001b[0;34m=\u001b[0m\u001b[0;32mTrue\u001b[0m\u001b[0;34m)\u001b[0m\u001b[0;34m\u001b[0m\u001b[0;34m\u001b[0m\u001b[0m\n",
      "\u001b[0;31mKeyboardInterrupt\u001b[0m: Interrupted by user"
     ]
    }
   ],
   "source": [
    "def is_winner(res):\n",
    "    for r in m:\n",
    "        if r == \"B\" * N:\n",
    "            if res == None:\n",
    "                res = \"Blue wins\"\n",
    "            elif res != \"Nobody wins\":\n",
    "                res = \"Impossible\"\n",
    "    for r in m_sw:\n",
    "        if r == \"R\" * N:\n",
    "            if res == None:\n",
    "                res = \"Red wins\"\n",
    "            elif res != \"Nobody wins\":\n",
    "                res = \"Impossible\"\n",
    "    return res\n",
    "\n",
    "def letter_count_is_valid(res):\n",
    "    if res != \"Impossible\":\n",
    "        count_r = 0\n",
    "        count_b = 0\n",
    "        for l in \" \".join(m):\n",
    "            if l == 'R':\n",
    "                count_r += 1\n",
    "            elif l == 'B':\n",
    "                count_b += 1\n",
    "        if abs(count_r-count_b) > 1:\n",
    "            res = \"Impossible\"\n",
    "    return res\n",
    "\n",
    "def nobody_wins(res):\n",
    "    if res == None:\n",
    "        res = \"Nobody wins\"\n",
    "    return res\n",
    "    \n",
    "T = int(input())\n",
    "for t in range(T):\n",
    "    N = int(input())\n",
    "    \n",
    "    m = []\n",
    "    m += [input() for _ in range(N)]\n",
    "    m_sw = []\n",
    "    for i in range(N):\n",
    "        row = \"\"\n",
    "        for el in m:\n",
    "            row += el[i]\n",
    "        m_sw.append(row)\n",
    "\n",
    "    res = None # state\n",
    "    res = is_winner(res)\n",
    "    res = letter_count_is_valid(res)\n",
    "    res = nobody_wins(res)\n",
    "    print(f\"Case #{t+1}: {res}\")"
   ]
  },
  {
   "cell_type": "markdown",
   "id": "064a1a67-2e38-4596-84c4-1e1c49df3ee4",
   "metadata": {},
   "source": [
    "<br>\n",
    "\n",
    "### Question 3. Hex"
   ]
  },
  {
   "cell_type": "code",
   "execution_count": 252,
   "id": "02c47489-8a44-4806-851d-059cedf68332",
   "metadata": {},
   "outputs": [
    {
     "name": "stdin",
     "output_type": "stream",
     "text": [
      " 3 1 4\n"
     ]
    }
   ],
   "source": [
    "# T = int(input()) # test cases\n",
    "N,M,P = map(int, input().split()) # N- friends count, M- forbidden type, P - options count"
   ]
  },
  {
   "cell_type": "code",
   "execution_count": 253,
   "id": "78fadd37-f84e-449f-866c-d35fc6929300",
   "metadata": {},
   "outputs": [
    {
     "name": "stdin",
     "output_type": "stream",
     "text": [
      " 1100\n",
      " 1010\n",
      " 0000\n",
      " 1000\n"
     ]
    }
   ],
   "source": [
    "friends = [input() for _ in range(N)]\n",
    "unavailable = [input() for _ in range(M)]"
   ]
  },
  {
   "cell_type": "code",
   "execution_count": null,
   "id": "c6940f46-1f31-4e7b-968b-fd1c016ac367",
   "metadata": {},
   "outputs": [],
   "source": [
    "# the smallest number of complaints"
   ]
  }
 ],
 "metadata": {
  "kernelspec": {
   "display_name": "Python 3",
   "language": "python",
   "name": "python3"
  },
  "language_info": {
   "codemirror_mode": {
    "name": "ipython",
    "version": 3
   },
   "file_extension": ".py",
   "mimetype": "text/x-python",
   "name": "python",
   "nbconvert_exporter": "python",
   "pygments_lexer": "ipython3",
   "version": "3.7.10"
  }
 },
 "nbformat": 4,
 "nbformat_minor": 5
}
