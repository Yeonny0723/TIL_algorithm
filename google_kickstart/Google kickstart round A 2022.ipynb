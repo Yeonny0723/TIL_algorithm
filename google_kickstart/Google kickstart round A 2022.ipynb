{
 "cells": [
  {
   "cell_type": "markdown",
   "metadata": {},
   "source": [
    "Round A 2022 - Kick start 2022"
   ]
  },
  {
   "cell_type": "code",
   "execution_count": 23,
   "metadata": {},
   "outputs": [
    {
     "name": "stdout",
     "output_type": "stream",
     "text": [
      "2\n",
      "iii\n",
      "iii\n",
      "Case #1: 0\n",
      "iii\n",
      "iiiiii\n",
      "Case #2: 3\n"
     ]
    }
   ],
   "source": [
    "T = int(input())\n",
    "\n",
    "for i in range(T):\n",
    "    str_target = list(input())\n",
    "    str_input = list(input())\n",
    "    res = None\n",
    "    try:\n",
    "        for el in str_target:\n",
    "            str_input.remove(el)\n",
    "        res = len(str_input)\n",
    "    except: \n",
    "        res = 'IMPOSSIBLE'\n",
    "    print('Case #{}: {}'.format(i + 1, res))"
   ]
  },
  {
   "cell_type": "code",
   "execution_count": 40,
   "metadata": {},
   "outputs": [
    {
     "name": "stdout",
     "output_type": "stream",
     "text": [
      "3\n",
      "5\n",
      "Case #2: 45\n",
      "33\n",
      "Case #2: 333\n",
      "12121\n",
      "Case #2: 121212\n"
     ]
    }
   ],
   "source": [
    "T = int(input())\n",
    "\n",
    "for _ in range(T):\n",
    "    N = int(input())\n",
    "    x = 1\n",
    "    res = 9\n",
    "    while True:\n",
    "        if str(N) in str(res):\n",
    "            print('Case #{}: {}'.format(i + 1, res))\n",
    "            break\n",
    "        x += 1\n",
    "        res = 9*x"
   ]
  }
 ],
 "metadata": {
  "kernelspec": {
   "display_name": "Python 3 (ipykernel)",
   "language": "python",
   "name": "python3"
  },
  "language_info": {
   "codemirror_mode": {
    "name": "ipython",
    "version": 3
   },
   "file_extension": ".py",
   "mimetype": "text/x-python",
   "name": "python",
   "nbconvert_exporter": "python",
   "pygments_lexer": "ipython3",
   "version": "3.9.7"
  }
 },
 "nbformat": 4,
 "nbformat_minor": 4
}
