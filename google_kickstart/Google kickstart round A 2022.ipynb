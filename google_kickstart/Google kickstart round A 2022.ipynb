{
 "cells": [
  {
   "cell_type": "markdown",
   "metadata": {},
   "source": [
    "Round A 2022 - Kick start 2022\n",
    "\n",
    "## *****Need to review***"
   ]
  },
  {
   "cell_type": "markdown",
   "metadata": {},
   "source": [
    "Q1. Speed Typing"
   ]
  },
  {
   "cell_type": "code",
   "execution_count": null,
   "metadata": {},
   "outputs": [],
   "source": [
    "import sys\n",
    "input_ = sys.stdin.readline\n",
    "\n",
    "T = int(input_())\n",
    "for i in range(T):\n",
    "    str_target = list(input_())\n",
    "    str_input = list(input_())\n",
    "    res = None\n",
    "    try:\n",
    "        for el in str_target:\n",
    "            str_input.remove(el)\n",
    "        res = len(str_input)\n",
    "    except: \n",
    "        res = 'IMPOSSIBLE'\n",
    "    print('Case #{}: {}'.format(i + 1, res))"
   ]
  },
  {
   "cell_type": "markdown",
   "metadata": {},
   "source": [
    "*solution"
   ]
  },
  {
   "cell_type": "code",
   "execution_count": 1,
   "metadata": {},
   "outputs": [
    {
     "name": "stdout",
     "output_type": "stream",
     "text": [
      "2\n",
      "aaaa\n",
      "aaaaa\n",
      "Case #1: 1\n",
      "bbbbb\n",
      "bbbbc\n",
      "Case #2: IMPOSSIBLE\n"
     ]
    }
   ],
   "source": [
    "import sys, math, itertools, functools, collections\n",
    "input = sys.stdin.readline\n",
    "\n",
    "def solve(testcase):\n",
    "    str_target = input().strip() # target\n",
    "    str_input = input().strip() # input\n",
    "    a =  len(t)-len(s)\n",
    "    t = iter(t)\n",
    "    print('Case #'+str(testcase)+':', a if all(ltr in str_input for ltr in str_target) else 'IMPOSSIBLE') \n",
    "\n",
    "for testcase in range(1, int(input())+1):\n",
    "    solve(testcase)"
   ]
  },
  {
   "cell_type": "markdown",
   "metadata": {},
   "source": [
    "Q2. Challenge Nine"
   ]
  },
  {
   "cell_type": "code",
   "execution_count": null,
   "metadata": {},
   "outputs": [],
   "source": [
    "T = int(input())\n",
    "\n",
    "for _ in range(T):\n",
    "    N = int(input())\n",
    "    x = 1\n",
    "    res = 9\n",
    "    while True:\n",
    "        if str(N) in str(res):\n",
    "            print('Case #{}: {}'.format(i + 1, res))\n",
    "            break\n",
    "        x += 1\n",
    "        res = 9*x"
   ]
  },
  {
   "cell_type": "code",
   "execution_count": null,
   "metadata": {},
   "outputs": [],
   "source": [
    "import sys, math, itertools, functools, collections\n",
    "input = sys.stdin.readline\n",
    "\n",
    "def solve(testcase):\n",
    "    n = input().strip()\n",
    "    s = 0\n",
    "    for i in n:\n",
    "        s = (s+int(i))%9\n",
    "    s = str((-s)%9)\n",
    "    if s != '0':\n",
    "        cur = 0\n",
    "        l = []\n",
    "        while cur < len(n) and n[cur] <= s:\n",
    "            l.append(n[cur])\n",
    "            cur += 1\n",
    "        l.append(s)\n",
    "        while cur < len(n):\n",
    "            l.append(n[cur])\n",
    "            cur += 1\n",
    "    else:\n",
    "        l = [n[0]]+['0']+list(n[1:])\n",
    "    print('Case #'+str(testcase)+':', ''.join(l))\n",
    "\n",
    "\n",
    "for testcase in range(1, int(input())+1):\n",
    "    solve(testcase)\n"
   ]
  },
  {
   "cell_type": "markdown",
   "metadata": {},
   "source": [
    "Q3. "
   ]
  },
  {
   "cell_type": "code",
   "execution_count": null,
   "metadata": {},
   "outputs": [],
   "source": [
    "import sys, math, itertools, functools, collections\n",
    "input = sys.stdin.readline\n",
    "\n",
    "def solve(testcase):\n",
    "    n = input().strip()\n",
    "    s = 0\n",
    "    for i in n:\n",
    "        s = (s+int(i))%9\n",
    "    s = str((-s)%9)\n",
    "    if s != '0':\n",
    "        cur = 0\n",
    "        l = []\n",
    "        while cur < len(n) and n[cur] <= s:\n",
    "            l.append(n[cur])\n",
    "            cur += 1\n",
    "        l.append(s)\n",
    "        while cur < len(n):\n",
    "            l.append(n[cur])\n",
    "            cur += 1\n",
    "    else:\n",
    "        l = [n[0]]+['0']+list(n[1:])\n",
    "    print('Case #'+str(testcase)+':', ''.join(l))\n",
    "\n",
    "\n",
    "for testcase in range(1, int(input())+1):\n",
    "    solve(testcase)\n"
   ]
  },
  {
   "cell_type": "markdown",
   "metadata": {},
   "source": [
    "Q4. "
   ]
  },
  {
   "cell_type": "code",
   "execution_count": null,
   "metadata": {
    "scrolled": true
   },
   "outputs": [],
   "source": [
    "from functools import reduce\n",
    "import sys\n",
    "input = sys.stdin.readline\n",
    "\n",
    "T = int(input())\n",
    "for i in range(T):\n",
    "    A,B = map(int, input().split())\n",
    "    \n",
    "    count = 0\n",
    "    for num in range(A,B+1):\n",
    "        lst = [int(a) for a in str(num)]\n",
    "        mul_res = 1\n",
    "        sum_res = 0\n",
    "        for el in lst:\n",
    "            mul_res *= el\n",
    "            sum_res += el\n",
    "        if mul_res % sum_res == 0:\n",
    "            count +=1\n",
    "    print('Case #{}: {}'.format(i + 1, count))"
   ]
  },
  {
   "cell_type": "markdown",
   "metadata": {},
   "source": [
    "- C++ : <br>\n",
    "reference from: https://codingcompetitions.withgoogle.com/kickstart/submissions/00000000008cb33e/000000000095466f"
   ]
  },
  {
   "cell_type": "code",
   "execution_count": null,
   "metadata": {},
   "outputs": [],
   "source": [
    "#include <bits/stdc++.h>\n",
    "using namespace std;\n",
    "\n",
    "#define ll long long\n",
    "#define mp make_pair\n",
    "#define pii pair<int, int>\n",
    "#define f first\n",
    "#define s second\n",
    "\n",
    "const int MOD = 1000000007;\n",
    "\n",
    "unordered_map<string, bool> dp[50005];\n",
    "string s;\n",
    "int n;\n",
    "\n",
    "bool f(int pos, string bef) {\n",
    "    //cout << pos << \" \" << bef << \"\\n\";\n",
    "    if (pos == n) return true;\n",
    "    if (dp[pos].find(bef) != dp[pos].end()) return dp[pos][bef];\n",
    "    if (s[pos] != '1') {\n",
    "        string bef2 = bef+'0';\n",
    "        bool good = true;\n",
    "        if (bef2.size() >= 5 && bef2[bef2.size()-1]==bef2[bef2.size()-5] && bef2[bef2.size()-2]==bef2[bef2.size()-4]) good = false;\n",
    "        if (bef2.size() == 6 && bef2[0]==bef2[5] && bef2[1]==bef2[4] && bef2[2]==bef2[3]) good = false;\n",
    "        if (bef2.size() == 6) bef2 = bef2.substr(1, 5);\n",
    "        if (good && f(pos+1, bef2)) return dp[pos][bef] = true;\n",
    "    }\n",
    "    if (s[pos] != '0') {\n",
    "        string bef2 = bef+'1';\n",
    "        bool good = true;\n",
    "        if (bef2.size() >= 5 && bef2[bef2.size()-1]==bef2[bef2.size()-5] && bef2[bef2.size()-2]==bef2[bef2.size()-4]) good = false;\n",
    "        if (bef2.size() == 6 && bef2[0]==bef2[5] && bef2[1]==bef2[4] && bef2[2]==bef2[3]) good = false;\n",
    "        if (bef2.size() == 6) bef2 = bef2.substr(1, 5);\n",
    "        if (good && f(pos+1, bef2)) return dp[pos][bef] = true;\n",
    "    }\n",
    "\n",
    "    return dp[pos][bef] = false;\n",
    "}\n",
    "\n",
    "void solve(int testcase) {\n",
    "    cin >> n >> s;\n",
    "    for (int i=0; i<n; i++) dp[i].clear();\n",
    "    string empty;\n",
    "    cout << \"Case #\" << testcase << \": \" << (f(0, empty) ? \"POSSIBLE\\n\" : \"IMPOSSIBLE\\n\"); \n",
    "}\n",
    "\n",
    "int main() {\n",
    "    cin.sync_with_stdio(0);\n",
    "    cin.tie(0);\n",
    "    int tests = 1;\n",
    "    cin >> tests;\n",
    "    for (int testcase=1; testcase<=tests; testcase++) solve(testcase);\n",
    "}\n",
    "\n"
   ]
  }
 ],
 "metadata": {
  "kernelspec": {
   "display_name": "Python 3 (ipykernel)",
   "language": "python",
   "name": "python3"
  },
  "language_info": {
   "codemirror_mode": {
    "name": "ipython",
    "version": 3
   },
   "file_extension": ".py",
   "mimetype": "text/x-python",
   "name": "python",
   "nbconvert_exporter": "python",
   "pygments_lexer": "ipython3",
   "version": "3.9.7"
  }
 },
 "nbformat": 4,
 "nbformat_minor": 4
}
