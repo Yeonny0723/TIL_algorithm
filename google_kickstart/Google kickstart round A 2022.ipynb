{
 "cells": [
  {
   "cell_type": "markdown",
   "metadata": {},
   "source": [
    "Round A 2022 - Kick start 2022"
   ]
  },
  {
   "cell_type": "markdown",
   "metadata": {},
   "source": [
    "Q1. "
   ]
  },
  {
   "cell_type": "code",
   "execution_count": 23,
   "metadata": {},
   "outputs": [
    {
     "name": "stdout",
     "output_type": "stream",
     "text": [
      "2\n",
      "iii\n",
      "iii\n",
      "Case #1: 0\n",
      "iii\n",
      "iiiiii\n",
      "Case #2: 3\n"
     ]
    }
   ],
   "source": [
    "import sys\n",
    "input_ = sys.stdin.readline\n",
    "\n",
    "T = int(input())\n",
    "for i in range(T):\n",
    "    str_target = list(input())\n",
    "    str_input = list(input())\n",
    "    res = None\n",
    "    try:\n",
    "        for el in str_target:\n",
    "            str_input.remove(el)\n",
    "        res = len(str_input)\n",
    "    except: \n",
    "        res = 'IMPOSSIBLE'\n",
    "    print('Case #{}: {}'.format(i + 1, res))"
   ]
  },
  {
   "cell_type": "markdown",
   "metadata": {},
   "source": [
    "Q2. "
   ]
  },
  {
   "cell_type": "code",
   "execution_count": 40,
   "metadata": {},
   "outputs": [
    {
     "name": "stdout",
     "output_type": "stream",
     "text": [
      "3\n",
      "5\n",
      "Case #2: 45\n",
      "33\n",
      "Case #2: 333\n",
      "12121\n",
      "Case #2: 121212\n"
     ]
    }
   ],
   "source": [
    "T = int(input())\n",
    "\n",
    "for _ in range(T):\n",
    "    N = int(input())\n",
    "    x = 1\n",
    "    res = 9\n",
    "    while True:\n",
    "        if str(N) in str(res):\n",
    "            print('Case #{}: {}'.format(i + 1, res))\n",
    "            break\n",
    "        x += 1\n",
    "        res = 9*x"
   ]
  },
  {
   "cell_type": "markdown",
   "metadata": {},
   "source": [
    "Q4. "
   ]
  },
  {
   "cell_type": "code",
   "execution_count": 43,
   "metadata": {
    "scrolled": true
   },
   "outputs": [
    {
     "name": "stdout",
     "output_type": "stream",
     "text": [
      "4\n",
      "1 9\n",
      "Case #1: 9\n",
      "91 99\n",
      "Case #2: 0\n",
      "451 460\n",
      "Case #3: 5\n",
      "501 1000\n",
      "Case #4: 176\n"
     ]
    }
   ],
   "source": [
    "from functools import reduce\n",
    "import sys\n",
    "input = sys.stdin.readline\n",
    "\n",
    "T = int(input())\n",
    "for i in range(T):\n",
    "    A,B = map(int, input().split())\n",
    "    \n",
    "    count = 0\n",
    "    for num in range(A,B+1):\n",
    "        lst = [int(a) for a in str(num)]\n",
    "        mul_res = 1\n",
    "        sum_res = 0\n",
    "        for el in lst:\n",
    "            mul_res *= el\n",
    "            sum_res += el\n",
    "        if mul_res % sum_res == 0:\n",
    "            count +=1\n",
    "    print('Case #{}: {}'.format(i + 1, count))"
   ]
  }
 ],
 "metadata": {
  "kernelspec": {
   "display_name": "Python 3 (ipykernel)",
   "language": "python",
   "name": "python3"
  },
  "language_info": {
   "codemirror_mode": {
    "name": "ipython",
    "version": 3
   },
   "file_extension": ".py",
   "mimetype": "text/x-python",
   "name": "python",
   "nbconvert_exporter": "python",
   "pygments_lexer": "ipython3",
   "version": "3.9.7"
  }
 },
 "nbformat": 4,
 "nbformat_minor": 4
}
