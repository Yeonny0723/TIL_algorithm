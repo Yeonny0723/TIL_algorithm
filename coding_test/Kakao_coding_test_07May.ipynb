{
 "cells": [
  {
   "cell_type": "markdown",
   "id": "af210f62",
   "metadata": {},
   "source": [
    "Q. 연습문제"
   ]
  },
  {
   "cell_type": "code",
   "execution_count": null,
   "id": "d8eb032b",
   "metadata": {},
   "outputs": [],
   "source": [
    "vs =[[1, 1], [2, 2], [1, 2]]"
   ]
  },
  {
   "cell_type": "code",
   "execution_count": null,
   "id": "ae5477c7",
   "metadata": {},
   "outputs": [],
   "source": [
    "def solution(vs):\n",
    "    te_x = []\n",
    "    te_y = []\n",
    "    for v in vs:\n",
    "        if v[0] in te_x:\n",
    "            te_x.remove(v[0])\n",
    "        else:\n",
    "            te_x.append(v[0])\n",
    "        if v[1] in te_y:\n",
    "            te_y.remove(v[1])\n",
    "        else:\n",
    "            te_y.append(v[1])\n",
    "    answer = [te_x[0], te_y[0]]\n",
    "    return answer"
   ]
  },
  {
   "cell_type": "code",
   "execution_count": null,
   "id": "4708be77",
   "metadata": {},
   "outputs": [],
   "source": [
    "solution(vs)"
   ]
  },
  {
   "cell_type": "markdown",
   "id": "4decd4bf",
   "metadata": {},
   "source": [
    "#### Question 2"
   ]
  },
  {
   "cell_type": "code",
   "execution_count": null,
   "id": "9ac7d593",
   "metadata": {},
   "outputs": [],
   "source": [
    "def solution(q1, q2, result = 0):\n",
    "    if result >= max(len(q1), len(q2)): # unable to accomplish the task\n",
    "        result = -1\n",
    "        return result\n",
    "    else:\n",
    "        if sum(q1) == sum(q2):\n",
    "            return result\n",
    "        else:\n",
    "            if sum(q1) > sum(q2):\n",
    "                extracted = q1.pop(0) # extracted el\n",
    "                q2.append(extracted)\n",
    "                result += 1\n",
    "                return solution(q1, q2, result)\n",
    "            else:\n",
    "                extracted = q2.pop(0)\n",
    "                q1.append(extracted)\n",
    "                result += 1\n",
    "                return solution(q1, q2, result)"
   ]
  },
  {
   "cell_type": "code",
   "execution_count": null,
   "id": "ca86d842",
   "metadata": {},
   "outputs": [],
   "source": [
    "queue1 = [3, 2, 7, 2]\n",
    "queue2 = [4, 6, 5, 1]"
   ]
  },
  {
   "cell_type": "code",
   "execution_count": null,
   "id": "97c87234",
   "metadata": {},
   "outputs": [],
   "source": [
    "solution(queue1, queue2)"
   ]
  },
  {
   "cell_type": "markdown",
   "id": "293b12b2",
   "metadata": {},
   "source": [
    "Question 3"
   ]
  },
  {
   "cell_type": "code",
   "execution_count": null,
   "id": "0a868ab6",
   "metadata": {},
   "outputs": [],
   "source": [
    "alp # 알고력\n",
    "cop # 코딩력\n",
    "problems # 문제정보"
   ]
  },
  {
   "cell_type": "code",
   "execution_count": null,
   "id": "b99ee258",
   "metadata": {},
   "outputs": [],
   "source": [
    "[alp_req, cop_req, alp_rwd, cop_rwd, cost]\n",
    "# 알고력 코딩력 문제푼후증가알고력 증가코딩력 드는시간"
   ]
  },
  {
   "cell_type": "code",
   "execution_count": null,
   "id": "20a13ab1",
   "metadata": {},
   "outputs": [],
   "source": [
    "problems = [[10,15,2,1,2],[20,20,3,3,4]]"
   ]
  },
  {
   "cell_type": "code",
   "execution_count": null,
   "id": "b0b773a8",
   "metadata": {},
   "outputs": [],
   "source": [
    "xs, ys = [[x[0], x[1]] for x in problems]\n",
    "target_v = [max(xs), max(ys)]\n",
    "target_v"
   ]
  },
  {
   "cell_type": "code",
   "execution_count": null,
   "id": "6ef5177d",
   "metadata": {},
   "outputs": [],
   "source": [
    "[1,0] a\n",
    "[0,1] b\n",
    "[2,1] c\n",
    "for prob in problems:\n",
    "    alp_req = prob[0]\n",
    "    cop_req = prob[1]\n",
    "    \n",
    "    \n",
    "    \n",
    "    alp_rwd = prob[2]\n",
    "    cop_rwd = prob[3]\n",
    "    \n",
    "    cost = prob[4]\n",
    "    \n",
    "    "
   ]
  },
  {
   "cell_type": "markdown",
   "id": "062e6b64",
   "metadata": {},
   "source": [
    "Question 4. "
   ]
  },
  {
   "cell_type": "code",
   "execution_count": 22,
   "id": "7b420b11",
   "metadata": {},
   "outputs": [],
   "source": [
    "def solution(n, paths, gates, summits):\n",
    "    cache = [[0]*(n+1) for _ in range(n+1)]\n",
    "    \n",
    "    for path in paths:\n",
    "        x = path[0]\n",
    "        y = path[1]\n",
    "        intensity = path[2]\n",
    "        cache[x][y] = intensity\n",
    "        cache[y][x] = intensity\n",
    "        \n",
    "    answer = {}\n",
    "    for gate in gates:\n",
    "        for summit in summits:\n",
    "            intens_lst = []\n",
    "            climb(n, summits, gates, gate, gate, summit, cache, intens_lst)\n",
    "            answer[summit] = min(intens_lst)\n",
    "            \n",
    "    result = list(min(answer.items(), key = lambda answer : answer[1]))\n",
    "    return result\n",
    "\n",
    "\n",
    "def climb(n, summits, gates, gate, g_from, summit, cache, intens_lst, intensity = None, save = None):\n",
    "    \n",
    "    for to in range(n+1):\n",
    "        \n",
    "        if (to != None) and (to == save): # checkpoint\n",
    "            continue\n",
    "\n",
    "        if cache[g_from][to]:\n",
    "            if (to != summit) and (to in summits):\n",
    "                continue\n",
    "\n",
    "            if (g_from != gate) and (g_from in gates):\n",
    "                continue\n",
    "\n",
    "            x = cache[g_from][to]\n",
    "\n",
    "            if to != summit:\n",
    "                if intensity == None:\n",
    "                    intensity = x\n",
    "                if x > intensity: # 쉬어야하는 가장 긴 시간\n",
    "                    intensity = x\n",
    "\n",
    "                climb(n, summits, gates, gate, to, summit, cache,intens_lst, intensity, save = g_from)\n",
    "\n",
    "            else:\n",
    "                if intensity == None:\n",
    "                    intensity = x\n",
    "                if x > intensity: # 쉬어야하는 가장 긴 시간\n",
    "                    intensity = x\n",
    "\n",
    "                intens_lst.append(intensity)\n",
    "\n"
   ]
  },
  {
   "cell_type": "code",
   "execution_count": 27,
   "id": "f45e33fe",
   "metadata": {},
   "outputs": [
    {
     "data": {
      "text/plain": [
       "[5, 20]"
      ]
     },
     "execution_count": 27,
     "metadata": {},
     "output_type": "execute_result"
    }
   ],
   "source": [
    "n = 5\n",
    "paths = [[1, 3, 10], [1, 4, 20], [2, 3, 4], [2, 4, 6], [3, 5, 20], [4, 5, 6]]\n",
    "gates = [1, 2]\n",
    "summits = [5]\n",
    "solution(n, paths, gates, summits)"
   ]
  }
 ],
 "metadata": {
  "kernelspec": {
   "display_name": "Python 3",
   "language": "python",
   "name": "python3"
  },
  "language_info": {
   "codemirror_mode": {
    "name": "ipython",
    "version": 3
   },
   "file_extension": ".py",
   "mimetype": "text/x-python",
   "name": "python",
   "nbconvert_exporter": "python",
   "pygments_lexer": "ipython3",
   "version": "3.7.10"
  }
 },
 "nbformat": 4,
 "nbformat_minor": 5
}
