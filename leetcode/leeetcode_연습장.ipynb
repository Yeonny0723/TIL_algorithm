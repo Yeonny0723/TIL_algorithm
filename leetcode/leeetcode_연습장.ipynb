{
 "cells": [
  {
   "cell_type": "markdown",
   "id": "627a3e97",
   "metadata": {},
   "source": [
    "## https://leetcode.com/problems/isomorphic-strings"
   ]
  },
  {
   "cell_type": "code",
   "execution_count": 193,
   "id": "fdaba188",
   "metadata": {},
   "outputs": [],
   "source": [
    "class Solution:\n",
    "    def isIsomorphic(self, s, t):\n",
    "        d = {}\n",
    "        for idx, (s_l, t_l) in enumerate(zip(s, t)):\n",
    "            if s_l in d.keys():\n",
    "                if d[s_l] != t_l:\n",
    "                    return False\n",
    "            else:\n",
    "                d[s_l] = t_l\n",
    "                d[t_l] = s_l\n",
    "                \n",
    "        return True"
   ]
  },
  {
   "cell_type": "code",
   "execution_count": 197,
   "id": "6f0dd8b5",
   "metadata": {},
   "outputs": [
    {
     "data": {
      "text/plain": [
       "True"
      ]
     },
     "execution_count": 197,
     "metadata": {},
     "output_type": "execute_result"
    }
   ],
   "source": [
    "solution = Solution()\n",
    "solution.isIsomorphic(\"badc\", \"baba\")"
   ]
  },
  {
   "cell_type": "code",
   "execution_count": null,
   "id": "a80e34e6",
   "metadata": {},
   "outputs": [],
   "source": []
  },
  {
   "cell_type": "code",
   "execution_count": null,
   "id": "01b0b24b",
   "metadata": {},
   "outputs": [],
   "source": []
  }
 ],
 "metadata": {
  "kernelspec": {
   "display_name": "Python 3",
   "language": "python",
   "name": "python3"
  },
  "language_info": {
   "codemirror_mode": {
    "name": "ipython",
    "version": 3
   },
   "file_extension": ".py",
   "mimetype": "text/x-python",
   "name": "python",
   "nbconvert_exporter": "python",
   "pygments_lexer": "ipython3",
   "version": "3.7.10"
  }
 },
 "nbformat": 4,
 "nbformat_minor": 5
}
