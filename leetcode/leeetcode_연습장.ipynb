{
 "cells": [
  {
   "cell_type": "markdown",
   "id": "9ceeabc8",
   "metadata": {},
   "source": [
    "## https://leetcode.com/problems/isomorphic-strings"
   ]
  },
  {
   "cell_type": "code",
   "execution_count": 23,
   "id": "777b7c14",
   "metadata": {},
   "outputs": [],
   "source": [
    "class Solution:\n",
    "    def isIsomorphic(self, s: str, t: str) -> bool:\n",
    "        for s_letter, t_letter in zip(s,t):\n",
    "            s = s.replace(s_letter, \"\")\n",
    "            t = t.replace(t_letter, \"\")\n",
    "            if len(s) != len(t):\n",
    "                return False\n",
    "        return True"
   ]
  },
  {
   "cell_type": "code",
   "execution_count": 28,
   "id": "b084bc2a",
   "metadata": {},
   "outputs": [
    {
     "name": "stdout",
     "output_type": "stream",
     "text": [
      "s: bbbaaaba t: aaabbbba\n",
      "s: aaaa t: bbbb\n",
      "s: aaaa t: bbbb\n",
      "s: aaaa t: bbbb\n",
      "s:  t: \n",
      "s:  t: \n",
      "s:  t: \n",
      "s:  t: \n"
     ]
    },
    {
     "data": {
      "text/plain": [
       "True"
      ]
     },
     "execution_count": 28,
     "metadata": {},
     "output_type": "execute_result"
    }
   ],
   "source": [
    "solution = Solution()\n",
    "solution.isIsomorphic(\"bbbaaaba\", \"aaabbbba\")"
   ]
  },
  {
   "cell_type": "code",
   "execution_count": null,
   "id": "7b588a63",
   "metadata": {},
   "outputs": [],
   "source": [
    "\"bbbaaaba\"\n",
    "\"aaabbbba\""
   ]
  }
 ],
 "metadata": {
  "kernelspec": {
   "display_name": "Python 3",
   "language": "python",
   "name": "python3"
  },
  "language_info": {
   "codemirror_mode": {
    "name": "ipython",
    "version": 3
   },
   "file_extension": ".py",
   "mimetype": "text/x-python",
   "name": "python",
   "nbconvert_exporter": "python",
   "pygments_lexer": "ipython3",
   "version": "3.7.10"
  }
 },
 "nbformat": 4,
 "nbformat_minor": 5
}
