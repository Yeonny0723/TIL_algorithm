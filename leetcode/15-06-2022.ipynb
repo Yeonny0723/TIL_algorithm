{
 "cells": [
  {
   "cell_type": "markdown",
   "id": "05a62a6b",
   "metadata": {},
   "source": [
    "Q. https://leetcode.com/problems/contains-duplicate/\n",
    "\n",
    "Takeaway: array + sort to check duplicates"
   ]
  },
  {
   "cell_type": "code",
   "execution_count": 1,
   "id": "b365e32e",
   "metadata": {},
   "outputs": [],
   "source": [
    "class Solution(object):\n",
    "    def containsDuplicate(self, nums):\n",
    "        nums.sort()\n",
    "        for i in range(0, len(nums)-1):\n",
    "            if nums[i] == nums[i+1]:\n",
    "                return True\n",
    "        return False"
   ]
  },
  {
   "cell_type": "code",
   "execution_count": 2,
   "id": "dc3bedd4",
   "metadata": {},
   "outputs": [
    {
     "data": {
      "text/plain": [
       "True"
      ]
     },
     "execution_count": 2,
     "metadata": {},
     "output_type": "execute_result"
    }
   ],
   "source": [
    "solution = Solution()\n",
    "solution.containsDuplicate([1,2,3,1])"
   ]
  },
  {
   "cell_type": "markdown",
   "id": "dff5cb7b",
   "metadata": {},
   "source": [
    "Q. https://leetcode.com/problems/maximum-subarray/\n",
    "\n",
    "- max() 활용하여 최대값 찾기\n",
    "\n",
    "Solutions\n",
    "https://www.youtube.com/watch?v=K3W8_zUZmKE"
   ]
  },
  {
   "cell_type": "code",
   "execution_count": 27,
   "id": "012b5736",
   "metadata": {},
   "outputs": [],
   "source": [
    "nums = [-2,1,-3,4,-1,2,1,-5,4]"
   ]
  },
  {
   "cell_type": "code",
   "execution_count": 30,
   "id": "00f83dc2",
   "metadata": {},
   "outputs": [],
   "source": [
    "def maxSubArray(nums):\n",
    "    maxSum, curSum = nums[0], nums[0]\n",
    "    for i in range(1, len(nums)):\n",
    "        curSum = nums[i] + max(curSum, 0)\n",
    "        print(nums[i], max(curSum,0))\n",
    "        maxSum = max(maxSum, curSum)\n",
    "\n",
    "    return maxSum"
   ]
  },
  {
   "cell_type": "code",
   "execution_count": null,
   "id": "0998b15b",
   "metadata": {},
   "outputs": [],
   "source": []
  },
  {
   "cell_type": "code",
   "execution_count": null,
   "id": "c4f8f8d3",
   "metadata": {},
   "outputs": [],
   "source": []
  },
  {
   "cell_type": "code",
   "execution_count": null,
   "id": "821413f6",
   "metadata": {},
   "outputs": [],
   "source": []
  }
 ],
 "metadata": {
  "kernelspec": {
   "display_name": "Python 3",
   "language": "python",
   "name": "python3"
  },
  "language_info": {
   "codemirror_mode": {
    "name": "ipython",
    "version": 3
   },
   "file_extension": ".py",
   "mimetype": "text/x-python",
   "name": "python",
   "nbconvert_exporter": "python",
   "pygments_lexer": "ipython3",
   "version": "3.7.10"
  }
 },
 "nbformat": 4,
 "nbformat_minor": 5
}
