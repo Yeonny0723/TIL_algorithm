{
 "cells": [
  {
   "cell_type": "markdown",
   "id": "a848be5e",
   "metadata": {},
   "source": [
    "# <center>Binary Search</center>"
   ]
  },
  {
   "cell_type": "markdown",
   "id": "77670967",
   "metadata": {},
   "source": [
    "Q. https://www.acmicpc.net/status?user_id=kkjuyeon&problem_id=1920&from_mine=1"
   ]
  },
  {
   "cell_type": "code",
   "execution_count": 23,
   "id": "7008b190",
   "metadata": {},
   "outputs": [],
   "source": [
    "def binary_search(start, end, search): \n",
    "    if start > end:\n",
    "        return False\n",
    "    median = (start + end) // 2\n",
    "    if search > N_list[median]:\n",
    "        return binary_search(median+1, end, search)\n",
    "    elif search < N_list[median]:\n",
    "        return binary_search(start, median-1, search)\n",
    "    else:\n",
    "        return True"
   ]
  },
  {
   "cell_type": "code",
   "execution_count": 24,
   "id": "ee62eb24",
   "metadata": {
    "scrolled": true
   },
   "outputs": [
    {
     "name": "stdout",
     "output_type": "stream",
     "text": [
      "5\n",
      "5 7 9 2 1\n",
      "5\n",
      "7 9 3 6 8\n",
      "1\n",
      "1\n",
      "0\n",
      "0\n",
      "0\n"
     ]
    }
   ],
   "source": [
    "N = int(input())\n",
    "N_list = list(map(int, input().split()))\n",
    "M = int(input())\n",
    "M_list = list(map(int, input().split()))\n",
    "N_list.sort()\n",
    "\n",
    "for search in M_list: \n",
    "    if binary_search(0, N-1, search): # N_list를 전역변수처럼 쓰기 위해 리스트를 넘겨주지 않고, 리스트 인덱스를 넘겨줌\n",
    "        print(1)\n",
    "    else: \n",
    "        print(0)"
   ]
  },
  {
   "cell_type": "code",
   "execution_count": null,
   "id": "6ee1b572",
   "metadata": {},
   "outputs": [],
   "source": []
  }
 ],
 "metadata": {
  "kernelspec": {
   "display_name": "Python 3",
   "language": "python",
   "name": "python3"
  },
  "language_info": {
   "codemirror_mode": {
    "name": "ipython",
    "version": 3
   },
   "file_extension": ".py",
   "mimetype": "text/x-python",
   "name": "python",
   "nbconvert_exporter": "python",
   "pygments_lexer": "ipython3",
   "version": "3.7.10"
  }
 },
 "nbformat": 4,
 "nbformat_minor": 5
}
