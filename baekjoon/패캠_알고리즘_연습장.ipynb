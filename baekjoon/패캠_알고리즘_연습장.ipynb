{
 "cells": [
  {
   "cell_type": "markdown",
   "id": "8539bf47",
   "metadata": {},
   "source": [
    "## https://www.acmicpc.net/problem/1920\n",
    "\n",
    "\n",
    "Method1. #data-structure#dictionary\n",
    "\n",
    "- Time complexity: O(n) / 10*5 < 1s\n"
   ]
  },
  {
   "cell_type": "code",
   "execution_count": 10,
   "id": "6a610320",
   "metadata": {},
   "outputs": [],
   "source": [
    "from collections import defaultdict\n",
    "\n",
    "_ = int(input())\n",
    "N = map(int, input().split())\n",
    "_ = int(input())\n",
    "M = map(int, input().split())\n",
    "\n",
    "d = defaultdict(int)\n",
    "for n in N:\n",
    "    d[n] = 1\n",
    "\n",
    "for m in M:\n",
    "    print(d[m])\n"
   ]
  },
  {
   "cell_type": "markdown",
   "id": "ebf07369",
   "metadata": {},
   "source": [
    "Method2. #set\n",
    "\n",
    "- Time complexity: O(1) / 10 < 1s\n",
    "\n",
    "as set is implemented as a hashtable, the search time complexity of set is o(1) average"
   ]
  },
  {
   "cell_type": "code",
   "execution_count": null,
   "id": "29ca1643",
   "metadata": {},
   "outputs": [],
   "source": [
    "_ = int(input())\n",
    "N = set(map(int, input().split()))\n",
    "_ = int(input())\n",
    "M = map(int, input().split())\n",
    "\n",
    "for m in M:\n",
    "    if m not in N:\n",
    "        print(0)\n",
    "    else:\n",
    "        print(1)"
   ]
  },
  {
   "cell_type": "markdown",
   "id": "16ead432",
   "metadata": {},
   "source": [
    "## https://www.acmicpc.net/problem/4195\n",
    "\n",
    "#union-n-find\n",
    "원소들의 연결 여부 확인\n"
   ]
  },
  {
   "cell_type": "code",
   "execution_count": 26,
   "id": "646681a9",
   "metadata": {},
   "outputs": [],
   "source": [
    "def find(x):\n",
    "    '''\n",
    "    최상단 부모를 찾는 함수\n",
    "    '''\n",
    "    if x == parent[x]: # 스스로가 부모라면\n",
    "        return x # 그냥 계속 부모해\n",
    "    else:\n",
    "        p = find(parent[x]) # 부모를 계속 찾아 \n",
    "        parent[x] = p\n",
    "        return p\n",
    "    \n",
    "def union(x,y):\n",
    "    x = find(x) # 최상단 부모 찾아\n",
    "    y = find(y)\n",
    "    \n",
    "    if x != y: # 둘이 부모가 다르다면\n",
    "        parent[y] = x\n",
    "        number[x] += number[y]\n",
    "        "
   ]
  },
  {
   "cell_type": "code",
   "execution_count": 27,
   "id": "d0903f3b",
   "metadata": {
    "scrolled": true
   },
   "outputs": [
    {
     "name": "stdout",
     "output_type": "stream",
     "text": [
      "2\n",
      "3\n",
      "Fred Barney\n",
      "2\n",
      "Barney Betty\n",
      "3\n",
      "Betty Wilma\n",
      "4\n",
      "3\n",
      "Fred Barney\n",
      "2\n",
      "Betty Wilma\n",
      "2\n",
      "Barney Betty\n",
      "4\n"
     ]
    }
   ],
   "source": [
    "T = int(input())\n",
    "for _ in range(T): # test case\n",
    "    parent = {} \n",
    "    number = {} # connections\n",
    "    \n",
    "    f = int(input()) # number of connections input\n",
    "    for _ in range(f):\n",
    "        x, y = input().split(\" \") # friend1, friend2\n",
    "        \n",
    "        if x not in parent: # 아직 부모가 없다면\n",
    "            parent[x] = x # 스스로를 부모로 설정\n",
    "            number[x] = 1 # connection은 자기 자신\n",
    "        \n",
    "        if y not in parent:\n",
    "            parent[y] = y\n",
    "            number[y] = 1\n",
    "            \n",
    "        \n",
    "        union(x,y) # x와 y를 연결하기 \n",
    "        print(number[find(x)]) # x를 부모로 하는 커넥션 수를 찾자 "
   ]
  },
  {
   "cell_type": "markdown",
   "id": "a20085fd",
   "metadata": {},
   "source": [
    "## https://www.acmicpc.net/problem/2750\n",
    "\n",
    "#quick-sorting"
   ]
  },
  {
   "cell_type": "code",
   "execution_count": 27,
   "id": "8b759cfa",
   "metadata": {},
   "outputs": [],
   "source": [
    "# 퀵정렬\n",
    "\n",
    "n = int(input())\n",
    "nums = [int(input()) for _ in range(n)]\n",
    "\n",
    "def qsort(nums):\n",
    "    if len(nums) < 1:\n",
    "        return nums\n",
    "    pivot = nums[0]\n",
    "    left, right = [], []\n",
    "    for i in range(1, len(nums)):\n",
    "        if pivot > nums[i]:\n",
    "            left.append(nums[i])\n",
    "        else:\n",
    "            right.append(nums[i])\n",
    "    return qsort(left) + [pivot] + qsort(right)\n",
    "\n",
    "qsort(nums)"
   ]
  },
  {
   "cell_type": "code",
   "execution_count": 28,
   "id": "10d63dcc",
   "metadata": {},
   "outputs": [
    {
     "data": {
      "text/plain": [
       "[1, 2, 3, 4, 5]"
      ]
     },
     "execution_count": 28,
     "metadata": {},
     "output_type": "execute_result"
    }
   ],
   "source": [
    "qsort(nums)"
   ]
  },
  {
   "cell_type": "markdown",
   "id": "ceb1c374",
   "metadata": {},
   "source": [
    "## https://www.acmicpc.net/problem/1427\n",
    "\n",
    "#sort-in-side#counting-sort\n",
    "- 9~0까지 숫자와 일치하면 출력\n",
    "- 시간복잡도 O(9*n) = O(n)"
   ]
  },
  {
   "cell_type": "code",
   "execution_count": 63,
   "id": "ffea0664",
   "metadata": {},
   "outputs": [
    {
     "name": "stdout",
     "output_type": "stream",
     "text": [
      "999998999\n",
      "999999998"
     ]
    }
   ],
   "source": [
    "nums = input()\n",
    "\n",
    "for i in range(9, -1, -1): # from 0-9\n",
    "    for num in nums:\n",
    "        if int(num) == i:\n",
    "            print(i, end='')"
   ]
  },
  {
   "cell_type": "markdown",
   "id": "1c3e2419",
   "metadata": {},
   "source": [
    "## https://www.acmicpc.net/problem/10814\n",
    "\n",
    "#tuple#lambda#sort"
   ]
  },
  {
   "cell_type": "code",
   "execution_count": 76,
   "id": "087cc39e",
   "metadata": {
    "scrolled": true
   },
   "outputs": [
    {
     "name": "stdout",
     "output_type": "stream",
     "text": [
      "3\n",
      "21 Junkyu\n",
      "21 Dohyun\n",
      "20 Sunyoung\n",
      "20 Sunyoung\n",
      "21 Junkyu\n",
      "21 Dohyun\n"
     ]
    }
   ],
   "source": [
    "n = int(input())\n",
    "lst = [tuple(input().split()) for _ in range(n)]\n",
    "lst.sort(key=lambda tup:int(tup[0]))\n",
    "for tup in lst:\n",
    "    print(\" \".join(tup))"
   ]
  },
  {
   "cell_type": "markdown",
   "id": "14baf478",
   "metadata": {},
   "source": [
    "## https://www.acmicpc.net/problem/11650\n",
    "\n",
    "#sort-tuple"
   ]
  },
  {
   "cell_type": "code",
   "execution_count": 86,
   "id": "cb8a68b5",
   "metadata": {},
   "outputs": [
    {
     "name": "stdout",
     "output_type": "stream",
     "text": [
      "5\n"
     ]
    }
   ],
   "source": [
    "n = int(input())\n",
    "nums = [tuple(map(int, input().split())) for _ in range(n)]\n",
    "nums.sort()\n",
    "for i in nums:\n",
    "    print(i[0], i[1])"
   ]
  },
  {
   "cell_type": "markdown",
   "id": "1eef8934",
   "metadata": {},
   "source": [
    "## https://www.acmicpc.net/problem/10989\n",
    "\n",
    "#파이썬은1초에2000만개(2*10^7) 연산 가능. 데이터개수가 많을 떄에는 sys.stdin.readline()사용할 것\n",
    "#counting-sort"
   ]
  },
  {
   "cell_type": "code",
   "execution_count": null,
   "id": "63991976",
   "metadata": {},
   "outputs": [],
   "source": [
    "# 런타임에러 발생 X\n",
    "\n",
    "import sys\n",
    " \n",
    "N = int(sys.stdin.readline() )\n",
    "nums = [0] * 100001\n",
    "\n",
    "for _ in range(N):\n",
    "    idx = int(sys.stdin.readline()) -1\n",
    "    nums[num] += 1\n",
    "    \n",
    "for idx in range(1,100001):\n",
    "    if nums[idx] != 0:\n",
    "        for _ in range(nums[idx]):\n",
    "            print(idx)"
   ]
  },
  {
   "cell_type": "code",
   "execution_count": 129,
   "id": "52c50965",
   "metadata": {
    "scrolled": true
   },
   "outputs": [
    {
     "name": "stdout",
     "output_type": "stream",
     "text": [
      "10\n",
      "5\n",
      "2\n",
      "3\n",
      "1\n",
      "4\n",
      "2\n",
      "3\n",
      "5\n",
      "1\n",
      "7\n",
      "1\n",
      "1\n",
      "2\n",
      "2\n",
      "3\n",
      "3\n",
      "4\n",
      "5\n",
      "5\n",
      "7\n"
     ]
    }
   ],
   "source": [
    "# 런타임에러 발생 O\n",
    "\n",
    "import sys\n",
    "\n",
    "input = sys.stdin.readline() \n",
    "\n",
    "N = int(input())\n",
    "nums = [0] * 100001\n",
    "\n",
    "for _ in range(N):\n",
    "    idx = int(input()) -1\n",
    "    nums[num] += 1\n",
    "    \n",
    "for idx in range(1,100001):\n",
    "    if nums[idx] != 0:\n",
    "        for _ in range(nums[idx]):\n",
    "            print(idx)"
   ]
  }
 ],
 "metadata": {
  "kernelspec": {
   "display_name": "Python 3",
   "language": "python",
   "name": "python3"
  },
  "language_info": {
   "codemirror_mode": {
    "name": "ipython",
    "version": 3
   },
   "file_extension": ".py",
   "mimetype": "text/x-python",
   "name": "python",
   "nbconvert_exporter": "python",
   "pygments_lexer": "ipython3",
   "version": "3.7.10"
  }
 },
 "nbformat": 4,
 "nbformat_minor": 5
}
