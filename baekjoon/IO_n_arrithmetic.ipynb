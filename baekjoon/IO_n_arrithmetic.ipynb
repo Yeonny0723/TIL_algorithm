{
 "cells": [
  {
   "cell_type": "markdown",
   "id": "7f7c5711-8633-4227-894a-aa81fe86b4b2",
   "metadata": {},
   "source": [
    "## ***Arithmetic***"
   ]
  },
  {
   "cell_type": "markdown",
   "id": "d7db26b4-284f-4e99-8cd2-29a0aa49e74d",
   "metadata": {},
   "source": [
    "<br></br>\n",
    "### Q 2588. \n",
    "> https://www.acmicpc.net/problem/2588<br>"
   ]
  },
  {
   "cell_type": "code",
   "execution_count": 52,
   "id": "63068361-36df-4efd-b6f2-5b47b8c82281",
   "metadata": {
    "tags": []
   },
   "outputs": [
    {
     "name": "stdin",
     "output_type": "stream",
     "text": [
      " 472\n",
      " 385\n"
     ]
    },
    {
     "name": "stdout",
     "output_type": "stream",
     "text": [
      "2360\n",
      "3776\n",
      "1416\n",
      "181720\n"
     ]
    }
   ],
   "source": [
    "a = int(input())\n",
    "b = input()[::-1] # reverse a string. select char from start to end ~ and step in -1\n",
    "res = 0 \n",
    "for idx, el in enumerate(b):\n",
    "    r = a*int(el)\n",
    "    print(r)\n",
    "    res += r*10**idx\n",
    "print(res)"
   ]
  },
  {
   "cell_type": "code",
   "execution_count": null,
   "id": "a7dd76f6-d887-4ec2-a2ad-c18b5c252fad",
   "metadata": {},
   "outputs": [],
   "source": []
  }
 ],
 "metadata": {
  "kernelspec": {
   "display_name": "Python 3",
   "language": "python",
   "name": "python3"
  },
  "language_info": {
   "codemirror_mode": {
    "name": "ipython",
    "version": 3
   },
   "file_extension": ".py",
   "mimetype": "text/x-python",
   "name": "python",
   "nbconvert_exporter": "python",
   "pygments_lexer": "ipython3",
   "version": "3.8.8"
  }
 },
 "nbformat": 4,
 "nbformat_minor": 5
}
