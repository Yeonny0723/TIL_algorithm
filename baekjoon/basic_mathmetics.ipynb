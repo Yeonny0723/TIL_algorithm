{
 "cells": [
  {
   "cell_type": "markdown",
   "id": "9a99b544-1bbe-4b66-b39a-ecd384ad2df1",
   "metadata": {},
   "source": [
    "## ***Basic Mathmetics***"
   ]
  },
  {
   "cell_type": "markdown",
   "id": "4de6d648-be13-4c9e-951d-6852714d9751",
   "metadata": {},
   "source": [
    "<br></br>\n",
    "### Q 1712. \n",
    "> https://www.acmicpc.net/problem/1712<br>"
   ]
  },
  {
   "cell_type": "code",
   "execution_count": 30,
   "id": "04852ff8-9ec0-4a18-8044-44197d5b00e6",
   "metadata": {},
   "outputs": [
    {
     "name": "stdin",
     "output_type": "stream",
     "text": [
      " 3 2 2\n"
     ]
    }
   ],
   "source": [
    "A,B,C = map(int,input().split())"
   ]
  },
  {
   "cell_type": "code",
   "execution_count": 34,
   "id": "2e9374c3-0a6b-4fa8-80bf-35b7a517abd7",
   "metadata": {},
   "outputs": [
    {
     "name": "stdout",
     "output_type": "stream",
     "text": [
      "-1\n"
     ]
    }
   ],
   "source": [
    "res = int(A/(C-B)) + 1 if C-B != 0 else -1 # zerodivisionerror\n",
    "print(res if res > 0 else -1)"
   ]
  }
 ],
 "metadata": {
  "kernelspec": {
   "display_name": "Python 3",
   "language": "python",
   "name": "python3"
  },
  "language_info": {
   "codemirror_mode": {
    "name": "ipython",
    "version": 3
   },
   "file_extension": ".py",
   "mimetype": "text/x-python",
   "name": "python",
   "nbconvert_exporter": "python",
   "pygments_lexer": "ipython3",
   "version": "3.8.8"
  }
 },
 "nbformat": 4,
 "nbformat_minor": 5
}
