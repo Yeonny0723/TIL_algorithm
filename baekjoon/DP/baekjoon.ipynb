{
 "cells": [
  {
   "cell_type": "markdown",
   "id": "b3dadaac",
   "metadata": {},
   "source": [
    "### <center>DP Practice</center>"
   ]
  },
  {
   "cell_type": "markdown",
   "id": "18db859e",
   "metadata": {},
   "source": [
    "---\n",
    "Problem: https://www.acmicpc.net/problem/11726\n",
    "\n",
    "<img src='https://lh3.google.com/u/0/d/1X-vUl9RYMfPSeQvkZU_9gbxSo--tXaLi=w2000-h2934-iv1' width=500/>"
   ]
  },
  {
   "cell_type": "code",
   "execution_count": 1,
   "id": "ef50df5c",
   "metadata": {},
   "outputs": [
    {
     "name": "stdout",
     "output_type": "stream",
     "text": [
      "9\n",
      "55\n"
     ]
    }
   ],
   "source": [
    "num = int(input())\n",
    "\n",
    "cache = [0 for _ in range(1001)]\n",
    "cache[1] = 1\n",
    "cache[2] = 2\n",
    "\n",
    "for i in range(3,1001):\n",
    "    cache[i] = cache[i-1] + cache[i-2]\n",
    "        \n",
    "print(cache[num] % 10007)"
   ]
  },
  {
   "cell_type": "markdown",
   "id": "1da095c9",
   "metadata": {},
   "source": [
    "---\n",
    "Problem: https://www.acmicpc.net/problem/9461\n"
   ]
  },
  {
   "cell_type": "markdown",
   "id": "7c04f884",
   "metadata": {},
   "source": [
    "<img src=\"https://lh3.google.com/u/0/d/1mQN1H_9PSIdVBVuFopfgeZiH3ew4dgyq=w2000-h2934-iv1\" width='400'/>"
   ]
  },
  {
   "cell_type": "code",
   "execution_count": 31,
   "id": "3d2259b5",
   "metadata": {
    "scrolled": true
   },
   "outputs": [
    {
     "name": "stdout",
     "output_type": "stream",
     "text": [
      "2\n",
      "6\n",
      "3\n",
      "12\n",
      "16\n"
     ]
    }
   ],
   "source": [
    "# import sys\n",
    "# input = sys.stdin.readline # To accelerate input process\n",
    "\n",
    "cache = [0 for _ in range(101)]\n",
    "cache[1],cache[2],cache[3] = 1,1,1\n",
    "\n",
    "for _ in range(int(input())): \n",
    "    num = int(input())\n",
    "    for i in range(4,num+1):\n",
    "        if cache[i] == 0:\n",
    "            cache[i] = cache[i-2] + cache[i-3]\n",
    "    print(cache[num])"
   ]
  },
  {
   "cell_type": "markdown",
   "id": "f3a8e6e9",
   "metadata": {},
   "source": [
    "---\n",
    "Problem: https://www.acmicpc.net/problem/1904\n",
    "\n",
    "<img src=\"https://lh3.google.com/u/0/d/12bBd0ZCzATQC-TLZiJYpRMx0UQSrNIJF=w2000-h2934-iv1\" width=\"400\"/>"
   ]
  },
  {
   "cell_type": "code",
   "execution_count": 40,
   "id": "35d45254",
   "metadata": {},
   "outputs": [
    {
     "name": "stdout",
     "output_type": "stream",
     "text": [
      "4\n",
      "5\n"
     ]
    }
   ],
   "source": [
    "num = int(input())    \n",
    "cache = [0 for _ in range(1000001)]\n",
    "cache[1],cache[2] = 1,2\n",
    "for i in range(3, num+1):\n",
    "    if cache[i] == 0:\n",
    "        cache[i] = (cache[i-1] + cache[i-2]) % 15746 # To prevent memory exceeds\n",
    "print(cache[num])"
   ]
  },
  {
   "cell_type": "code",
   "execution_count": null,
   "id": "ae80445c",
   "metadata": {},
   "outputs": [],
   "source": []
  }
 ],
 "metadata": {
  "kernelspec": {
   "display_name": "Python 3",
   "language": "python",
   "name": "python3"
  },
  "language_info": {
   "codemirror_mode": {
    "name": "ipython",
    "version": 3
   },
   "file_extension": ".py",
   "mimetype": "text/x-python",
   "name": "python",
   "nbconvert_exporter": "python",
   "pygments_lexer": "ipython3",
   "version": "3.7.10"
  }
 },
 "nbformat": 4,
 "nbformat_minor": 5
}
