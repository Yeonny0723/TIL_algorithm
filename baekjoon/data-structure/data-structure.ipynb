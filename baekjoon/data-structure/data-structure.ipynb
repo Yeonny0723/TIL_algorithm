{
 "cells": [
  {
   "cell_type": "markdown",
   "id": "03544ffe",
   "metadata": {},
   "source": [
    "Q. https://www.acmicpc.net/problem/2920\n",
    "#list"
   ]
  },
  {
   "cell_type": "code",
   "execution_count": 42,
   "id": "bdfc58c3",
   "metadata": {
    "scrolled": true
   },
   "outputs": [
    {
     "name": "stdout",
     "output_type": "stream",
     "text": [
      "8 7 6 5 4 3 2 1\n"
     ]
    }
   ],
   "source": [
    "notes = list(map(int, input().split()))"
   ]
  },
  {
   "cell_type": "code",
   "execution_count": 43,
   "id": "d9cecb1a",
   "metadata": {},
   "outputs": [
    {
     "name": "stdout",
     "output_type": "stream",
     "text": [
      "descending\n"
     ]
    }
   ],
   "source": [
    "ascending = True\n",
    "descending = True\n",
    "\n",
    "for i in range(1,8):\n",
    "    if notes[i] > notes[i-1]:\n",
    "        descending = False\n",
    "    elif notes[i] < notes[i-1]:\n",
    "        ascending = False\n",
    "    \n",
    "if ascending: \n",
    "    print(\"ascending\")\n",
    "elif descending: \n",
    "    print(\"descending\")\n",
    "else: \n",
    "    print(\"mixed\")"
   ]
  },
  {
   "cell_type": "markdown",
   "id": "f2a9c472",
   "metadata": {},
   "source": [
    "Q. https://www.acmicpc.net/problem/2798\n",
    "#list#brute-force"
   ]
  },
  {
   "cell_type": "code",
   "execution_count": 123,
   "id": "dd47b915",
   "metadata": {
    "scrolled": true
   },
   "outputs": [
    {
     "name": "stdout",
     "output_type": "stream",
     "text": [
      "10 500\n",
      "93 181 245 214 315 36 185 138 216 295\n"
     ]
    }
   ],
   "source": [
    "cardCount, maxSum = list(map(int, input().split()))\n",
    "cards = list(map(int, input().split())) # not sorted"
   ]
  },
  {
   "cell_type": "code",
   "execution_count": 125,
   "id": "e32a0c42",
   "metadata": {
    "scrolled": true
   },
   "outputs": [
    {
     "name": "stdout",
     "output_type": "stream",
     "text": [
      "497\n"
     ]
    }
   ],
   "source": [
    "ans = 0\n",
    "for i in range(0, cardCount):\n",
    "    for j in range(i+1, cardCount):\n",
    "        for k in range(j+1, cardCount):\n",
    "            res = cards[i] + cards[j] + cards[k]\n",
    "            if res <= maxSum:\n",
    "                ans = max(ans, res) #***\n",
    "print(ans)"
   ]
  },
  {
   "cell_type": "markdown",
   "id": "83130b01",
   "metadata": {},
   "source": [
    "Q. https://www.acmicpc.net/problem/1874 #list#greed"
   ]
  },
  {
   "cell_type": "code",
   "execution_count": 1,
   "id": "301dff08",
   "metadata": {
    "scrolled": true
   },
   "outputs": [
    {
     "name": "stdout",
     "output_type": "stream",
     "text": [
      "5\n",
      "1\n",
      "2\n",
      "5\n",
      "3\n",
      "NO\n",
      "4\n",
      "+\n",
      "-\n",
      "+\n",
      "-\n",
      "+\n",
      "+\n",
      "+\n",
      "-\n",
      "-\n"
     ]
    }
   ],
   "source": [
    "n = int(input())\n",
    "\n",
    "stack, res = [], []\n",
    "count = 1\n",
    "\n",
    "for i in range(1, n+1): # 데이터 개수만큼 반복\n",
    "    data = int(input())\n",
    "    while count <= data: # 입력받은 데이터에 도달할때까지 삽입\n",
    "        stack.append(count)\n",
    "        count += 1\n",
    "        res.append(\"+\")\n",
    "    if stack[-1] == data: # 스택의 최상위 원소가 데이터와 같을 때 출력\n",
    "        stack.pop()\n",
    "        res.append(\"-\")\n",
    "    else: # 불가능한 경우\n",
    "        print(\"NO\") \n",
    "        exit(0) # 프로그램 종료\n",
    "    \n",
    "print('\\n'.join(res))"
   ]
  },
  {
   "cell_type": "markdown",
   "id": "6ba55ad0",
   "metadata": {},
   "source": [
    "Q. https://www.acmicpc.net/problem/1966 #queue\n",
    "\n",
    "- max & lambda\n",
    "- save index with enumerate"
   ]
  },
  {
   "cell_type": "code",
   "execution_count": 28,
   "id": "1654ce3d",
   "metadata": {
    "scrolled": true
   },
   "outputs": [
    {
     "name": "stdout",
     "output_type": "stream",
     "text": [
      "3\n",
      "1 0\n",
      "5\n",
      "1\n",
      "4 2\n",
      "1 2 3 4\n",
      "2\n",
      "6 0\n",
      "1 1 9 1 1 1\n",
      "5\n"
     ]
    }
   ],
   "source": [
    "T = int(input())\n",
    "for _ in range(T):\n",
    "    n, m = list(map(int, input().split()))\n",
    "    queue = list(map(int, input().split()))\n",
    "    queue = [(idx, el) for idx, el in enumerate(queue)]\n",
    "\n",
    "    count = 0\n",
    "    while True: \n",
    "        if queue[0][1] == max(queue, key=lambda x: x[1])[1]: # 첫원소가 max라면\n",
    "            count += 1\n",
    "            if queue[0][0] == m: # 첫원소가 타겟이라면\n",
    "                print(count)\n",
    "                break\n",
    "            else:\n",
    "                queue.pop(0) # 아니라면 최대값만 팝\n",
    "        else:\n",
    "            queue.append(queue.pop(0)) # first out last in"
   ]
  },
  {
   "cell_type": "markdown",
   "id": "f0c85e8c",
   "metadata": {},
   "source": [
    "Q. https://www.acmicpc.net/problem/5397 #stack\n",
    "- 커서 앞 뒤 문자를 저장하는 스택을 2개 생성\n"
   ]
  },
  {
   "cell_type": "code",
   "execution_count": 58,
   "id": "678fa76a",
   "metadata": {},
   "outputs": [
    {
     "name": "stdout",
     "output_type": "stream",
     "text": [
      "2\n",
      "<<BP<A>>Cd-\n",
      "BAPC\n",
      "ThIsIsS3Cr3t\n",
      "ThIsIsS3Cr3t\n"
     ]
    }
   ],
   "source": [
    "T = int(input())\n",
    "for _ in range(T):\n",
    "    bf_cursor = []\n",
    "    af_cursor = []\n",
    "    for command in input():\n",
    "        if command == \"<\":\n",
    "            if bf_cursor:\n",
    "                af_cursor.append(bf_cursor.pop())\n",
    "        elif command == \">\":\n",
    "            if af_cursor:\n",
    "                bf_cursor.append(af_cursor.pop())\n",
    "        elif command == \"-\":\n",
    "            if bf_cursor:\n",
    "                bf_cursor.pop()\n",
    "        else:\n",
    "            bf_cursor.append(command)\n",
    "    bf_cursor.extend(reversed(af_cursor)) # 커서 후의 스택을 뒤집기\n",
    "    print(\"\".join(bf_cursor))"
   ]
  },
  {
   "cell_type": "code",
   "execution_count": null,
   "id": "f4e91fc3",
   "metadata": {},
   "outputs": [],
   "source": []
  }
 ],
 "metadata": {
  "kernelspec": {
   "display_name": "Python 3",
   "language": "python",
   "name": "python3"
  },
  "language_info": {
   "codemirror_mode": {
    "name": "ipython",
    "version": 3
   },
   "file_extension": ".py",
   "mimetype": "text/x-python",
   "name": "python",
   "nbconvert_exporter": "python",
   "pygments_lexer": "ipython3",
   "version": "3.7.10"
  }
 },
 "nbformat": 4,
 "nbformat_minor": 5
}
