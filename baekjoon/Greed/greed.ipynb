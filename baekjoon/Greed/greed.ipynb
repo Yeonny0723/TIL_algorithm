{
 "cells": [
  {
   "cell_type": "markdown",
   "id": "8a39d36e",
   "metadata": {},
   "source": [
    "## <center>Greed</center>"
   ]
  },
  {
   "cell_type": "markdown",
   "id": "fd8f2da2",
   "metadata": {},
   "source": [
    "Q. https://www.acmicpc.net/problem/11399"
   ]
  },
  {
   "cell_type": "markdown",
   "id": "bf10ab19",
   "metadata": {},
   "source": [
    "<img src=\"https://lh3.google.com/u/0/d/1e-MqCFgWIUTkYDTlzA8NOsqmyBk8YSIS=w2000-h2934-iv1\" width=500/>"
   ]
  },
  {
   "cell_type": "code",
   "execution_count": 6,
   "id": "98d86cb0",
   "metadata": {},
   "outputs": [
    {
     "name": "stdout",
     "output_type": "stream",
     "text": [
      "5\n",
      "3 1 4 3 2\n",
      "32\n"
     ]
    }
   ],
   "source": [
    "N = int(input())\n",
    "queue = list(map(int, input().split()))\n",
    "queue.sort() # 정렬\n",
    "total = 0\n",
    "for i in range(N):\n",
    "    total += queue[i] * (N-i)\n",
    "print(total)"
   ]
  },
  {
   "cell_type": "code",
   "execution_count": null,
   "id": "5995c7ca",
   "metadata": {},
   "outputs": [],
   "source": []
  }
 ],
 "metadata": {
  "kernelspec": {
   "display_name": "Python 3",
   "language": "python",
   "name": "python3"
  },
  "language_info": {
   "codemirror_mode": {
    "name": "ipython",
    "version": 3
   },
   "file_extension": ".py",
   "mimetype": "text/x-python",
   "name": "python",
   "nbconvert_exporter": "python",
   "pygments_lexer": "ipython3",
   "version": "3.7.10"
  }
 },
 "nbformat": 4,
 "nbformat_minor": 5
}
