{
 "cells": [
  {
   "cell_type": "markdown",
   "id": "1d44b725",
   "metadata": {},
   "source": [
    "<br></br>\n",
    "<br></br>\n",
    "<h1><center>Summary of Algorithm 1</center></h1>\n",
    "<h2><center>Binary Search</center></h2>\n",
    "<h4><center>Fast campus</center></h4>\n",
    "<br>\n",
    "<div style=\"text-align: right\"><h4>13/08/2022~##/##/2022</h4></div>\n",
    "<div style=\"text-align: right\"><h4>Juyeon Kim</h4></div>\n",
    "<br></br>\n",
    "<br></br>"
   ]
  },
  {
   "cell_type": "markdown",
   "id": "f59e88d1",
   "metadata": {},
   "source": [
    "---\n",
    "### 1. Binary search (이진탐색)\n",
    "\n",
    "- 리스트 데이터가 정렬되어있다는 가정하에\n",
    "- 자료를 계속해서 반으로 나누어 찾으려는 데이터의 위치를 찾는 기법\n",
    "\n",
    "- 이진탐색은 데이터를 나눠 문제를 해결한다는 점에서 분할 정복 알고리즘 중 하나임"
   ]
  },
  {
   "cell_type": "code",
   "execution_count": 12,
   "id": "2ce7e271",
   "metadata": {},
   "outputs": [],
   "source": [
    "def binary_search(data, search):\n",
    "    if (len(data) == 1) and (data[0] == search):\n",
    "        return True\n",
    "    if (len(data) == 1) and (data[0] != search):\n",
    "        return False\n",
    "    if len(data) == 0:\n",
    "        return False\n",
    "    \n",
    "    medium = len(data) // 2\n",
    "    left = data[:medium]\n",
    "    right = data[medium:]\n",
    "    if search == data[medium]:\n",
    "        return True\n",
    "    elif search < data[medium]:\n",
    "        return binary_search(left, search)\n",
    "    else:\n",
    "        return binary_search(right, search)\n",
    "        "
   ]
  },
  {
   "cell_type": "code",
   "execution_count": 11,
   "id": "0d4c86fa",
   "metadata": {},
   "outputs": [
    {
     "data": {
      "text/plain": [
       "True"
      ]
     },
     "execution_count": 11,
     "metadata": {},
     "output_type": "execute_result"
    }
   ],
   "source": [
    "data = [i+1 for i in range(50)]\n",
    "binary_search(data, 50)"
   ]
  },
  {
   "cell_type": "markdown",
   "id": "7c71151e",
   "metadata": {},
   "source": [
    "***시간 복잡도***\n",
    "\n",
    "(데이터가 정렬된 상태일 때)비교 대상이 절반씩 줄어드니까, O(logn)"
   ]
  },
  {
   "cell_type": "markdown",
   "id": "4338d6a3",
   "metadata": {},
   "source": [
    "---\n",
    "### 2. Sequential search (순차탐색)\n",
    "\n",
    "- 처음부터 같은 값이 있는지 다 돌아보며 찾는 기법\n",
    "\n"
   ]
  },
  {
   "cell_type": "markdown",
   "id": "01f6eb98",
   "metadata": {},
   "source": [
    "***시간 복잡도***\n",
    "\n",
    "O(n)"
   ]
  },
  {
   "cell_type": "code",
   "execution_count": null,
   "id": "27345616",
   "metadata": {},
   "outputs": [],
   "source": []
  }
 ],
 "metadata": {
  "kernelspec": {
   "display_name": "Python 3",
   "language": "python",
   "name": "python3"
  },
  "language_info": {
   "codemirror_mode": {
    "name": "ipython",
    "version": 3
   },
   "file_extension": ".py",
   "mimetype": "text/x-python",
   "name": "python",
   "nbconvert_exporter": "python",
   "pygments_lexer": "ipython3",
   "version": "3.7.10"
  }
 },
 "nbformat": 4,
 "nbformat_minor": 5
}
