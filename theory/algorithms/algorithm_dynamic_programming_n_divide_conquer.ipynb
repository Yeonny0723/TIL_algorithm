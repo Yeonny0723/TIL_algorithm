{
 "cells": [
  {
   "cell_type": "markdown",
   "id": "1d44b725",
   "metadata": {},
   "source": [
    "<br></br>\n",
    "<br></br>\n",
    "<h1><center>Summary of Algorithm 1</center></h1>\n",
    "<h2><center>Dynamic Programming & Divide and conquer</center></h2>\n",
    "<h4><center>Fast campus</center></h4>\n",
    "<br>\n",
    "<div style=\"text-align: right\"><h4>12/08/2022~##/##/2022</h4></div>\n",
    "<div style=\"text-align: right\"><h4>Juyeon Kim</h4></div>\n",
    "<br></br>\n",
    "<br></br>"
   ]
  },
  {
   "cell_type": "markdown",
   "id": "f59e88d1",
   "metadata": {},
   "source": [
    "---\n",
    "### 1. DP (동적계획법)\n",
    "\n",
    "- 입력이 작은 문제 먼저 해결 저장해 (Memoization), 그걸 활용해 더 큰 문제를 푸는 알고리즘\n",
    "- 부분 문제 중복 -> 더 큰 문제 해결 시 사용\n",
    "\n"
   ]
  },
  {
   "cell_type": "markdown",
   "id": "60e42af9",
   "metadata": {},
   "source": [
    "- 대표예제: 피보나치 수열\n",
    "\n",
    "\n",
    "\n",
    "***방법 1. Recursive call 사용***\n",
    "\n",
    "**BUT**\n",
    "fibo(4), fibo(5), fibo(6)을 계산하는 경우, 이미 계산이 완료된 fibo(3)이 반복적으로 재계산되며 스택에 쌓일 수 있어 -> 메모리 & 시간 문제"
   ]
  },
  {
   "cell_type": "code",
   "execution_count": 2,
   "id": "25b83ff4",
   "metadata": {},
   "outputs": [
    {
     "data": {
      "text/plain": [
       "8"
      ]
     },
     "execution_count": 2,
     "metadata": {},
     "output_type": "execute_result"
    }
   ],
   "source": [
    "def fibo(num):\n",
    "    if num <= 1:\n",
    "        return num\n",
    "    return fibo(num - 1) + fibo(num - 2) \n",
    "\n",
    "fibo(6)"
   ]
  },
  {
   "cell_type": "markdown",
   "id": "3487a498",
   "metadata": {},
   "source": [
    "***방법 2. DP 사용***"
   ]
  },
  {
   "cell_type": "code",
   "execution_count": 28,
   "id": "369e2722",
   "metadata": {},
   "outputs": [
    {
     "data": {
      "text/plain": [
       "3"
      ]
     },
     "execution_count": 28,
     "metadata": {},
     "output_type": "execute_result"
    }
   ],
   "source": [
    "def fibo_dp(num):\n",
    "    cache = [0 for _ in range(num+1)]\n",
    "    cache[0] = 0\n",
    "    cache[1] = 1\n",
    "    for i in range(2, num+1):\n",
    "        cache[i] = cache[i-1] + cache[i-2]\n",
    "    return cache[num]\n",
    "\n",
    "fibo_dp(4)"
   ]
  },
  {
   "cell_type": "markdown",
   "id": "d5e1a101",
   "metadata": {},
   "source": [
    "---\n",
    "### 2. Divide and Conquer (분할정복)\n",
    "\n",
    "- 부분 문제 서로 중복 X. "
   ]
  },
  {
   "cell_type": "code",
   "execution_count": null,
   "id": "ac4192c8",
   "metadata": {},
   "outputs": [],
   "source": []
  }
 ],
 "metadata": {
  "kernelspec": {
   "display_name": "Python 3",
   "language": "python",
   "name": "python3"
  },
  "language_info": {
   "codemirror_mode": {
    "name": "ipython",
    "version": 3
   },
   "file_extension": ".py",
   "mimetype": "text/x-python",
   "name": "python",
   "nbconvert_exporter": "python",
   "pygments_lexer": "ipython3",
   "version": "3.7.10"
  }
 },
 "nbformat": 4,
 "nbformat_minor": 5
}
