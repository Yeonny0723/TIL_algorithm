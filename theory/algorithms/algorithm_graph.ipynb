{
 "cells": [
  {
   "cell_type": "markdown",
   "id": "1d44b725",
   "metadata": {},
   "source": [
    "<br></br>\n",
    "<br></br>\n",
    "<h1><center>Summary of Algorithm 1</center></h1>\n",
    "<h2><center>Graph</center></h2>\n",
    "<h4><center>Fast campus</center></h4>\n",
    "<br>\n",
    "<div style=\"text-align: right\"><h4>13/08/2022~##/##/2022</h4></div>\n",
    "<div style=\"text-align: right\"><h4>Juyeon Kim</h4></div>\n",
    "<br></br>\n",
    "<br></br>"
   ]
  },
  {
   "cell_type": "markdown",
   "id": "f59e88d1",
   "metadata": {},
   "source": [
    "---\n",
    "### 1. Graph\n",
    "\n",
    "- Consists of Node (Vertex) & Edge (간선)\n",
    "\n",
    "\n",
    "**Terminology**\n",
    "- Degree (차수): 노드 하나에 간선이 몇 개 연결되어있느냐\n",
    "- Simple path (단순 차수): 왔던 길을 또 가지 않고 모든 노드를 지날 수 있는 경로\n",
    "- Cycle (사이클): 완던 길을 또 가지 않고 다시 시작점으로 돌아올 수 있는 경로\n",
    "\n",
    "\n",
    "\n",
    "#### 2. 그래프의 종류 \n",
    "- 무방향그래프(Undirected): 간선에 화살이 없어. 양방향으로 갈 수 있음. \n",
    "- 중 연결그래프(Connected): 모든 노드로 갈 수 있어. 비연결그래프: 갈 수 없는 노드가 있어. \n",
    "- 방향그래프: 화살이 있는 방향으로만 갈 수 있음. <A,B> 표기: A->B에만 화살이 있음을 의미\n",
    "- 가중치그래프(Weighted): 각 간선에 비용이 있는 그래프. 어디로 가는게 비용이 적게 드는지 계산.\n",
    "- 사이클그래프(Cycle): 출발점 == 도착점. 그게 않은 경우가 비순환그래프(Acyclic). \n",
    "- 완전그래프(Complete): 모든 노드가 다른 모든 노드로 접근 가능한 간선을 가짐. \n",
    "\n",
    "\n",
    "- 트리 ⊂ 그래프 "
   ]
  },
  {
   "cell_type": "markdown",
   "id": "e436957b",
   "metadata": {},
   "source": [
    "### 2. 그래프 탐색 알고리즘\n",
    "\n",
    "<img src=\"https://www.fun-coding.org/00_Images/BFSDFS.png\" width=400>\n"
   ]
  },
  {
   "cell_type": "markdown",
   "id": "a25b3f98",
   "metadata": {},
   "source": [
    "***그래프를 파이썬으로 표현하는 법***\n",
    "- 각 노드를 키로, 노드에 연결된 edge들를 value로 하는 딕셔너리 생성\n",
    "<img src=\"https://www.fun-coding.org/00_Images/bfsgraph.png\" width=400>"
   ]
  },
  {
   "cell_type": "code",
   "execution_count": 16,
   "id": "f5879d22",
   "metadata": {},
   "outputs": [
    {
     "data": {
      "text/plain": [
       "{'A': ['B', 'C'],\n",
       " 'B': ['A', 'D'],\n",
       " 'C': ['A', 'G', 'H', 'I'],\n",
       " 'D': ['B', 'E', 'F'],\n",
       " 'E': ['D'],\n",
       " 'F': ['D'],\n",
       " 'G': ['C'],\n",
       " 'H': ['C'],\n",
       " 'I': ['C', 'J'],\n",
       " 'J': ['I']}"
      ]
     },
     "execution_count": 16,
     "metadata": {},
     "output_type": "execute_result"
    }
   ],
   "source": [
    "graph = {}\n",
    "\n",
    "graph['A'] = ['B','C']\n",
    "graph['B'] = ['A','D']\n",
    "graph['C'] = ['A','G','H','I']\n",
    "graph['D'] = ['B','E','F']\n",
    "graph['E'] = ['D']\n",
    "graph['F'] = ['D']\n",
    "graph['G'] = ['C']\n",
    "graph['H'] = ['C']\n",
    "graph['I'] = ['C','J']\n",
    "graph['J'] = ['I']\n",
    "\n",
    "graph"
   ]
  },
  {
   "cell_type": "markdown",
   "id": "212aabf7",
   "metadata": {},
   "source": [
    "#### A. BFS (Breath First Search, 너비 우선 탐색)"
   ]
  },
  {
   "cell_type": "markdown",
   "id": "e19c53a2",
   "metadata": {},
   "source": [
    "- 자료구조 큐를 활용함\n",
    "  - **need_visit 큐와 visited 큐, 두 개의 큐를 생성**\n",
    "  - need_visit 큐에서 맨 처음에 있는 데이터를 꺼냄\n",
    "  - 첫 key 입력 -> 매칭되는 value가 need_visit_queue로 이동 -> 그게 다시 키가 되면서 visited_queue에 없으면 추가, 있으면  need_visit큐의 다음 원소로 이동!\n",
    "  \n",
    "<img src=\"https://www.fun-coding.org/00_Images/bfsqueue.png\" width=400>"
   ]
  },
  {
   "cell_type": "code",
   "execution_count": 21,
   "id": "36d926c4",
   "metadata": {},
   "outputs": [],
   "source": [
    "def bfs(graph, start_node):\n",
    "    visited = []\n",
    "    need_visit = []\n",
    "    \n",
    "    need_visit.append(start_node)\n",
    "    \n",
    "    while need_visit: # 더이상 점검할 키가 없을 때까지\n",
    "        node = need_visit.pop(0)\n",
    "        if node in visited:\n",
    "            pass\n",
    "        else:\n",
    "            visited.append(node)\n",
    "            need_visit.extend(graph[node]) # [] + [] = []\n",
    "    return visited"
   ]
  },
  {
   "cell_type": "code",
   "execution_count": 22,
   "id": "4192b155",
   "metadata": {
    "scrolled": true
   },
   "outputs": [
    {
     "data": {
      "text/plain": [
       "['A', 'B', 'C', 'D', 'G', 'H', 'I', 'E', 'F', 'J']"
      ]
     },
     "execution_count": 22,
     "metadata": {},
     "output_type": "execute_result"
    }
   ],
   "source": [
    "bfs(graph, 'A')"
   ]
  },
  {
   "cell_type": "markdown",
   "id": "9e0209f2",
   "metadata": {},
   "source": [
    "***시간 복잡도***\n",
    "\n",
    "- need_visit이 수행되는 횟수가 곧 시간 복잡도. 일반적인 BFS는 **노드수(V)+간선수(E)**번 만큼 수행"
   ]
  },
  {
   "cell_type": "markdown",
   "id": "68e3c4b4",
   "metadata": {},
   "source": [
    "#### B. DFS (Depth First Search, 깊이 우선 탐색)\n",
    "\n",
    "- 자료구조 스택과 큐를 활용함\n",
    "  - **need_visit 스택과 visited 큐, 두 개의 자료 구조를 생성**\n",
    "  - need_visit 스택에서 맨 마지막에 있는 데이터를 꺼냄"
   ]
  },
  {
   "cell_type": "code",
   "execution_count": 23,
   "id": "99124094",
   "metadata": {},
   "outputs": [],
   "source": [
    "def dfs(graph, start_node):\n",
    "    visited = []\n",
    "    need_visit = []\n",
    "    \n",
    "    need_visit.append(start_node)\n",
    "    \n",
    "    while need_visit:\n",
    "        node = need_visit.pop() # 맨 마지막에 있는 노드 꺼내기\n",
    "        if node in visited:\n",
    "            pass\n",
    "        else:\n",
    "            visited.append(node)\n",
    "            need_visit.extend(graph[node])\n",
    "    return visited"
   ]
  },
  {
   "cell_type": "code",
   "execution_count": 24,
   "id": "b8ecd46c",
   "metadata": {},
   "outputs": [
    {
     "data": {
      "text/plain": [
       "['A', 'C', 'I', 'J', 'H', 'G', 'B', 'D', 'F', 'E']"
      ]
     },
     "execution_count": 24,
     "metadata": {},
     "output_type": "execute_result"
    }
   ],
   "source": [
    "dfs(graph, 'A')"
   ]
  },
  {
   "cell_type": "markdown",
   "id": "8762a97e",
   "metadata": {},
   "source": [
    "***시간 복잡도***\n",
    "\n",
    "- need_visit이 수행되는 횟수가 곧 시간 복잡도. 일반적인 BFS는 **노드수(V)+간선수(E)**번 만큼 수행"
   ]
  },
  {
   "cell_type": "code",
   "execution_count": null,
   "id": "91d73ac1",
   "metadata": {},
   "outputs": [],
   "source": []
  }
 ],
 "metadata": {
  "kernelspec": {
   "display_name": "Python 3",
   "language": "python",
   "name": "python3"
  },
  "language_info": {
   "codemirror_mode": {
    "name": "ipython",
    "version": 3
   },
   "file_extension": ".py",
   "mimetype": "text/x-python",
   "name": "python",
   "nbconvert_exporter": "python",
   "pygments_lexer": "ipython3",
   "version": "3.7.10"
  }
 },
 "nbformat": 4,
 "nbformat_minor": 5
}
